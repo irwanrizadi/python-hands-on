{
 "cells": [
  {
   "cell_type": "code",
   "execution_count": 35,
   "metadata": {},
   "outputs": [],
   "source": [
    "import pandas as pd\n",
    "import numpy as np\n",
    "\n",
    "import statsmodels.formula.api as smf\n",
    "import statsmodels.api as sm\n",
    "from sklearn.linear_model import LinearRegression\n",
    "import matplotlib.pyplot as plt\n",
    "import seaborn as sns\n",
    "from statsmodels.stats.outliers_influence import variance_inflation_factor\n",
    "import statsmodels.stats.api as sms\n",
    "from statsmodels.compat import lzip\n",
    "\n",
    "\n",
    "%matplotlib inline"
   ]
  },
  {
   "cell_type": "code",
   "execution_count": 62,
   "metadata": {},
   "outputs": [
    {
     "data": {
      "text/html": [
       "<div>\n",
       "<style scoped>\n",
       "    .dataframe tbody tr th:only-of-type {\n",
       "        vertical-align: middle;\n",
       "    }\n",
       "\n",
       "    .dataframe tbody tr th {\n",
       "        vertical-align: top;\n",
       "    }\n",
       "\n",
       "    .dataframe thead th {\n",
       "        text-align: right;\n",
       "    }\n",
       "</style>\n",
       "<table border=\"1\" class=\"dataframe\">\n",
       "  <thead>\n",
       "    <tr style=\"text-align: right;\">\n",
       "      <th></th>\n",
       "      <th>yitemrevenue</th>\n",
       "      <th>xcartadd</th>\n",
       "      <th>xcartuniqadd</th>\n",
       "      <th>xcartaddtotalrs</th>\n",
       "      <th>xcartremove</th>\n",
       "      <th>xcardtremovetotal</th>\n",
       "      <th>xcardtremovetotalrs</th>\n",
       "      <th>xproductviews</th>\n",
       "      <th>xuniqprodview</th>\n",
       "      <th>xprodviewinrs</th>\n",
       "    </tr>\n",
       "  </thead>\n",
       "  <tbody>\n",
       "    <tr>\n",
       "      <th>0</th>\n",
       "      <td>39215.93</td>\n",
       "      <td>614</td>\n",
       "      <td>503</td>\n",
       "      <td>752186</td>\n",
       "      <td>10</td>\n",
       "      <td>10</td>\n",
       "      <td>11990</td>\n",
       "      <td>24306</td>\n",
       "      <td>20498</td>\n",
       "      <td>299</td>\n",
       "    </tr>\n",
       "    <tr>\n",
       "      <th>1</th>\n",
       "      <td>23819.47</td>\n",
       "      <td>833</td>\n",
       "      <td>622</td>\n",
       "      <td>425667</td>\n",
       "      <td>8</td>\n",
       "      <td>5</td>\n",
       "      <td>3992</td>\n",
       "      <td>11171</td>\n",
       "      <td>8718</td>\n",
       "      <td>571</td>\n",
       "    </tr>\n",
       "    <tr>\n",
       "      <th>2</th>\n",
       "      <td>4415.45</td>\n",
       "      <td>122</td>\n",
       "      <td>101</td>\n",
       "      <td>121878</td>\n",
       "      <td>2</td>\n",
       "      <td>2</td>\n",
       "      <td>1998</td>\n",
       "      <td>6926</td>\n",
       "      <td>6017</td>\n",
       "      <td>6919074</td>\n",
       "    </tr>\n",
       "    <tr>\n",
       "      <th>3</th>\n",
       "      <td>57435.56</td>\n",
       "      <td>239</td>\n",
       "      <td>196</td>\n",
       "      <td>609761</td>\n",
       "      <td>2</td>\n",
       "      <td>2</td>\n",
       "      <td>4998</td>\n",
       "      <td>11250</td>\n",
       "      <td>9733</td>\n",
       "      <td>2834</td>\n",
       "    </tr>\n",
       "    <tr>\n",
       "      <th>4</th>\n",
       "      <td>0.00</td>\n",
       "      <td>32</td>\n",
       "      <td>22</td>\n",
       "      <td>58488</td>\n",
       "      <td>0</td>\n",
       "      <td>0</td>\n",
       "      <td>0</td>\n",
       "      <td>872</td>\n",
       "      <td>764</td>\n",
       "      <td>1745628</td>\n",
       "    </tr>\n",
       "  </tbody>\n",
       "</table>\n",
       "</div>"
      ],
      "text/plain": [
       "   yitemrevenue  xcartadd  xcartuniqadd  xcartaddtotalrs  xcartremove  \\\n",
       "0      39215.93       614           503           752186           10   \n",
       "1      23819.47       833           622           425667            8   \n",
       "2       4415.45       122           101           121878            2   \n",
       "3      57435.56       239           196           609761            2   \n",
       "4          0.00        32            22            58488            0   \n",
       "\n",
       "   xcardtremovetotal  xcardtremovetotalrs  xproductviews  xuniqprodview  \\\n",
       "0                 10                11990          24306          20498   \n",
       "1                  5                 3992          11171           8718   \n",
       "2                  2                 1998           6926           6017   \n",
       "3                  2                 4998          11250           9733   \n",
       "4                  0                    0            872            764   \n",
       "\n",
       "   xprodviewinrs  \n",
       "0            299  \n",
       "1            571  \n",
       "2        6919074  \n",
       "3           2834  \n",
       "4        1745628  "
      ]
     },
     "execution_count": 62,
     "metadata": {},
     "output_type": "execute_result"
    }
   ],
   "source": [
    "data=pd.read_csv('D:/product_revenue.csv')\n",
    "data.head()"
   ]
  },
  {
   "cell_type": "code",
   "execution_count": 5,
   "metadata": {},
   "outputs": [
    {
     "data": {
      "text/plain": [
       "yitemrevenue           0\n",
       "xcartadd               0\n",
       "xcartuniqadd           0\n",
       "xcartaddtotalrs        0\n",
       "xcartremove            0\n",
       "xcardtremovetotal      0\n",
       "xcardtremovetotalrs    0\n",
       "xproductviews          0\n",
       "xuniqprodview          0\n",
       "xprodviewinrs          0\n",
       "dtype: int64"
      ]
     },
     "execution_count": 5,
     "metadata": {},
     "output_type": "execute_result"
    }
   ],
   "source": [
    "data.isnull().sum()"
   ]
  },
  {
   "cell_type": "code",
   "execution_count": 7,
   "metadata": {},
   "outputs": [
    {
     "data": {
      "text/plain": [
       "(92, 10)"
      ]
     },
     "execution_count": 7,
     "metadata": {},
     "output_type": "execute_result"
    }
   ],
   "source": [
    "data.shape"
   ]
  },
  {
   "cell_type": "code",
   "execution_count": 10,
   "metadata": {},
   "outputs": [
    {
     "data": {
      "text/plain": [
       "array([[<matplotlib.axes._subplots.AxesSubplot object at 0x00000232FD37B208>]],\n",
       "      dtype=object)"
      ]
     },
     "execution_count": 10,
     "metadata": {},
     "output_type": "execute_result"
    },
    {
     "data": {
      "image/png": "[encoded data removed]",
      "text/plain": [
       "<matplotlib.figure.Figure at 0x232fcdddf98>"
      ]
     },
     "metadata": {},
     "output_type": "display_data"
    },
    {
     "data": {
      "image/png": "[encoded data removed]",
      "text/plain": [
       "<matplotlib.figure.Figure at 0x232fcdddf60>"
      ]
     },
     "metadata": {},
     "output_type": "display_data"
    },
    {
     "data": {
      "image/png": "[encoded data removed]",
      "text/plain": [
       "<matplotlib.figure.Figure at 0x232fd113fd0>"
      ]
     },
     "metadata": {},
     "output_type": "display_data"
    },
    {
     "data": {
      "image/png": "[encoded data removed]",
      "text/plain": [
       "<matplotlib.figure.Figure at 0x232fd0c6860>"
      ]
     },
     "metadata": {},
     "output_type": "display_data"
    },
    {
     "data": {
      "image/png": "[encoded data removed]",
      "text/plain": [
       "<matplotlib.figure.Figure at 0x232fd1bb5f8>"
      ]
     },
     "metadata": {},
     "output_type": "display_data"
    },
    {
     "data": {
      "image/png": "[encoded data removed]",
      "text/plain": [
       "<matplotlib.figure.Figure at 0x232fd16beb8>"
      ]
     },
     "metadata": {},
     "output_type": "display_data"
    },
    {
     "data": {
      "image/png": "[encoded data removed]",
      "text/plain": [
       "<matplotlib.figure.Figure at 0x232fd1bb860>"
      ]
     },
     "metadata": {},
     "output_type": "display_data"
    },
    {
     "data": {
      "image/png": "[encoded data removed]",
      "text/plain": [
       "<matplotlib.figure.Figure at 0x232fd2117b8>"
      ]
     },
     "metadata": {},
     "output_type": "display_data"
    },
    {
     "data": {
      "image/png": "[encoded data removed]",
      "text/plain": [
       "<matplotlib.figure.Figure at 0x232fd2698d0>"
      ]
     },
     "metadata": {},
     "output_type": "display_data"
    },
    {
     "data": {
      "image/png": "[encoded data removed]",
      "text/plain": [
       "<matplotlib.figure.Figure at 0x232fd2b1d68>"
      ]
     },
     "metadata": {},
     "output_type": "display_data"
    }
   ],
   "source": [
    "data.hist('yitemrevenue')\n",
    "data.hist('xcartadd')\n",
    "data.hist('xcartuniqadd')\n",
    "data.hist('xcartaddtotalrs')\n",
    "data.hist('xcartremove')\n",
    "data.hist('xcardtremovetotal')\n",
    "data.hist('xcardtremovetotalrs')\n",
    "data.hist('xproductviews')\n",
    "data.hist('xuniqprodview')\n",
    "data.hist('xprodviewinrs')"
   ]
  },
  {
   "cell_type": "code",
   "execution_count": 12,
   "metadata": {},
   "outputs": [
    {
     "data": {
      "text/html": [
       "<div>\n",
       "<style scoped>\n",
       "    .dataframe tbody tr th:only-of-type {\n",
       "        vertical-align: middle;\n",
       "    }\n",
       "\n",
       "    .dataframe tbody tr th {\n",
       "        vertical-align: top;\n",
       "    }\n",
       "\n",
       "    .dataframe thead th {\n",
       "        text-align: right;\n",
       "    }\n",
       "</style>\n",
       "<table border=\"1\" class=\"dataframe\">\n",
       "  <thead>\n",
       "    <tr style=\"text-align: right;\">\n",
       "      <th></th>\n",
       "      <th>yitemrevenue</th>\n",
       "      <th>xcartadd</th>\n",
       "      <th>xcartuniqadd</th>\n",
       "      <th>xcartaddtotalrs</th>\n",
       "      <th>xcartremove</th>\n",
       "      <th>xcardtremovetotal</th>\n",
       "      <th>xcardtremovetotalrs</th>\n",
       "      <th>xproductviews</th>\n",
       "      <th>xuniqprodview</th>\n",
       "      <th>xprodviewinrs</th>\n",
       "    </tr>\n",
       "  </thead>\n",
       "  <tbody>\n",
       "    <tr>\n",
       "      <th>count</th>\n",
       "      <td>92.000000</td>\n",
       "      <td>92.000000</td>\n",
       "      <td>92.000000</td>\n",
       "      <td>92.000000</td>\n",
       "      <td>92.000000</td>\n",
       "      <td>92.000000</td>\n",
       "      <td>92.000000</td>\n",
       "      <td>92.000000</td>\n",
       "      <td>92.000000</td>\n",
       "      <td>9.200000e+01</td>\n",
       "    </tr>\n",
       "    <tr>\n",
       "      <th>mean</th>\n",
       "      <td>3679.082174</td>\n",
       "      <td>39.500000</td>\n",
       "      <td>30.347826</td>\n",
       "      <td>48131.826087</td>\n",
       "      <td>1.423913</td>\n",
       "      <td>0.880435</td>\n",
       "      <td>1962.402174</td>\n",
       "      <td>1331.576087</td>\n",
       "      <td>1084.891304</td>\n",
       "      <td>1.380471e+06</td>\n",
       "    </tr>\n",
       "    <tr>\n",
       "      <th>std</th>\n",
       "      <td>8120.313959</td>\n",
       "      <td>108.548819</td>\n",
       "      <td>84.138352</td>\n",
       "      <td>107360.991406</td>\n",
       "      <td>2.219958</td>\n",
       "      <td>1.546655</td>\n",
       "      <td>3526.679144</td>\n",
       "      <td>2951.472183</td>\n",
       "      <td>2483.228479</td>\n",
       "      <td>1.026994e+06</td>\n",
       "    </tr>\n",
       "    <tr>\n",
       "      <th>min</th>\n",
       "      <td>0.000000</td>\n",
       "      <td>0.000000</td>\n",
       "      <td>0.000000</td>\n",
       "      <td>0.000000</td>\n",
       "      <td>0.000000</td>\n",
       "      <td>0.000000</td>\n",
       "      <td>0.000000</td>\n",
       "      <td>334.000000</td>\n",
       "      <td>225.000000</td>\n",
       "      <td>2.990000e+02</td>\n",
       "    </tr>\n",
       "    <tr>\n",
       "      <th>25%</th>\n",
       "      <td>0.000000</td>\n",
       "      <td>7.750000</td>\n",
       "      <td>6.000000</td>\n",
       "      <td>11947.500000</td>\n",
       "      <td>0.000000</td>\n",
       "      <td>0.000000</td>\n",
       "      <td>0.000000</td>\n",
       "      <td>601.000000</td>\n",
       "      <td>472.250000</td>\n",
       "      <td>6.868305e+05</td>\n",
       "    </tr>\n",
       "    <tr>\n",
       "      <th>50%</th>\n",
       "      <td>1166.320000</td>\n",
       "      <td>15.000000</td>\n",
       "      <td>12.000000</td>\n",
       "      <td>22673.000000</td>\n",
       "      <td>0.000000</td>\n",
       "      <td>0.000000</td>\n",
       "      <td>0.000000</td>\n",
       "      <td>766.000000</td>\n",
       "      <td>614.500000</td>\n",
       "      <td>1.224656e+06</td>\n",
       "    </tr>\n",
       "    <tr>\n",
       "      <th>75%</th>\n",
       "      <td>3639.675000</td>\n",
       "      <td>29.000000</td>\n",
       "      <td>22.250000</td>\n",
       "      <td>46529.500000</td>\n",
       "      <td>2.000000</td>\n",
       "      <td>1.250000</td>\n",
       "      <td>2153.500000</td>\n",
       "      <td>905.000000</td>\n",
       "      <td>746.750000</td>\n",
       "      <td>1.746880e+06</td>\n",
       "    </tr>\n",
       "    <tr>\n",
       "      <th>max</th>\n",
       "      <td>57435.560000</td>\n",
       "      <td>833.000000</td>\n",
       "      <td>622.000000</td>\n",
       "      <td>752186.000000</td>\n",
       "      <td>10.000000</td>\n",
       "      <td>10.000000</td>\n",
       "      <td>15960.000000</td>\n",
       "      <td>24306.000000</td>\n",
       "      <td>20498.000000</td>\n",
       "      <td>6.919074e+06</td>\n",
       "    </tr>\n",
       "  </tbody>\n",
       "</table>\n",
       "</div>"
      ],
      "text/plain": [
       "       yitemrevenue    xcartadd  xcartuniqadd  xcartaddtotalrs  xcartremove  \\\n",
       "count     92.000000   92.000000     92.000000        92.000000    92.000000   \n",
       "mean    3679.082174   39.500000     30.347826     48131.826087     1.423913   \n",
       "std     8120.313959  108.548819     84.138352    107360.991406     2.219958   \n",
       "min        0.000000    0.000000      0.000000         0.000000     0.000000   \n",
       "25%        0.000000    7.750000      6.000000     11947.500000     0.000000   \n",
       "50%     1166.320000   15.000000     12.000000     22673.000000     0.000000   \n",
       "75%     3639.675000   29.000000     22.250000     46529.500000     2.000000   \n",
       "max    57435.560000  833.000000    622.000000    752186.000000    10.000000   \n",
       "\n",
       "       xcardtremovetotal  xcardtremovetotalrs  xproductviews  xuniqprodview  \\\n",
       "count          92.000000            92.000000      92.000000      92.000000   \n",
       "mean            0.880435          1962.402174    1331.576087    1084.891304   \n",
       "std             1.546655          3526.679144    2951.472183    2483.228479   \n",
       "min             0.000000             0.000000     334.000000     225.000000   \n",
       "25%             0.000000             0.000000     601.000000     472.250000   \n",
       "50%             0.000000             0.000000     766.000000     614.500000   \n",
       "75%             1.250000          2153.500000     905.000000     746.750000   \n",
       "max            10.000000         15960.000000   24306.000000   20498.000000   \n",
       "\n",
       "       xprodviewinrs  \n",
       "count   9.200000e+01  \n",
       "mean    1.380471e+06  \n",
       "std     1.026994e+06  \n",
       "min     2.990000e+02  \n",
       "25%     6.868305e+05  \n",
       "50%     1.224656e+06  \n",
       "75%     1.746880e+06  \n",
       "max     6.919074e+06  "
      ]
     },
     "execution_count": 12,
     "metadata": {},
     "output_type": "execute_result"
    }
   ],
   "source": [
    "data.describe()"
   ]
  },
  {
   "cell_type": "code",
   "execution_count": 16,
   "metadata": {},
   "outputs": [
    {
     "data": {
      "text/plain": [
       "<matplotlib.axes._subplots.AxesSubplot at 0x232fe67e400>"
      ]
     },
     "execution_count": 16,
     "metadata": {},
     "output_type": "execute_result"
    },
    {
     "data": {
      "image/png": "[encoded data removed]",
      "text/plain": [
       "<matplotlib.figure.Figure at 0x232fd3ce828>"
      ]
     },
     "metadata": {},
     "output_type": "display_data"
    }
   ],
   "source": [
    "data.plot.box()"
   ]
  },
  {
   "cell_type": "code",
   "execution_count": 17,
   "metadata": {},
   "outputs": [
    {
     "data": {
      "image/png": "[encoded data removed]",
      "text/plain": [
       "<matplotlib.figure.Figure at 0x232fd3726a0>"
      ]
     },
     "metadata": {},
     "output_type": "display_data"
    }
   ],
   "source": [
    "corr = data.corr()\n",
    "df = pd.DataFrame(data.corr())\n",
    "sns.heatmap(df, cmap='magma', linewidths=0.5, annot=True)\n",
    "plt.show()"
   ]
  },
  {
   "cell_type": "code",
   "execution_count": 18,
   "metadata": {},
   "outputs": [
    {
     "data": {
      "image/png": "[encoded data removed]",
      "text/plain": [
       "<matplotlib.figure.Figure at 0x232fd402fd0>"
      ]
     },
     "metadata": {},
     "output_type": "display_data"
    },
    {
     "data": {
      "image/png": "[encoded data removed]",
      "text/plain": [
       "<matplotlib.figure.Figure at 0x232fd43c9b0>"
      ]
     },
     "metadata": {},
     "output_type": "display_data"
    },
    {
     "data": {
      "image/png": "[encoded data removed]",
      "text/plain": [
       "<matplotlib.figure.Figure at 0x232fd186b00>"
      ]
     },
     "metadata": {},
     "output_type": "display_data"
    },
    {
     "data": {
      "image/png": "[encoded data removed]",
      "text/plain": [
       "<matplotlib.figure.Figure at 0x232fcd625c0>"
      ]
     },
     "metadata": {},
     "output_type": "display_data"
    },
    {
     "data": {
      "image/png": "[encoded data removed]",
      "text/plain": [
       "<matplotlib.figure.Figure at 0x232fc99def0>"
      ]
     },
     "metadata": {},
     "output_type": "display_data"
    },
    {
     "data": {
      "image/png": "[encoded data removed]",
      "text/plain": [
       "<matplotlib.figure.Figure at 0x232fd29afd0>"
      ]
     },
     "metadata": {},
     "output_type": "display_data"
    },
    {
     "data": {
      "image/png": "[encoded data removed]",
      "text/plain": [
       "<matplotlib.figure.Figure at 0x232fd18c128>"
      ]
     },
     "metadata": {},
     "output_type": "display_data"
    },
    {
     "data": {
      "image/png": "[encoded data removed]",
      "text/plain": [
       "<matplotlib.figure.Figure at 0x232fd2a2a90>"
      ]
     },
     "metadata": {},
     "output_type": "display_data"
    },
    {
     "data": {
      "image/png": "[encoded data removed]",
      "text/plain": [
       "<matplotlib.figure.Figure at 0x232fd136c50>"
      ]
     },
     "metadata": {},
     "output_type": "display_data"
    },
    {
     "data": {
      "image/png": "[encoded data removed]",
      "text/plain": [
       "<matplotlib.figure.Figure at 0x232fd0f6dd8>"
      ]
     },
     "metadata": {},
     "output_type": "display_data"
    }
   ],
   "source": [
    "plt.scatter(x='xcartadd',y='yitemrevenue',data=data,color='m',marker='o',s=30)\n",
    "plt.show()\n",
    "plt.scatter(x='xcartuniqadd',y='yitemrevenue',data=data,color='red',marker='o',s=30)\n",
    "plt.show()\n",
    "plt.scatter(x='xcartaddtotalrs',y='yitemrevenue',data=data,color='m',marker='o',s=30)\n",
    "plt.show()\n",
    "plt.scatter(x='xcartremove',y='yitemrevenue',data=data,color='red',marker='o',s=30)\n",
    "plt.show()\n",
    "plt.scatter(x='xcardtremovetotal',y='yitemrevenue',data=data,color='m',marker='o',s=30)\n",
    "plt.show()\n",
    "plt.scatter(x='xcardtremovetotalrs',y='yitemrevenue',data=data,color='red',marker='o',s=30)\n",
    "plt.show()\n",
    "plt.scatter(x='xcardtremovetotalrs',y='yitemrevenue',data=data,color='m',marker='o',s=30)\n",
    "plt.show()\n",
    "plt.scatter(x='xproductviews',y='yitemrevenue',data=data,color='red',marker='o',s=30)\n",
    "plt.show()\n",
    "plt.scatter(x='xuniqprodview',y='yitemrevenue',data=data,color='m',marker='o',s=30)\n",
    "plt.show()\n",
    "plt.scatter(x='xprodviewinrs',y='yitemrevenue',data=data,color='red',marker='o',s=30)\n",
    "plt.show()\n"
   ]
  },
  {
   "cell_type": "code",
   "execution_count": 22,
   "metadata": {},
   "outputs": [
    {
     "data": {
      "text/html": [
       "<div>\n",
       "<style scoped>\n",
       "    .dataframe tbody tr th:only-of-type {\n",
       "        vertical-align: middle;\n",
       "    }\n",
       "\n",
       "    .dataframe tbody tr th {\n",
       "        vertical-align: top;\n",
       "    }\n",
       "\n",
       "    .dataframe thead th {\n",
       "        text-align: right;\n",
       "    }\n",
       "</style>\n",
       "<table border=\"1\" class=\"dataframe\">\n",
       "  <thead>\n",
       "    <tr style=\"text-align: right;\">\n",
       "      <th></th>\n",
       "      <th>yitemrevenue</th>\n",
       "      <th>xcartadd</th>\n",
       "      <th>xcartuniqadd</th>\n",
       "      <th>xcartaddtotalrs</th>\n",
       "      <th>xcartremove</th>\n",
       "      <th>xcardtremovetotal</th>\n",
       "      <th>xcardtremovetotalrs</th>\n",
       "      <th>xproductviews</th>\n",
       "      <th>xuniqprodview</th>\n",
       "      <th>xprodviewinrs</th>\n",
       "    </tr>\n",
       "  </thead>\n",
       "  <tbody>\n",
       "    <tr>\n",
       "      <th>2</th>\n",
       "      <td>4415.45</td>\n",
       "      <td>122</td>\n",
       "      <td>101</td>\n",
       "      <td>121878</td>\n",
       "      <td>2</td>\n",
       "      <td>2</td>\n",
       "      <td>1998</td>\n",
       "      <td>6926</td>\n",
       "      <td>6017</td>\n",
       "      <td>6919074</td>\n",
       "    </tr>\n",
       "    <tr>\n",
       "      <th>4</th>\n",
       "      <td>0.00</td>\n",
       "      <td>32</td>\n",
       "      <td>22</td>\n",
       "      <td>58488</td>\n",
       "      <td>0</td>\n",
       "      <td>0</td>\n",
       "      <td>0</td>\n",
       "      <td>872</td>\n",
       "      <td>764</td>\n",
       "      <td>1745628</td>\n",
       "    </tr>\n",
       "    <tr>\n",
       "      <th>5</th>\n",
       "      <td>9181.90</td>\n",
       "      <td>79</td>\n",
       "      <td>56</td>\n",
       "      <td>63121</td>\n",
       "      <td>2</td>\n",
       "      <td>1</td>\n",
       "      <td>1598</td>\n",
       "      <td>1587</td>\n",
       "      <td>1232</td>\n",
       "      <td>1281213</td>\n",
       "    </tr>\n",
       "    <tr>\n",
       "      <th>6</th>\n",
       "      <td>4135.44</td>\n",
       "      <td>23</td>\n",
       "      <td>22</td>\n",
       "      <td>35857</td>\n",
       "      <td>0</td>\n",
       "      <td>0</td>\n",
       "      <td>0</td>\n",
       "      <td>1075</td>\n",
       "      <td>842</td>\n",
       "      <td>1685285</td>\n",
       "    </tr>\n",
       "    <tr>\n",
       "      <th>7</th>\n",
       "      <td>8906.24</td>\n",
       "      <td>82</td>\n",
       "      <td>54</td>\n",
       "      <td>104078</td>\n",
       "      <td>4</td>\n",
       "      <td>3</td>\n",
       "      <td>5036</td>\n",
       "      <td>1214</td>\n",
       "      <td>848</td>\n",
       "      <td>1554466</td>\n",
       "    </tr>\n",
       "  </tbody>\n",
       "</table>\n",
       "</div>"
      ],
      "text/plain": [
       "   yitemrevenue  xcartadd  xcartuniqadd  xcartaddtotalrs  xcartremove  \\\n",
       "2       4415.45       122           101           121878            2   \n",
       "4          0.00        32            22            58488            0   \n",
       "5       9181.90        79            56            63121            2   \n",
       "6       4135.44        23            22            35857            0   \n",
       "7       8906.24        82            54           104078            4   \n",
       "\n",
       "   xcardtremovetotal  xcardtremovetotalrs  xproductviews  xuniqprodview  \\\n",
       "2                  2                 1998           6926           6017   \n",
       "4                  0                    0            872            764   \n",
       "5                  1                 1598           1587           1232   \n",
       "6                  0                    0           1075            842   \n",
       "7                  3                 5036           1214            848   \n",
       "\n",
       "   xprodviewinrs  \n",
       "2        6919074  \n",
       "4        1745628  \n",
       "5        1281213  \n",
       "6        1685285  \n",
       "7        1554466  "
      ]
     },
     "execution_count": 22,
     "metadata": {},
     "output_type": "execute_result"
    }
   ],
   "source": [
    "data1=data[data['yitemrevenue']<10000]\n",
    "data1.head()"
   ]
  },
  {
   "cell_type": "code",
   "execution_count": 41,
   "metadata": {},
   "outputs": [
    {
     "data": {
      "text/plain": [
       "<statsmodels.regression.linear_model.RegressionResultsWrapper at 0x232ff22b630>"
      ]
     },
     "execution_count": 41,
     "metadata": {},
     "output_type": "execute_result"
    }
   ],
   "source": [
    "lm=smf.ols(formula='yitemrevenue~xcartadd+xcartuniqadd+xcartaddtotalrs+xcartremove+xcardtremovetotal+xcardtremovetotalrs+xproductviews+xuniqprodview+xprodviewinrs',data=data).fit()\n",
    "lm"
   ]
  },
  {
   "cell_type": "code",
   "execution_count": 42,
   "metadata": {},
   "outputs": [
    {
     "data": {
      "text/plain": [
       "Intercept              -355.586874\n",
       "xcartadd                 89.550275\n",
       "xcartuniqadd           -161.127990\n",
       "xcartaddtotalrs           0.101343\n",
       "xcartremove             597.765916\n",
       "xcardtremovetotal     -1096.089776\n",
       "xcardtremovetotalrs      -0.291394\n",
       "xproductviews             6.796759\n",
       "xuniqprodview            -7.939607\n",
       "xprodviewinrs             0.000549\n",
       "dtype: float64"
      ]
     },
     "execution_count": 42,
     "metadata": {},
     "output_type": "execute_result"
    }
   ],
   "source": [
    "parameter=lm.params\n",
    "parameter"
   ]
  },
  {
   "cell_type": "code",
   "execution_count": 43,
   "metadata": {},
   "outputs": [
    {
     "data": {
      "text/html": [
       "<table class=\"simpletable\">\n",
       "<caption>OLS Regression Results</caption>\n",
       "<tr>\n",
       "  <th>Dep. Variable:</th>      <td>yitemrevenue</td>   <th>  R-squared:         </th> <td>   0.775</td>\n",
       "</tr>\n",
       "<tr>\n",
       "  <th>Model:</th>                   <td>OLS</td>       <th>  Adj. R-squared:    </th> <td>   0.750</td>\n",
       "</tr>\n",
       "<tr>\n",
       "  <th>Method:</th>             <td>Least Squares</td>  <th>  F-statistic:       </th> <td>   31.33</td>\n",
       "</tr>\n",
       "<tr>\n",
       "  <th>Date:</th>             <td>Mon, 11 Jun 2018</td> <th>  Prob (F-statistic):</th> <td>5.57e-23</td>\n",
       "</tr>\n",
       "<tr>\n",
       "  <th>Time:</th>                 <td>10:36:39</td>     <th>  Log-Likelihood:    </th> <td> -889.68</td>\n",
       "</tr>\n",
       "<tr>\n",
       "  <th>No. Observations:</th>      <td>    92</td>      <th>  AIC:               </th> <td>   1799.</td>\n",
       "</tr>\n",
       "<tr>\n",
       "  <th>Df Residuals:</th>          <td>    82</td>      <th>  BIC:               </th> <td>   1825.</td>\n",
       "</tr>\n",
       "<tr>\n",
       "  <th>Df Model:</th>              <td>     9</td>      <th>                     </th>     <td> </td>   \n",
       "</tr>\n",
       "<tr>\n",
       "  <th>Covariance Type:</th>      <td>nonrobust</td>    <th>                     </th>     <td> </td>   \n",
       "</tr>\n",
       "</table>\n",
       "<table class=\"simpletable\">\n",
       "<tr>\n",
       "           <td></td>              <th>coef</th>     <th>std err</th>      <th>t</th>      <th>P>|t|</th>  <th>[0.025</th>    <th>0.975]</th>  \n",
       "</tr>\n",
       "<tr>\n",
       "  <th>Intercept</th>           <td> -355.5869</td> <td>  946.178</td> <td>   -0.376</td> <td> 0.708</td> <td>-2237.836</td> <td> 1526.662</td>\n",
       "</tr>\n",
       "<tr>\n",
       "  <th>xcartadd</th>            <td>   89.5503</td> <td>  115.743</td> <td>    0.774</td> <td> 0.441</td> <td> -140.700</td> <td>  319.801</td>\n",
       "</tr>\n",
       "<tr>\n",
       "  <th>xcartuniqadd</th>        <td> -161.1280</td> <td>  158.434</td> <td>   -1.017</td> <td> 0.312</td> <td> -476.303</td> <td>  154.047</td>\n",
       "</tr>\n",
       "<tr>\n",
       "  <th>xcartaddtotalrs</th>     <td>    0.1013</td> <td>    0.013</td> <td>    7.549</td> <td> 0.000</td> <td>    0.075</td> <td>    0.128</td>\n",
       "</tr>\n",
       "<tr>\n",
       "  <th>xcartremove</th>         <td>  597.7659</td> <td>  528.214</td> <td>    1.132</td> <td> 0.261</td> <td> -453.021</td> <td> 1648.553</td>\n",
       "</tr>\n",
       "<tr>\n",
       "  <th>xcardtremovetotal</th>   <td>-1096.0898</td> <td>  796.820</td> <td>   -1.376</td> <td> 0.173</td> <td>-2681.219</td> <td>  489.039</td>\n",
       "</tr>\n",
       "<tr>\n",
       "  <th>xcardtremovetotalrs</th> <td>   -0.2914</td> <td>    0.267</td> <td>   -1.090</td> <td> 0.279</td> <td>   -0.823</td> <td>    0.240</td>\n",
       "</tr>\n",
       "<tr>\n",
       "  <th>xproductviews</th>       <td>    6.7968</td> <td>   10.047</td> <td>    0.676</td> <td> 0.501</td> <td>  -13.190</td> <td>   26.784</td>\n",
       "</tr>\n",
       "<tr>\n",
       "  <th>xuniqprodview</th>       <td>   -7.9396</td> <td>   11.417</td> <td>   -0.695</td> <td> 0.489</td> <td>  -30.651</td> <td>   14.772</td>\n",
       "</tr>\n",
       "<tr>\n",
       "  <th>xprodviewinrs</th>       <td>    0.0005</td> <td>    0.000</td> <td>    1.159</td> <td> 0.250</td> <td>   -0.000</td> <td>    0.001</td>\n",
       "</tr>\n",
       "</table>\n",
       "<table class=\"simpletable\">\n",
       "<tr>\n",
       "  <th>Omnibus:</th>       <td>53.835</td> <th>  Durbin-Watson:     </th> <td>   1.862</td>\n",
       "</tr>\n",
       "<tr>\n",
       "  <th>Prob(Omnibus):</th> <td> 0.000</td> <th>  Jarque-Bera (JB):  </th> <td> 313.068</td>\n",
       "</tr>\n",
       "<tr>\n",
       "  <th>Skew:</th>          <td> 1.714</td> <th>  Prob(JB):          </th> <td>1.04e-68</td>\n",
       "</tr>\n",
       "<tr>\n",
       "  <th>Kurtosis:</th>      <td>11.362</td> <th>  Cond. No.          </th> <td>4.04e+06</td>\n",
       "</tr>\n",
       "</table>"
      ],
      "text/plain": [
       "<class 'statsmodels.iolib.summary.Summary'>\n",
       "\"\"\"\n",
       "                            OLS Regression Results                            \n",
       "==============================================================================\n",
       "Dep. Variable:           yitemrevenue   R-squared:                       0.775\n",
       "Model:                            OLS   Adj. R-squared:                  0.750\n",
       "Method:                 Least Squares   F-statistic:                     31.33\n",
       "Date:                Mon, 11 Jun 2018   Prob (F-statistic):           5.57e-23\n",
       "Time:                        10:36:39   Log-Likelihood:                -889.68\n",
       "No. Observations:                  92   AIC:                             1799.\n",
       "Df Residuals:                      82   BIC:                             1825.\n",
       "Df Model:                           9                                         \n",
       "Covariance Type:            nonrobust                                         \n",
       "=======================================================================================\n",
       "                          coef    std err          t      P>|t|      [0.025      0.975]\n",
       "---------------------------------------------------------------------------------------\n",
       "Intercept            -355.5869    946.178     -0.376      0.708   -2237.836    1526.662\n",
       "xcartadd               89.5503    115.743      0.774      0.441    -140.700     319.801\n",
       "xcartuniqadd         -161.1280    158.434     -1.017      0.312    -476.303     154.047\n",
       "xcartaddtotalrs         0.1013      0.013      7.549      0.000       0.075       0.128\n",
       "xcartremove           597.7659    528.214      1.132      0.261    -453.021    1648.553\n",
       "xcardtremovetotal   -1096.0898    796.820     -1.376      0.173   -2681.219     489.039\n",
       "xcardtremovetotalrs    -0.2914      0.267     -1.090      0.279      -0.823       0.240\n",
       "xproductviews           6.7968     10.047      0.676      0.501     -13.190      26.784\n",
       "xuniqprodview          -7.9396     11.417     -0.695      0.489     -30.651      14.772\n",
       "xprodviewinrs           0.0005      0.000      1.159      0.250      -0.000       0.001\n",
       "==============================================================================\n",
       "Omnibus:                       53.835   Durbin-Watson:                   1.862\n",
       "Prob(Omnibus):                  0.000   Jarque-Bera (JB):              313.068\n",
       "Skew:                           1.714   Prob(JB):                     1.04e-68\n",
       "Kurtosis:                      11.362   Cond. No.                     4.04e+06\n",
       "==============================================================================\n",
       "\n",
       "Warnings:\n",
       "[1] Standard Errors assume that the covariance matrix of the errors is correctly specified.\n",
       "[2] The condition number is large, 4.04e+06. This might indicate that there are\n",
       "strong multicollinearity or other numerical problems.\n",
       "\"\"\""
      ]
     },
     "execution_count": 43,
     "metadata": {},
     "output_type": "execute_result"
    }
   ],
   "source": [
    "lm.summary()"
   ]
  },
  {
   "cell_type": "code",
   "execution_count": 44,
   "metadata": {
    "scrolled": true
   },
   "outputs": [
    {
     "data": {
      "text/html": [
       "<div>\n",
       "<style scoped>\n",
       "    .dataframe tbody tr th:only-of-type {\n",
       "        vertical-align: middle;\n",
       "    }\n",
       "\n",
       "    .dataframe tbody tr th {\n",
       "        vertical-align: top;\n",
       "    }\n",
       "\n",
       "    .dataframe thead th {\n",
       "        text-align: right;\n",
       "    }\n",
       "</style>\n",
       "<table border=\"1\" class=\"dataframe\">\n",
       "  <thead>\n",
       "    <tr style=\"text-align: right;\">\n",
       "      <th></th>\n",
       "      <th>VIF Factor</th>\n",
       "      <th>features</th>\n",
       "    </tr>\n",
       "  </thead>\n",
       "  <tbody>\n",
       "    <tr>\n",
       "      <th>0</th>\n",
       "      <td>5.4</td>\n",
       "      <td>yitemrevenue</td>\n",
       "    </tr>\n",
       "    <tr>\n",
       "      <th>1</th>\n",
       "      <td>994.0</td>\n",
       "      <td>xcartadd</td>\n",
       "    </tr>\n",
       "    <tr>\n",
       "      <th>2</th>\n",
       "      <td>1112.4</td>\n",
       "      <td>xcartuniqadd</td>\n",
       "    </tr>\n",
       "    <tr>\n",
       "      <th>3</th>\n",
       "      <td>21.9</td>\n",
       "      <td>xcartaddtotalrs</td>\n",
       "    </tr>\n",
       "    <tr>\n",
       "      <th>4</th>\n",
       "      <td>9.5</td>\n",
       "      <td>xcartremove</td>\n",
       "    </tr>\n",
       "    <tr>\n",
       "      <th>5</th>\n",
       "      <td>11.3</td>\n",
       "      <td>xcardtremovetotal</td>\n",
       "    </tr>\n",
       "    <tr>\n",
       "      <th>6</th>\n",
       "      <td>6.1</td>\n",
       "      <td>xcardtremovetotalrs</td>\n",
       "    </tr>\n",
       "    <tr>\n",
       "      <th>7</th>\n",
       "      <td>4811.5</td>\n",
       "      <td>xproductviews</td>\n",
       "    </tr>\n",
       "    <tr>\n",
       "      <th>8</th>\n",
       "      <td>4333.9</td>\n",
       "      <td>xuniqprodview</td>\n",
       "    </tr>\n",
       "    <tr>\n",
       "      <th>9</th>\n",
       "      <td>2.0</td>\n",
       "      <td>xprodviewinrs</td>\n",
       "    </tr>\n",
       "  </tbody>\n",
       "</table>\n",
       "</div>"
      ],
      "text/plain": [
       "   VIF Factor             features\n",
       "0         5.4         yitemrevenue\n",
       "1       994.0             xcartadd\n",
       "2      1112.4         xcartuniqadd\n",
       "3        21.9      xcartaddtotalrs\n",
       "4         9.5          xcartremove\n",
       "5        11.3    xcardtremovetotal\n",
       "6         6.1  xcardtremovetotalrs\n",
       "7      4811.5        xproductviews\n",
       "8      4333.9        xuniqprodview\n",
       "9         2.0        xprodviewinrs"
      ]
     },
     "execution_count": 44,
     "metadata": {},
     "output_type": "execute_result"
    }
   ],
   "source": [
    "#check for multicolinearity\n",
    "vif = pd.DataFrame()\n",
    "vif[\"VIF Factor\"] = [variance_inflation_factor(data.values, i) for i in range(data.shape[1])]\n",
    "vif[\"features\"] = data1.columns\n",
    "vif.round(1)"
   ]
  },
  {
   "cell_type": "code",
   "execution_count": 45,
   "metadata": {},
   "outputs": [
    {
     "data": {
      "text/plain": [
       "(0.2916943373907659, 0.9998175289182352, 'increasing')"
      ]
     },
     "execution_count": 45,
     "metadata": {},
     "output_type": "execute_result"
    }
   ],
   "source": [
    "#test for heteroscedasity\n",
    "test=sms.het_goldfeldquandt(lm.resid,lm.model.exog)\n",
    "test"
   ]
  },
  {
   "cell_type": "code",
   "execution_count": 46,
   "metadata": {},
   "outputs": [
    {
     "data": {
      "image/png": "[encoded data removed]",
      "text/plain": [
       "<matplotlib.figure.Figure at 0x232ff2205c0>"
      ]
     },
     "metadata": {},
     "output_type": "display_data"
    }
   ],
   "source": [
    "plt.figure(figsize=(10,6))\n",
    "plt.scatter(lm.predict(), lm.resid, s = 5.5, color='r')\n",
    "plt.show()"
   ]
  },
  {
   "cell_type": "code",
   "execution_count": 47,
   "metadata": {},
   "outputs": [
    {
     "data": {
      "text/plain": [
       "Text(0.5,1,'Plot Residual Normality')"
      ]
     },
     "execution_count": 47,
     "metadata": {},
     "output_type": "execute_result"
    },
    {
     "data": {
      "image/png": "[encoded data removed]",
      "text/plain": [
       "<matplotlib.figure.Figure at 0x232ff220710>"
      ]
     },
     "metadata": {},
     "output_type": "display_data"
    }
   ],
   "source": [
    "sns.distplot(lm.resid, hist=True)\n",
    "plt.title(\"Plot Residual Normality\")"
   ]
  },
  {
   "cell_type": "code",
   "execution_count": 74,
   "metadata": {},
   "outputs": [
    {
     "name": "stderr",
     "output_type": "stream",
     "text": [
      "No handles with labels found to put in legend.\n"
     ]
    },
    {
     "data": {
      "image/png": "[encoded data removed]",
      "text/plain": [
       "<matplotlib.figure.Figure at 0x232fd314240>"
      ]
     },
     "metadata": {},
     "output_type": "display_data"
    }
   ],
   "source": [
    "import pylab\n",
    "import scipy.stats\n",
    "plt.figure(figsize=(10,6))\n",
    "scipy.stats.probplot(lm.resid, dist=\"norm\", plot=pylab)\n",
    "pylab.legend()\n",
    "pylab.show()"
   ]
  },
  {
   "cell_type": "code",
   "execution_count": 75,
   "metadata": {},
   "outputs": [
    {
     "data": {
      "text/plain": [
       "<statsmodels.regression.linear_model.RegressionResultsWrapper at 0x232ff18ee10>"
      ]
     },
     "execution_count": 75,
     "metadata": {},
     "output_type": "execute_result"
    }
   ],
   "source": [
    "lm1=smf.ols(formula='yitemrevenue~xcartadd+xcartuniqadd+xcartaddtotalrs+xcartremove+xcardtremovetotal+xcardtremovetotalrs+xproductviews+xuniqprodview+xprodviewinrs',data=data1).fit()\n",
    "lm1"
   ]
  },
  {
   "cell_type": "code",
   "execution_count": 49,
   "metadata": {},
   "outputs": [
    {
     "data": {
      "text/plain": [
       "Intercept             -753.659472\n",
       "xcartadd                28.950382\n",
       "xcartuniqadd           -24.046903\n",
       "xcartaddtotalrs          0.000116\n",
       "xcartremove           -116.590355\n",
       "xcardtremovetotal     -112.032465\n",
       "xcardtremovetotalrs     -0.007446\n",
       "xproductviews           21.872259\n",
       "xuniqprodview          -25.363312\n",
       "xprodviewinrs            0.000965\n",
       "dtype: float64"
      ]
     },
     "execution_count": 49,
     "metadata": {},
     "output_type": "execute_result"
    }
   ],
   "source": [
    "parameter=lm1.params\n",
    "parameter"
   ]
  },
  {
   "cell_type": "code",
   "execution_count": 50,
   "metadata": {},
   "outputs": [
    {
     "data": {
      "text/html": [
       "<table class=\"simpletable\">\n",
       "<caption>OLS Regression Results</caption>\n",
       "<tr>\n",
       "  <th>Dep. Variable:</th>      <td>yitemrevenue</td>   <th>  R-squared:         </th> <td>   0.349</td>\n",
       "</tr>\n",
       "<tr>\n",
       "  <th>Model:</th>                   <td>OLS</td>       <th>  Adj. R-squared:    </th> <td>   0.271</td>\n",
       "</tr>\n",
       "<tr>\n",
       "  <th>Method:</th>             <td>Least Squares</td>  <th>  F-statistic:       </th> <td>   4.464</td>\n",
       "</tr>\n",
       "<tr>\n",
       "  <th>Date:</th>             <td>Mon, 11 Jun 2018</td> <th>  Prob (F-statistic):</th> <td>0.000105</td>\n",
       "</tr>\n",
       "<tr>\n",
       "  <th>Time:</th>                 <td>10:38:02</td>     <th>  Log-Likelihood:    </th> <td> -764.84</td>\n",
       "</tr>\n",
       "<tr>\n",
       "  <th>No. Observations:</th>      <td>    85</td>      <th>  AIC:               </th> <td>   1550.</td>\n",
       "</tr>\n",
       "<tr>\n",
       "  <th>Df Residuals:</th>          <td>    75</td>      <th>  BIC:               </th> <td>   1574.</td>\n",
       "</tr>\n",
       "<tr>\n",
       "  <th>Df Model:</th>              <td>     9</td>      <th>                     </th>     <td> </td>   \n",
       "</tr>\n",
       "<tr>\n",
       "  <th>Covariance Type:</th>      <td>nonrobust</td>    <th>                     </th>     <td> </td>   \n",
       "</tr>\n",
       "</table>\n",
       "<table class=\"simpletable\">\n",
       "<tr>\n",
       "           <td></td>              <th>coef</th>     <th>std err</th>      <th>t</th>      <th>P>|t|</th>  <th>[0.025</th>    <th>0.975]</th>  \n",
       "</tr>\n",
       "<tr>\n",
       "  <th>Intercept</th>           <td> -753.6595</td> <td>  517.191</td> <td>   -1.457</td> <td> 0.149</td> <td>-1783.957</td> <td>  276.638</td>\n",
       "</tr>\n",
       "<tr>\n",
       "  <th>xcartadd</th>            <td>   28.9504</td> <td>   76.830</td> <td>    0.377</td> <td> 0.707</td> <td> -124.103</td> <td>  182.004</td>\n",
       "</tr>\n",
       "<tr>\n",
       "  <th>xcartuniqadd</th>        <td>  -24.0469</td> <td>   97.013</td> <td>   -0.248</td> <td> 0.805</td> <td> -217.307</td> <td>  169.213</td>\n",
       "</tr>\n",
       "<tr>\n",
       "  <th>xcartaddtotalrs</th>     <td>    0.0001</td> <td>    0.018</td> <td>    0.006</td> <td> 0.995</td> <td>   -0.036</td> <td>    0.036</td>\n",
       "</tr>\n",
       "<tr>\n",
       "  <th>xcartremove</th>         <td> -116.5904</td> <td>  318.481</td> <td>   -0.366</td> <td> 0.715</td> <td> -751.038</td> <td>  517.857</td>\n",
       "</tr>\n",
       "<tr>\n",
       "  <th>xcardtremovetotal</th>   <td> -112.0325</td> <td>  425.892</td> <td>   -0.263</td> <td> 0.793</td> <td> -960.453</td> <td>  736.388</td>\n",
       "</tr>\n",
       "<tr>\n",
       "  <th>xcardtremovetotalrs</th> <td>   -0.0074</td> <td>    0.163</td> <td>   -0.046</td> <td> 0.964</td> <td>   -0.332</td> <td>    0.317</td>\n",
       "</tr>\n",
       "<tr>\n",
       "  <th>xproductviews</th>       <td>   21.8723</td> <td>    6.259</td> <td>    3.495</td> <td> 0.001</td> <td>    9.404</td> <td>   34.341</td>\n",
       "</tr>\n",
       "<tr>\n",
       "  <th>xuniqprodview</th>       <td>  -25.3633</td> <td>    7.004</td> <td>   -3.621</td> <td> 0.001</td> <td>  -39.315</td> <td>  -11.411</td>\n",
       "</tr>\n",
       "<tr>\n",
       "  <th>xprodviewinrs</th>       <td>    0.0010</td> <td>    0.001</td> <td>    1.774</td> <td> 0.080</td> <td>   -0.000</td> <td>    0.002</td>\n",
       "</tr>\n",
       "</table>\n",
       "<table class=\"simpletable\">\n",
       "<tr>\n",
       "  <th>Omnibus:</th>       <td> 5.752</td> <th>  Durbin-Watson:     </th> <td>   1.836</td>\n",
       "</tr>\n",
       "<tr>\n",
       "  <th>Prob(Omnibus):</th> <td> 0.056</td> <th>  Jarque-Bera (JB):  </th> <td>   5.798</td>\n",
       "</tr>\n",
       "<tr>\n",
       "  <th>Skew:</th>          <td> 0.635</td> <th>  Prob(JB):          </th> <td>  0.0551</td>\n",
       "</tr>\n",
       "<tr>\n",
       "  <th>Kurtosis:</th>      <td> 2.844</td> <th>  Cond. No.          </th> <td>3.95e+06</td>\n",
       "</tr>\n",
       "</table>"
      ],
      "text/plain": [
       "<class 'statsmodels.iolib.summary.Summary'>\n",
       "\"\"\"\n",
       "                            OLS Regression Results                            \n",
       "==============================================================================\n",
       "Dep. Variable:           yitemrevenue   R-squared:                       0.349\n",
       "Model:                            OLS   Adj. R-squared:                  0.271\n",
       "Method:                 Least Squares   F-statistic:                     4.464\n",
       "Date:                Mon, 11 Jun 2018   Prob (F-statistic):           0.000105\n",
       "Time:                        10:38:02   Log-Likelihood:                -764.84\n",
       "No. Observations:                  85   AIC:                             1550.\n",
       "Df Residuals:                      75   BIC:                             1574.\n",
       "Df Model:                           9                                         \n",
       "Covariance Type:            nonrobust                                         \n",
       "=======================================================================================\n",
       "                          coef    std err          t      P>|t|      [0.025      0.975]\n",
       "---------------------------------------------------------------------------------------\n",
       "Intercept            -753.6595    517.191     -1.457      0.149   -1783.957     276.638\n",
       "xcartadd               28.9504     76.830      0.377      0.707    -124.103     182.004\n",
       "xcartuniqadd          -24.0469     97.013     -0.248      0.805    -217.307     169.213\n",
       "xcartaddtotalrs         0.0001      0.018      0.006      0.995      -0.036       0.036\n",
       "xcartremove          -116.5904    318.481     -0.366      0.715    -751.038     517.857\n",
       "xcardtremovetotal    -112.0325    425.892     -0.263      0.793    -960.453     736.388\n",
       "xcardtremovetotalrs    -0.0074      0.163     -0.046      0.964      -0.332       0.317\n",
       "xproductviews          21.8723      6.259      3.495      0.001       9.404      34.341\n",
       "xuniqprodview         -25.3633      7.004     -3.621      0.001     -39.315     -11.411\n",
       "xprodviewinrs           0.0010      0.001      1.774      0.080      -0.000       0.002\n",
       "==============================================================================\n",
       "Omnibus:                        5.752   Durbin-Watson:                   1.836\n",
       "Prob(Omnibus):                  0.056   Jarque-Bera (JB):                5.798\n",
       "Skew:                           0.635   Prob(JB):                       0.0551\n",
       "Kurtosis:                       2.844   Cond. No.                     3.95e+06\n",
       "==============================================================================\n",
       "\n",
       "Warnings:\n",
       "[1] Standard Errors assume that the covariance matrix of the errors is correctly specified.\n",
       "[2] The condition number is large, 3.95e+06. This might indicate that there are\n",
       "strong multicollinearity or other numerical problems.\n",
       "\"\"\""
      ]
     },
     "execution_count": 50,
     "metadata": {},
     "output_type": "execute_result"
    }
   ],
   "source": [
    "lm1.summary()"
   ]
  },
  {
   "cell_type": "code",
   "execution_count": 51,
   "metadata": {},
   "outputs": [
    {
     "data": {
      "text/html": [
       "<div>\n",
       "<style scoped>\n",
       "    .dataframe tbody tr th:only-of-type {\n",
       "        vertical-align: middle;\n",
       "    }\n",
       "\n",
       "    .dataframe tbody tr th {\n",
       "        vertical-align: top;\n",
       "    }\n",
       "\n",
       "    .dataframe thead th {\n",
       "        text-align: right;\n",
       "    }\n",
       "</style>\n",
       "<table border=\"1\" class=\"dataframe\">\n",
       "  <thead>\n",
       "    <tr style=\"text-align: right;\">\n",
       "      <th></th>\n",
       "      <th>VIF Factor</th>\n",
       "      <th>features</th>\n",
       "    </tr>\n",
       "  </thead>\n",
       "  <tbody>\n",
       "    <tr>\n",
       "      <th>0</th>\n",
       "      <td>2.3</td>\n",
       "      <td>yitemrevenue</td>\n",
       "    </tr>\n",
       "    <tr>\n",
       "      <th>1</th>\n",
       "      <td>109.7</td>\n",
       "      <td>xcartadd</td>\n",
       "    </tr>\n",
       "    <tr>\n",
       "      <th>2</th>\n",
       "      <td>98.9</td>\n",
       "      <td>xcartuniqadd</td>\n",
       "    </tr>\n",
       "    <tr>\n",
       "      <th>3</th>\n",
       "      <td>9.3</td>\n",
       "      <td>xcartaddtotalrs</td>\n",
       "    </tr>\n",
       "    <tr>\n",
       "      <th>4</th>\n",
       "      <td>10.6</td>\n",
       "      <td>xcartremove</td>\n",
       "    </tr>\n",
       "    <tr>\n",
       "      <th>5</th>\n",
       "      <td>6.7</td>\n",
       "      <td>xcardtremovetotal</td>\n",
       "    </tr>\n",
       "    <tr>\n",
       "      <th>6</th>\n",
       "      <td>7.8</td>\n",
       "      <td>xcardtremovetotalrs</td>\n",
       "    </tr>\n",
       "    <tr>\n",
       "      <th>7</th>\n",
       "      <td>908.5</td>\n",
       "      <td>xproductviews</td>\n",
       "    </tr>\n",
       "    <tr>\n",
       "      <th>8</th>\n",
       "      <td>775.4</td>\n",
       "      <td>xuniqprodview</td>\n",
       "    </tr>\n",
       "    <tr>\n",
       "      <th>9</th>\n",
       "      <td>13.4</td>\n",
       "      <td>xprodviewinrs</td>\n",
       "    </tr>\n",
       "  </tbody>\n",
       "</table>\n",
       "</div>"
      ],
      "text/plain": [
       "   VIF Factor             features\n",
       "0         2.3         yitemrevenue\n",
       "1       109.7             xcartadd\n",
       "2        98.9         xcartuniqadd\n",
       "3         9.3      xcartaddtotalrs\n",
       "4        10.6          xcartremove\n",
       "5         6.7    xcardtremovetotal\n",
       "6         7.8  xcardtremovetotalrs\n",
       "7       908.5        xproductviews\n",
       "8       775.4        xuniqprodview\n",
       "9        13.4        xprodviewinrs"
      ]
     },
     "execution_count": 51,
     "metadata": {},
     "output_type": "execute_result"
    }
   ],
   "source": [
    "#check for multicolinearity\n",
    "vif = pd.DataFrame()\n",
    "vif[\"VIF Factor\"] = [variance_inflation_factor(data1.values, i) for i in range(data1.shape[1])]\n",
    "vif[\"features\"] = data1.columns\n",
    "vif.round(1)"
   ]
  },
  {
   "cell_type": "code",
   "execution_count": 52,
   "metadata": {},
   "outputs": [
    {
     "data": {
      "text/plain": [
       "(0.6732197345347913, 0.8670563057054208, 'increasing')"
      ]
     },
     "execution_count": 52,
     "metadata": {},
     "output_type": "execute_result"
    }
   ],
   "source": [
    "#test for heteroscedasity\n",
    "test=sms.het_goldfeldquandt(lm1.resid,lm1.model.exog)\n",
    "test"
   ]
  },
  {
   "cell_type": "code",
   "execution_count": 53,
   "metadata": {},
   "outputs": [
    {
     "data": {
      "image/png": "[encoded data removed]",
      "text/plain": [
       "<matplotlib.figure.Figure at 0x232fd167048>"
      ]
     },
     "metadata": {},
     "output_type": "display_data"
    }
   ],
   "source": [
    "plt.figure(figsize=(10,6))\n",
    "plt.scatter(lm1.predict(), lm1.resid, s = 5.5, color='r')\n",
    "plt.show()"
   ]
  },
  {
   "cell_type": "code",
   "execution_count": 54,
   "metadata": {},
   "outputs": [
    {
     "data": {
      "text/plain": [
       "Text(0.5,1,'Plot Residual Normality')"
      ]
     },
     "execution_count": 54,
     "metadata": {},
     "output_type": "execute_result"
    },
    {
     "data": {
      "image/png": "[encoded data removed]",
      "text/plain": [
       "<matplotlib.figure.Figure at 0x232fd33c940>"
      ]
     },
     "metadata": {},
     "output_type": "display_data"
    }
   ],
   "source": [
    "sns.distplot(lm1.resid, hist=True)\n",
    "plt.title(\"Plot Residual Normality\")"
   ]
  },
  {
   "cell_type": "code",
   "execution_count": 73,
   "metadata": {},
   "outputs": [
    {
     "name": "stderr",
     "output_type": "stream",
     "text": [
      "No handles with labels found to put in legend.\n"
     ]
    },
    {
     "data": {
      "image/png": "[encoded data removed]",
      "text/plain": [
       "<matplotlib.figure.Figure at 0x232fd101630>"
      ]
     },
     "metadata": {},
     "output_type": "display_data"
    }
   ],
   "source": [
    "import pylab\n",
    "import scipy.stats\n",
    "plt.figure(figsize=(10,6))\n",
    "scipy.stats.probplot(lm1.resid, dist=\"norm\", plot=pylab)\n",
    "pylab.legend()\n",
    "pylab.show()"
   ]
  },
  {
   "cell_type": "code",
   "execution_count": 63,
   "metadata": {},
   "outputs": [],
   "source": [
    "x=data.drop(['xcartadd','xcartuniqadd','xproductviews','xuniqprodview'],1)"
   ]
  },
  {
   "cell_type": "code",
   "execution_count": 64,
   "metadata": {},
   "outputs": [
    {
     "data": {
      "text/html": [
       "<div>\n",
       "<style scoped>\n",
       "    .dataframe tbody tr th:only-of-type {\n",
       "        vertical-align: middle;\n",
       "    }\n",
       "\n",
       "    .dataframe tbody tr th {\n",
       "        vertical-align: top;\n",
       "    }\n",
       "\n",
       "    .dataframe thead th {\n",
       "        text-align: right;\n",
       "    }\n",
       "</style>\n",
       "<table border=\"1\" class=\"dataframe\">\n",
       "  <thead>\n",
       "    <tr style=\"text-align: right;\">\n",
       "      <th></th>\n",
       "      <th>VIF Factor</th>\n",
       "      <th>features</th>\n",
       "    </tr>\n",
       "  </thead>\n",
       "  <tbody>\n",
       "    <tr>\n",
       "      <th>0</th>\n",
       "      <td>4.9</td>\n",
       "      <td>yitemrevenue</td>\n",
       "    </tr>\n",
       "    <tr>\n",
       "      <th>1</th>\n",
       "      <td>7.0</td>\n",
       "      <td>xcartaddtotalrs</td>\n",
       "    </tr>\n",
       "    <tr>\n",
       "      <th>2</th>\n",
       "      <td>7.7</td>\n",
       "      <td>xcartremove</td>\n",
       "    </tr>\n",
       "    <tr>\n",
       "      <th>3</th>\n",
       "      <td>8.9</td>\n",
       "      <td>xcardtremovetotal</td>\n",
       "    </tr>\n",
       "    <tr>\n",
       "      <th>4</th>\n",
       "      <td>4.0</td>\n",
       "      <td>xcardtremovetotalrs</td>\n",
       "    </tr>\n",
       "    <tr>\n",
       "      <th>5</th>\n",
       "      <td>1.4</td>\n",
       "      <td>xprodviewinrs</td>\n",
       "    </tr>\n",
       "  </tbody>\n",
       "</table>\n",
       "</div>"
      ],
      "text/plain": [
       "   VIF Factor             features\n",
       "0         4.9         yitemrevenue\n",
       "1         7.0      xcartaddtotalrs\n",
       "2         7.7          xcartremove\n",
       "3         8.9    xcardtremovetotal\n",
       "4         4.0  xcardtremovetotalrs\n",
       "5         1.4        xprodviewinrs"
      ]
     },
     "execution_count": 64,
     "metadata": {},
     "output_type": "execute_result"
    }
   ],
   "source": [
    "#check for multicolinearity\n",
    "vif = pd.DataFrame()\n",
    "vif[\"VIF Factor\"] = [variance_inflation_factor(x.values, i) for i in range(x.shape[1])]\n",
    "vif[\"features\"] = x.columns\n",
    "vif.round(1)"
   ]
  },
  {
   "cell_type": "code",
   "execution_count": 65,
   "metadata": {},
   "outputs": [
    {
     "data": {
      "text/plain": [
       "<statsmodels.regression.linear_model.RegressionResultsWrapper at 0x232fd2b1898>"
      ]
     },
     "execution_count": 65,
     "metadata": {},
     "output_type": "execute_result"
    }
   ],
   "source": [
    "lm2=smf.ols(formula='yitemrevenue~xcartaddtotalrs+xcartremove+xcardtremovetotal+xcardtremovetotalrs+xprodviewinrs',data=x).fit()\n",
    "lm2"
   ]
  },
  {
   "cell_type": "code",
   "execution_count": 68,
   "metadata": {},
   "outputs": [
    {
     "data": {
      "text/plain": [
       "Intercept               429.434613\n",
       "xcartaddtotalrs           0.075257\n",
       "xcartremove             111.244318\n",
       "xcardtremovetotal     -1305.733106\n",
       "xcardtremovetotalrs       0.023466\n",
       "xprodviewinrs             0.000415\n",
       "dtype: float64"
      ]
     },
     "execution_count": 68,
     "metadata": {},
     "output_type": "execute_result"
    }
   ],
   "source": [
    "parameter=lm2.params\n",
    "parameter"
   ]
  },
  {
   "cell_type": "code",
   "execution_count": 67,
   "metadata": {},
   "outputs": [
    {
     "data": {
      "text/html": [
       "<table class=\"simpletable\">\n",
       "<caption>OLS Regression Results</caption>\n",
       "<tr>\n",
       "  <th>Dep. Variable:</th>      <td>yitemrevenue</td>   <th>  R-squared:         </th> <td>   0.755</td>\n",
       "</tr>\n",
       "<tr>\n",
       "  <th>Model:</th>                   <td>OLS</td>       <th>  Adj. R-squared:    </th> <td>   0.741</td>\n",
       "</tr>\n",
       "<tr>\n",
       "  <th>Method:</th>             <td>Least Squares</td>  <th>  F-statistic:       </th> <td>   53.14</td>\n",
       "</tr>\n",
       "<tr>\n",
       "  <th>Date:</th>             <td>Mon, 11 Jun 2018</td> <th>  Prob (F-statistic):</th> <td>7.32e-25</td>\n",
       "</tr>\n",
       "<tr>\n",
       "  <th>Time:</th>                 <td>10:47:46</td>     <th>  Log-Likelihood:    </th> <td> -893.44</td>\n",
       "</tr>\n",
       "<tr>\n",
       "  <th>No. Observations:</th>      <td>    92</td>      <th>  AIC:               </th> <td>   1799.</td>\n",
       "</tr>\n",
       "<tr>\n",
       "  <th>Df Residuals:</th>          <td>    86</td>      <th>  BIC:               </th> <td>   1814.</td>\n",
       "</tr>\n",
       "<tr>\n",
       "  <th>Df Model:</th>              <td>     5</td>      <th>                     </th>     <td> </td>   \n",
       "</tr>\n",
       "<tr>\n",
       "  <th>Covariance Type:</th>      <td>nonrobust</td>    <th>                     </th>     <td> </td>   \n",
       "</tr>\n",
       "</table>\n",
       "<table class=\"simpletable\">\n",
       "<tr>\n",
       "           <td></td>              <th>coef</th>     <th>std err</th>      <th>t</th>      <th>P>|t|</th>  <th>[0.025</th>    <th>0.975]</th>  \n",
       "</tr>\n",
       "<tr>\n",
       "  <th>Intercept</th>           <td>  429.4346</td> <td>  841.241</td> <td>    0.510</td> <td> 0.611</td> <td>-1242.896</td> <td> 2101.766</td>\n",
       "</tr>\n",
       "<tr>\n",
       "  <th>xcartaddtotalrs</th>     <td>    0.0753</td> <td>    0.005</td> <td>   13.884</td> <td> 0.000</td> <td>    0.064</td> <td>    0.086</td>\n",
       "</tr>\n",
       "<tr>\n",
       "  <th>xcartremove</th>         <td>  111.2443</td> <td>  481.439</td> <td>    0.231</td> <td> 0.818</td> <td> -845.824</td> <td> 1068.313</td>\n",
       "</tr>\n",
       "<tr>\n",
       "  <th>xcardtremovetotal</th>   <td>-1305.7331</td> <td>  712.962</td> <td>   -1.831</td> <td> 0.071</td> <td>-2723.055</td> <td>  111.589</td>\n",
       "</tr>\n",
       "<tr>\n",
       "  <th>xcardtremovetotalrs</th> <td>    0.0235</td> <td>    0.221</td> <td>    0.106</td> <td> 0.916</td> <td>   -0.416</td> <td>    0.463</td>\n",
       "</tr>\n",
       "<tr>\n",
       "  <th>xprodviewinrs</th>       <td>    0.0004</td> <td>    0.000</td> <td>    0.906</td> <td> 0.367</td> <td>   -0.000</td> <td>    0.001</td>\n",
       "</tr>\n",
       "</table>\n",
       "<table class=\"simpletable\">\n",
       "<tr>\n",
       "  <th>Omnibus:</th>       <td>57.367</td> <th>  Durbin-Watson:     </th> <td>   1.902</td>\n",
       "</tr>\n",
       "<tr>\n",
       "  <th>Prob(Omnibus):</th> <td> 0.000</td> <th>  Jarque-Bera (JB):  </th> <td> 290.101</td>\n",
       "</tr>\n",
       "<tr>\n",
       "  <th>Skew:</th>          <td> 1.940</td> <th>  Prob(JB):          </th> <td>1.01e-63</td>\n",
       "</tr>\n",
       "<tr>\n",
       "  <th>Kurtosis:</th>      <td>10.786</td> <th>  Cond. No.          </th> <td>3.54e+06</td>\n",
       "</tr>\n",
       "</table>"
      ],
      "text/plain": [
       "<class 'statsmodels.iolib.summary.Summary'>\n",
       "\"\"\"\n",
       "                            OLS Regression Results                            \n",
       "==============================================================================\n",
       "Dep. Variable:           yitemrevenue   R-squared:                       0.755\n",
       "Model:                            OLS   Adj. R-squared:                  0.741\n",
       "Method:                 Least Squares   F-statistic:                     53.14\n",
       "Date:                Mon, 11 Jun 2018   Prob (F-statistic):           7.32e-25\n",
       "Time:                        10:47:46   Log-Likelihood:                -893.44\n",
       "No. Observations:                  92   AIC:                             1799.\n",
       "Df Residuals:                      86   BIC:                             1814.\n",
       "Df Model:                           5                                         \n",
       "Covariance Type:            nonrobust                                         \n",
       "=======================================================================================\n",
       "                          coef    std err          t      P>|t|      [0.025      0.975]\n",
       "---------------------------------------------------------------------------------------\n",
       "Intercept             429.4346    841.241      0.510      0.611   -1242.896    2101.766\n",
       "xcartaddtotalrs         0.0753      0.005     13.884      0.000       0.064       0.086\n",
       "xcartremove           111.2443    481.439      0.231      0.818    -845.824    1068.313\n",
       "xcardtremovetotal   -1305.7331    712.962     -1.831      0.071   -2723.055     111.589\n",
       "xcardtremovetotalrs     0.0235      0.221      0.106      0.916      -0.416       0.463\n",
       "xprodviewinrs           0.0004      0.000      0.906      0.367      -0.000       0.001\n",
       "==============================================================================\n",
       "Omnibus:                       57.367   Durbin-Watson:                   1.902\n",
       "Prob(Omnibus):                  0.000   Jarque-Bera (JB):              290.101\n",
       "Skew:                           1.940   Prob(JB):                     1.01e-63\n",
       "Kurtosis:                      10.786   Cond. No.                     3.54e+06\n",
       "==============================================================================\n",
       "\n",
       "Warnings:\n",
       "[1] Standard Errors assume that the covariance matrix of the errors is correctly specified.\n",
       "[2] The condition number is large, 3.54e+06. This might indicate that there are\n",
       "strong multicollinearity or other numerical problems.\n",
       "\"\"\""
      ]
     },
     "execution_count": 67,
     "metadata": {},
     "output_type": "execute_result"
    }
   ],
   "source": [
    "lm2.summary()"
   ]
  },
  {
   "cell_type": "code",
   "execution_count": 69,
   "metadata": {},
   "outputs": [
    {
     "data": {
      "text/plain": [
       "(0.24419296584376093, 0.9999900512739351, 'increasing')"
      ]
     },
     "execution_count": 69,
     "metadata": {},
     "output_type": "execute_result"
    }
   ],
   "source": [
    "#test for heteroscedasity\n",
    "test=sms.het_goldfeldquandt(lm2.resid,lm2.model.exog)\n",
    "test"
   ]
  },
  {
   "cell_type": "code",
   "execution_count": 70,
   "metadata": {},
   "outputs": [
    {
     "data": {
      "image/png": "[encoded data removed]",
      "text/plain": [
       "<matplotlib.figure.Figure at 0x232fd0dc080>"
      ]
     },
     "metadata": {},
     "output_type": "display_data"
    }
   ],
   "source": [
    "plt.figure(figsize=(10,6))\n",
    "plt.scatter(lm2.predict(), lm2.resid, s = 5.5, color='r')\n",
    "plt.show()"
   ]
  },
  {
   "cell_type": "code",
   "execution_count": 71,
   "metadata": {},
   "outputs": [
    {
     "data": {
      "text/plain": [
       "Text(0.5,1,'Plot Residual Normality')"
      ]
     },
     "execution_count": 71,
     "metadata": {},
     "output_type": "execute_result"
    },
    {
     "data": {
      "image/png": "[encoded data removed]",
      "text/plain": [
       "<matplotlib.figure.Figure at 0x232fd07cb70>"
      ]
     },
     "metadata": {},
     "output_type": "display_data"
    }
   ],
   "source": [
    "sns.distplot(lm2.resid, hist=True)\n",
    "plt.title(\"Plot Residual Normality\")"
   ]
  },
  {
   "cell_type": "code",
   "execution_count": 72,
   "metadata": {},
   "outputs": [
    {
     "name": "stderr",
     "output_type": "stream",
     "text": [
      "No handles with labels found to put in legend.\n"
     ]
    },
    {
     "data": {
      "image/png": "[encoded data removed]",
      "text/plain": [
       "<matplotlib.figure.Figure at 0x232fd0dc2e8>"
      ]
     },
     "metadata": {},
     "output_type": "display_data"
    }
   ],
   "source": [
    "import pylab\n",
    "import scipy.stats\n",
    "plt.figure(figsize=(10,6))\n",
    "scipy.stats.probplot(lm2.resid, dist=\"norm\", plot=pylab)\n",
    "pylab.legend()\n",
    "pylab.show()"
   ]
  },
  {
   "cell_type": "code",
   "execution_count": 86,
   "metadata": {},
   "outputs": [
    {
     "name": "stdout",
     "output_type": "stream",
     "text": [
      "StandardScaler(copy=True, with_mean=True, with_std=True)\n"
     ]
    }
   ],
   "source": [
    "from sklearn.preprocessing import StandardScaler\n",
    "scaler=StandardScaler()\n",
    "print(scaler.fit(x1))"
   ]
  },
  {
   "cell_type": "code",
   "execution_count": 85,
   "metadata": {},
   "outputs": [],
   "source": [
    "x1=x.drop('yitemrevenue',1)\n",
    "y1=x['yitemrevenue']"
   ]
  },
  {
   "cell_type": "code",
   "execution_count": 100,
   "metadata": {},
   "outputs": [
    {
     "data": {
      "text/plain": [
       "array([[ 6.59375463e+00,  3.88434373e+00,  5.92862542e+00,\n",
       "         2.85893430e+00, -1.35125930e+00],\n",
       "       [ 3.53577096e+00,  2.97848917e+00,  2.67812757e+00,\n",
       "         5.78651732e-01, -1.35099300e+00],\n",
       "       [ 6.90663011e-01,  2.60925498e-01,  7.27828866e-01,\n",
       "         1.01491751e-02,  5.42257718e+00],\n",
       "       [ 5.25988639e+00,  2.60925498e-01,  7.27828866e-01,\n",
       "         8.65468969e-01, -1.34877741e+00],\n",
       "       [ 9.69897945e-02, -6.44929061e-01, -5.72370273e-01,\n",
       "        -5.59493808e-01,  3.57507532e-01],\n",
       "       [ 1.40379730e-01,  2.60925498e-01,  7.77292964e-02,\n",
       "        -1.03893464e-01, -9.71786325e-02],\n",
       "       [-1.14958755e-01, -6.44929061e-01, -5.72370273e-01,\n",
       "        -5.59493808e-01,  2.98428632e-01],\n",
       "       [ 5.23958747e-01,  1.16678006e+00,  1.37792844e+00,\n",
       "         8.76303020e-01,  1.70350105e-01],\n",
       "       [ 4.43818951e-01, -6.44929061e-01, -5.72370273e-01,\n",
       "        -5.59493808e-01,  9.23392878e-02],\n",
       "       [-2.65620074e-01, -6.44929061e-01, -5.72370273e-01,\n",
       "        -5.59493808e-01,  6.86680284e-01],\n",
       "       [ 1.55954404e-01, -6.44929061e-01, -5.72370273e-01,\n",
       "        -5.59493808e-01,  2.04639179e+00],\n",
       "       [-2.94296954e-01, -6.44929061e-01, -5.72370273e-01,\n",
       "        -5.59493808e-01, -3.81714472e-01],\n",
       "       [-2.16929318e-01,  1.61970734e+00,  7.77292964e-02,\n",
       "         1.13546492e+00, -2.26234253e-01],\n",
       "       [-2.68645101e-01, -6.44929061e-01, -5.72370273e-01,\n",
       "        -5.59493808e-01,  9.61166161e-01],\n",
       "       [-4.08657951e-01, -6.44929061e-01, -5.72370273e-01,\n",
       "        -5.59493808e-01, -8.56968549e-01],\n",
       "       [-1.63621415e-01,  2.07263461e+00,  1.37792844e+00,\n",
       "         2.10739331e+00,  3.70682627e-01],\n",
       "       [ 2.11135388e-01, -1.92001781e-01,  7.77292964e-02,\n",
       "        -1.15012621e-01,  3.33553560e-02],\n",
       "       [-1.64346624e-02, -6.44929061e-01, -5.72370273e-01,\n",
       "        -5.59493808e-01,  5.72902761e-01],\n",
       "       [-3.75054867e-01, -6.44929061e-01, -5.72370273e-01,\n",
       "        -5.59493808e-01, -5.91321548e-01],\n",
       "       [ 1.01443657e-02, -6.44929061e-01, -5.72370273e-01,\n",
       "        -5.59493808e-01,  1.68939292e-01],\n",
       "       [-6.70078658e-02, -6.44929061e-01, -5.72370273e-01,\n",
       "        -5.59493808e-01,  2.06702284e-01],\n",
       "       [-3.01077509e-01,  2.60925498e-01,  7.27828866e-01,\n",
       "         1.01491751e-02, -8.86967664e-01],\n",
       "       [-4.63384103e-02,  1.16678006e+00,  1.37792844e+00,\n",
       "         2.51851702e+00,  2.91240437e-01],\n",
       "       [-4.25862206e-01, -6.44929061e-01, -5.72370273e-01,\n",
       "        -5.59493808e-01, -9.20544232e-01],\n",
       "       [-1.81200286e-01,  2.60925498e-01,  7.27828866e-01,\n",
       "         4.66319732e-01,  3.62412580e-01],\n",
       "       [-1.98161040e-01, -6.44929061e-01, -5.72370273e-01,\n",
       "        -5.59493808e-01,  1.30968240e-02],\n",
       "       [-3.38670257e-01,  2.97848917e+00,  7.27828866e-01,\n",
       "         3.99080750e+00,  7.53033536e-01],\n",
       "       [-2.98820446e-01,  1.61970734e+00,  1.37792844e+00,\n",
       "         3.65677103e-01, -7.39657629e-01],\n",
       "       [-3.29988524e-01, -6.44929061e-01, -5.72370273e-01,\n",
       "        -5.59493808e-01,  6.52449709e-01],\n",
       "       [-4.00247815e-01, -6.44929061e-01, -5.72370273e-01,\n",
       "        -5.59493808e-01, -3.66786875e-01],\n",
       "       [ 4.03238638e-01,  7.13852777e-01,  7.27828866e-01,\n",
       "         5.17353813e-01,  2.78939000e+00],\n",
       "       [-2.43002614e-01, -6.44929061e-01, -5.72370273e-01,\n",
       "        -5.59493808e-01, -5.10879747e-01],\n",
       "       [-4.27192094e-01, -6.44929061e-01, -5.72370273e-01,\n",
       "        -5.59493808e-01, -3.62098198e-01],\n",
       "       [-2.35070113e-01, -6.44929061e-01, -5.72370273e-01,\n",
       "        -5.59493808e-01,  1.11293480e+00],\n",
       "       [ 6.58217165e-02,  1.16678006e+00,  1.37792844e+00,\n",
       "         1.01315419e+00, -1.22936496e-01],\n",
       "       [-1.07217634e-02,  7.13852777e-01,  7.27828866e-01,\n",
       "         2.43327015e+00,  1.46780569e+00],\n",
       "       [-2.96347978e-01, -6.44929061e-01, -5.72370273e-01,\n",
       "        -5.59493808e-01, -2.76293152e-01],\n",
       "       [-5.75675345e-02, -6.44929061e-01, -5.72370273e-01,\n",
       "        -5.59493808e-01,  3.16551853e-01],\n",
       "       [-3.30025985e-01, -6.44929061e-01, -5.72370273e-01,\n",
       "        -5.59493808e-01, -4.31631409e-01],\n",
       "       [-1.88130688e-01,  2.07263461e+00,  1.37792844e+00,\n",
       "         7.73094432e-01, -7.16225012e-01],\n",
       "       [-4.50774191e-01, -6.44929061e-01, -5.72370273e-01,\n",
       "        -5.59493808e-01, -1.52724136e-01],\n",
       "       [-4.50774191e-01, -6.44929061e-01, -5.72370273e-01,\n",
       "        -5.59493808e-01, -5.73436237e-01],\n",
       "       [-3.29145637e-01,  2.60925498e-01,  7.77292964e-02,\n",
       "         1.01491751e-02, -8.58603565e-01],\n",
       "       [-4.50774191e-01, -6.44929061e-01, -5.72370273e-01,\n",
       "        -5.59493808e-01, -4.43391774e-01],\n",
       "       [ 2.82284393e-01, -6.44929061e-01, -5.72370273e-01,\n",
       "        -5.59493808e-01,  7.64187869e-01],\n",
       "       [-4.50774191e-01, -6.44929061e-01, -5.72370273e-01,\n",
       "        -5.59493808e-01,  1.53076751e+00],\n",
       "       [-3.09337799e-01, -6.44929061e-01, -5.72370273e-01,\n",
       "        -5.59493808e-01, -1.05611250e+00],\n",
       "       [-3.39513144e-01,  1.61970734e+00,  7.77292964e-02,\n",
       "        -3.67046854e-01, -1.26061774e+00],\n",
       "       [-3.18675111e-01,  1.16678006e+00,  2.02802800e+00,\n",
       "        -3.12021281e-01, -1.18349003e+00],\n",
       "       [-3.78908122e-02, -6.44929061e-01, -5.72370273e-01,\n",
       "        -5.59493808e-01, -1.59738060e-01],\n",
       "       [-3.57213765e-01, -6.44929061e-01, -5.72370273e-01,\n",
       "        -5.59493808e-01, -2.70782072e-01],\n",
       "       [-3.22355716e-01, -6.44929061e-01, -5.72370273e-01,\n",
       "        -5.59493808e-01, -1.07794633e+00],\n",
       "       [-1.93225470e-01, -6.44929061e-01, -5.72370273e-01,\n",
       "        -5.59493808e-01, -4.33814693e-01],\n",
       "       [-1.62834721e-01,  2.60925498e-01,  7.77292964e-02,\n",
       "         1.03425208e+00,  7.35775796e-01],\n",
       "       [ 2.37695685e-01,  7.13852777e-01,  1.37792844e+00,\n",
       "         2.85237685e+00,  1.03467530e+00],\n",
       "       [ 9.97806861e-02, -6.44929061e-01, -5.72370273e-01,\n",
       "        -5.59493808e-01,  1.09099621e+00],\n",
       "       [-2.35800615e-01,  1.16678006e+00,  7.27828866e-01,\n",
       "         9.57896190e-03, -9.72928378e-01],\n",
       "       [ 6.05381605e-01,  2.60925498e-01,  7.77292964e-02,\n",
       "         1.49270349e+00,  1.40862301e+00],\n",
       "       [-3.29258022e-01, -6.44929061e-01, -5.72370273e-01,\n",
       "        -5.59493808e-01, -3.08125051e-01],\n",
       "       [-1.51184153e-01, -6.44929061e-01, -5.72370273e-01,\n",
       "        -5.59493808e-01, -4.00783957e-02],\n",
       "       [ 1.70873499e-01, -6.44929061e-01, -5.72370273e-01,\n",
       "        -5.59493808e-01, -1.11268662e-02],\n",
       "       [-3.21587753e-01,  2.07263461e+00,  2.67812757e+00,\n",
       "         3.37326661e+00,  1.76567081e-01],\n",
       "       [-2.41063974e-01, -6.44929061e-01, -5.72370273e-01,\n",
       "        -5.59493808e-01,  9.46453955e-01],\n",
       "       [-4.18023360e-01,  2.60925498e-01,  7.77292964e-02,\n",
       "        -2.52148895e-01, -1.25804969e+00],\n",
       "       [ 2.45202670e-02, -6.44929061e-01, -5.72370273e-01,\n",
       "        -5.59493808e-01, -2.94212731e-01],\n",
       "       [-2.88097054e-01, -6.44929061e-01, -5.72370273e-01,\n",
       "        -5.59493808e-01, -1.75973670e-01],\n",
       "       [ 3.35391550e-02, -6.44929061e-01, -5.72370273e-01,\n",
       "        -5.59493808e-01, -1.80538987e-01],\n",
       "       [-4.07712045e-01,  2.60925498e-01,  7.27828866e-01,\n",
       "         7.51426330e-01,  6.06182676e-01],\n",
       "       [-3.56445802e-01, -6.44929061e-01, -5.72370273e-01,\n",
       "        -5.59493808e-01, -6.66737879e-01],\n",
       "       [-1.79533244e-01, -6.44929061e-01, -5.72370273e-01,\n",
       "        -5.59493808e-01, -1.60851242e-01],\n",
       "       [-3.97672328e-01, -6.44929061e-01, -5.72370273e-01,\n",
       "        -5.59493808e-01, -1.28004702e+00],\n",
       "       [-3.73640691e-01, -6.44929061e-01, -5.72370273e-01,\n",
       "        -5.59493808e-01, -1.02493265e+00],\n",
       "       [-2.73852268e-01,  7.13852777e-01,  7.27828866e-01,\n",
       "         1.23582244e+00,  1.24834377e-03],\n",
       "       [-3.30578545e-01, -6.44929061e-01, -5.72370273e-01,\n",
       "        -5.59493808e-01, -1.18574674e+00],\n",
       "       [-4.50774191e-01, -6.44929061e-01, -5.72370273e-01,\n",
       "        -5.59493808e-01, -7.31968159e-01],\n",
       "       [-2.65442132e-01, -6.44929061e-01, -5.72370273e-01,\n",
       "        -5.59493808e-01, -1.77732046e-01],\n",
       "       [-3.58656038e-01, -6.44929061e-01, -5.72370273e-01,\n",
       "        -5.59493808e-01,  2.91162113e-01],\n",
       "       [-4.01746280e-01,  2.60925498e-01,  7.27828866e-01,\n",
       "        -3.60489402e-01, -1.16366522e+00],\n",
       "       [-3.01030682e-01, -6.44929061e-01, -5.72370273e-01,\n",
       "        -5.59493808e-01, -4.13758825e-01],\n",
       "       [-3.61456295e-01, -6.44929061e-01, -5.72370273e-01,\n",
       "        -5.59493808e-01,  1.94656771e+00],\n",
       "       [ 5.47705350e-02, -6.44929061e-01, -5.72370273e-01,\n",
       "        -5.59493808e-01, -3.35941860e-01],\n",
       "       [-1.13806810e-01,  1.16678006e+00,  7.27828866e-01,\n",
       "         1.49213327e+00,  1.78255945e-01],\n",
       "       [ 1.75153490e-01,  2.60925498e-01,  7.77292964e-02,\n",
       "         5.78081518e-01,  2.51059188e-01],\n",
       "       [-2.29216733e-01,  1.61970734e+00,  7.77292964e-02,\n",
       "         1.87485479e-01, -1.00640313e+00],\n",
       "       [-4.50774191e-01, -6.44929061e-01, -5.72370273e-01,\n",
       "        -5.59493808e-01,  6.93009851e-01],\n",
       "       [-1.69905604e-01, -6.44929061e-01, -5.72370273e-01,\n",
       "        -5.59493808e-01,  2.75083151e-01],\n",
       "       [-1.86051568e-01, -6.44929061e-01, -5.72370273e-01,\n",
       "        -5.59493808e-01,  2.26936340e-01],\n",
       "       [-2.12433922e-01,  7.13852777e-01,  7.77292964e-02,\n",
       "        -1.32689231e-01, -8.49326074e-01],\n",
       "       [-3.32835608e-01, -6.44929061e-01, -5.72370273e-01,\n",
       "        -5.59493808e-01,  9.39038119e-02],\n",
       "       [-2.07273582e-01,  7.13852777e-01,  7.77292964e-02,\n",
       "        -3.53594161e-03, -9.32175363e-01],\n",
       "       [-4.50774191e-01, -6.44929061e-01, -5.72370273e-01,\n",
       "        -5.59493808e-01,  9.33426697e-01],\n",
       "       [-3.45947179e-01, -6.44929061e-01, -5.72370273e-01,\n",
       "        -5.59493808e-01, -1.52376572e-01]])"
      ]
     },
     "execution_count": 100,
     "metadata": {},
     "output_type": "execute_result"
    }
   ],
   "source": [
    "x2=scaler.transform(x1)\n",
    "x2"
   ]
  },
  {
   "cell_type": "code",
   "execution_count": 106,
   "metadata": {},
   "outputs": [
    {
     "data": {
      "text/html": [
       "<div>\n",
       "<style scoped>\n",
       "    .dataframe tbody tr th:only-of-type {\n",
       "        vertical-align: middle;\n",
       "    }\n",
       "\n",
       "    .dataframe tbody tr th {\n",
       "        vertical-align: top;\n",
       "    }\n",
       "\n",
       "    .dataframe thead th {\n",
       "        text-align: right;\n",
       "    }\n",
       "</style>\n",
       "<table border=\"1\" class=\"dataframe\">\n",
       "  <thead>\n",
       "    <tr style=\"text-align: right;\">\n",
       "      <th></th>\n",
       "      <th>0</th>\n",
       "      <th>1</th>\n",
       "      <th>2</th>\n",
       "      <th>3</th>\n",
       "      <th>4</th>\n",
       "    </tr>\n",
       "  </thead>\n",
       "  <tbody>\n",
       "    <tr>\n",
       "      <th>0</th>\n",
       "      <td>6.593755</td>\n",
       "      <td>3.884344</td>\n",
       "      <td>5.928625</td>\n",
       "      <td>2.858934</td>\n",
       "      <td>-1.351259</td>\n",
       "    </tr>\n",
       "    <tr>\n",
       "      <th>1</th>\n",
       "      <td>3.535771</td>\n",
       "      <td>2.978489</td>\n",
       "      <td>2.678128</td>\n",
       "      <td>0.578652</td>\n",
       "      <td>-1.350993</td>\n",
       "    </tr>\n",
       "    <tr>\n",
       "      <th>2</th>\n",
       "      <td>0.690663</td>\n",
       "      <td>0.260925</td>\n",
       "      <td>0.727829</td>\n",
       "      <td>0.010149</td>\n",
       "      <td>5.422577</td>\n",
       "    </tr>\n",
       "    <tr>\n",
       "      <th>3</th>\n",
       "      <td>5.259886</td>\n",
       "      <td>0.260925</td>\n",
       "      <td>0.727829</td>\n",
       "      <td>0.865469</td>\n",
       "      <td>-1.348777</td>\n",
       "    </tr>\n",
       "    <tr>\n",
       "      <th>4</th>\n",
       "      <td>0.096990</td>\n",
       "      <td>-0.644929</td>\n",
       "      <td>-0.572370</td>\n",
       "      <td>-0.559494</td>\n",
       "      <td>0.357508</td>\n",
       "    </tr>\n",
       "  </tbody>\n",
       "</table>\n",
       "</div>"
      ],
      "text/plain": [
       "          0         1         2         3         4\n",
       "0  6.593755  3.884344  5.928625  2.858934 -1.351259\n",
       "1  3.535771  2.978489  2.678128  0.578652 -1.350993\n",
       "2  0.690663  0.260925  0.727829  0.010149  5.422577\n",
       "3  5.259886  0.260925  0.727829  0.865469 -1.348777\n",
       "4  0.096990 -0.644929 -0.572370 -0.559494  0.357508"
      ]
     },
     "execution_count": 106,
     "metadata": {},
     "output_type": "execute_result"
    }
   ],
   "source": [
    "x3.head()"
   ]
  },
  {
   "cell_type": "code",
   "execution_count": 111,
   "metadata": {},
   "outputs": [
    {
     "data": {
      "text/html": [
       "<div>\n",
       "<style scoped>\n",
       "    .dataframe tbody tr th:only-of-type {\n",
       "        vertical-align: middle;\n",
       "    }\n",
       "\n",
       "    .dataframe tbody tr th {\n",
       "        vertical-align: top;\n",
       "    }\n",
       "\n",
       "    .dataframe thead th {\n",
       "        text-align: right;\n",
       "    }\n",
       "</style>\n",
       "<table border=\"1\" class=\"dataframe\">\n",
       "  <thead>\n",
       "    <tr style=\"text-align: right;\">\n",
       "      <th></th>\n",
       "      <th>yitemrevenue</th>\n",
       "      <th>xcartaddtotalrs</th>\n",
       "      <th>xcartremove</th>\n",
       "      <th>xcardtremovetotal</th>\n",
       "      <th>xcardtremovetotalrs</th>\n",
       "      <th>xprodviewinrs</th>\n",
       "    </tr>\n",
       "  </thead>\n",
       "  <tbody>\n",
       "    <tr>\n",
       "      <th>0</th>\n",
       "      <td>39215.93</td>\n",
       "      <td>6.593755</td>\n",
       "      <td>3.884344</td>\n",
       "      <td>5.928625</td>\n",
       "      <td>2.858934</td>\n",
       "      <td>-1.351259</td>\n",
       "    </tr>\n",
       "    <tr>\n",
       "      <th>1</th>\n",
       "      <td>23819.47</td>\n",
       "      <td>3.535771</td>\n",
       "      <td>2.978489</td>\n",
       "      <td>2.678128</td>\n",
       "      <td>0.578652</td>\n",
       "      <td>-1.350993</td>\n",
       "    </tr>\n",
       "    <tr>\n",
       "      <th>2</th>\n",
       "      <td>4415.45</td>\n",
       "      <td>0.690663</td>\n",
       "      <td>0.260925</td>\n",
       "      <td>0.727829</td>\n",
       "      <td>0.010149</td>\n",
       "      <td>5.422577</td>\n",
       "    </tr>\n",
       "    <tr>\n",
       "      <th>3</th>\n",
       "      <td>57435.56</td>\n",
       "      <td>5.259886</td>\n",
       "      <td>0.260925</td>\n",
       "      <td>0.727829</td>\n",
       "      <td>0.865469</td>\n",
       "      <td>-1.348777</td>\n",
       "    </tr>\n",
       "    <tr>\n",
       "      <th>4</th>\n",
       "      <td>0.00</td>\n",
       "      <td>0.096990</td>\n",
       "      <td>-0.644929</td>\n",
       "      <td>-0.572370</td>\n",
       "      <td>-0.559494</td>\n",
       "      <td>0.357508</td>\n",
       "    </tr>\n",
       "  </tbody>\n",
       "</table>\n",
       "</div>"
      ],
      "text/plain": [
       "   yitemrevenue  xcartaddtotalrs  xcartremove  xcardtremovetotal  \\\n",
       "0      39215.93         6.593755     3.884344           5.928625   \n",
       "1      23819.47         3.535771     2.978489           2.678128   \n",
       "2       4415.45         0.690663     0.260925           0.727829   \n",
       "3      57435.56         5.259886     0.260925           0.727829   \n",
       "4          0.00         0.096990    -0.644929          -0.572370   \n",
       "\n",
       "   xcardtremovetotalrs  xprodviewinrs  \n",
       "0             2.858934      -1.351259  \n",
       "1             0.578652      -1.350993  \n",
       "2             0.010149       5.422577  \n",
       "3             0.865469      -1.348777  \n",
       "4            -0.559494       0.357508  "
      ]
     },
     "execution_count": 111,
     "metadata": {},
     "output_type": "execute_result"
    }
   ],
   "source": [
    "x3=pd.DataFrame(data=x2)\n",
    "y1=pd.DataFrame(data=y1)\n",
    "x3.head()\n",
    "result = pd.concat([y1,x3],axis=1)\n",
    "result.columns = ['yitemrevenue','xcartaddtotalrs','xcartremove','xcardtremovetotal','xcardtremovetotalrs','xprodviewinrs']\n",
    "result.head()"
   ]
  },
  {
   "cell_type": "code",
   "execution_count": 112,
   "metadata": {},
   "outputs": [
    {
     "data": {
      "text/plain": [
       "<statsmodels.regression.linear_model.RegressionResultsWrapper at 0x232fd170cc0>"
      ]
     },
     "execution_count": 112,
     "metadata": {},
     "output_type": "execute_result"
    }
   ],
   "source": [
    "lm3=smf.ols(formula='yitemrevenue~xcartaddtotalrs+xcartremove+xcardtremovetotal+xcardtremovetotalrs+xprodviewinrs',data=x).fit()\n",
    "lm3"
   ]
  },
  {
   "cell_type": "code",
   "execution_count": 113,
   "metadata": {},
   "outputs": [
    {
     "data": {
      "text/plain": [
       "Intercept               429.434613\n",
       "xcartaddtotalrs           0.075257\n",
       "xcartremove             111.244318\n",
       "xcardtremovetotal     -1305.733106\n",
       "xcardtremovetotalrs       0.023466\n",
       "xprodviewinrs             0.000415\n",
       "dtype: float64"
      ]
     },
     "execution_count": 113,
     "metadata": {},
     "output_type": "execute_result"
    }
   ],
   "source": [
    "parameter=lm3.params\n",
    "parameter"
   ]
  },
  {
   "cell_type": "code",
   "execution_count": 114,
   "metadata": {},
   "outputs": [
    {
     "data": {
      "text/html": [
       "<table class=\"simpletable\">\n",
       "<caption>OLS Regression Results</caption>\n",
       "<tr>\n",
       "  <th>Dep. Variable:</th>      <td>yitemrevenue</td>   <th>  R-squared:         </th> <td>   0.755</td>\n",
       "</tr>\n",
       "<tr>\n",
       "  <th>Model:</th>                   <td>OLS</td>       <th>  Adj. R-squared:    </th> <td>   0.741</td>\n",
       "</tr>\n",
       "<tr>\n",
       "  <th>Method:</th>             <td>Least Squares</td>  <th>  F-statistic:       </th> <td>   53.14</td>\n",
       "</tr>\n",
       "<tr>\n",
       "  <th>Date:</th>             <td>Mon, 11 Jun 2018</td> <th>  Prob (F-statistic):</th> <td>7.32e-25</td>\n",
       "</tr>\n",
       "<tr>\n",
       "  <th>Time:</th>                 <td>11:14:39</td>     <th>  Log-Likelihood:    </th> <td> -893.44</td>\n",
       "</tr>\n",
       "<tr>\n",
       "  <th>No. Observations:</th>      <td>    92</td>      <th>  AIC:               </th> <td>   1799.</td>\n",
       "</tr>\n",
       "<tr>\n",
       "  <th>Df Residuals:</th>          <td>    86</td>      <th>  BIC:               </th> <td>   1814.</td>\n",
       "</tr>\n",
       "<tr>\n",
       "  <th>Df Model:</th>              <td>     5</td>      <th>                     </th>     <td> </td>   \n",
       "</tr>\n",
       "<tr>\n",
       "  <th>Covariance Type:</th>      <td>nonrobust</td>    <th>                     </th>     <td> </td>   \n",
       "</tr>\n",
       "</table>\n",
       "<table class=\"simpletable\">\n",
       "<tr>\n",
       "           <td></td>              <th>coef</th>     <th>std err</th>      <th>t</th>      <th>P>|t|</th>  <th>[0.025</th>    <th>0.975]</th>  \n",
       "</tr>\n",
       "<tr>\n",
       "  <th>Intercept</th>           <td>  429.4346</td> <td>  841.241</td> <td>    0.510</td> <td> 0.611</td> <td>-1242.896</td> <td> 2101.766</td>\n",
       "</tr>\n",
       "<tr>\n",
       "  <th>xcartaddtotalrs</th>     <td>    0.0753</td> <td>    0.005</td> <td>   13.884</td> <td> 0.000</td> <td>    0.064</td> <td>    0.086</td>\n",
       "</tr>\n",
       "<tr>\n",
       "  <th>xcartremove</th>         <td>  111.2443</td> <td>  481.439</td> <td>    0.231</td> <td> 0.818</td> <td> -845.824</td> <td> 1068.313</td>\n",
       "</tr>\n",
       "<tr>\n",
       "  <th>xcardtremovetotal</th>   <td>-1305.7331</td> <td>  712.962</td> <td>   -1.831</td> <td> 0.071</td> <td>-2723.055</td> <td>  111.589</td>\n",
       "</tr>\n",
       "<tr>\n",
       "  <th>xcardtremovetotalrs</th> <td>    0.0235</td> <td>    0.221</td> <td>    0.106</td> <td> 0.916</td> <td>   -0.416</td> <td>    0.463</td>\n",
       "</tr>\n",
       "<tr>\n",
       "  <th>xprodviewinrs</th>       <td>    0.0004</td> <td>    0.000</td> <td>    0.906</td> <td> 0.367</td> <td>   -0.000</td> <td>    0.001</td>\n",
       "</tr>\n",
       "</table>\n",
       "<table class=\"simpletable\">\n",
       "<tr>\n",
       "  <th>Omnibus:</th>       <td>57.367</td> <th>  Durbin-Watson:     </th> <td>   1.902</td>\n",
       "</tr>\n",
       "<tr>\n",
       "  <th>Prob(Omnibus):</th> <td> 0.000</td> <th>  Jarque-Bera (JB):  </th> <td> 290.101</td>\n",
       "</tr>\n",
       "<tr>\n",
       "  <th>Skew:</th>          <td> 1.940</td> <th>  Prob(JB):          </th> <td>1.01e-63</td>\n",
       "</tr>\n",
       "<tr>\n",
       "  <th>Kurtosis:</th>      <td>10.786</td> <th>  Cond. No.          </th> <td>3.54e+06</td>\n",
       "</tr>\n",
       "</table>"
      ],
      "text/plain": [
       "<class 'statsmodels.iolib.summary.Summary'>\n",
       "\"\"\"\n",
       "                            OLS Regression Results                            \n",
       "==============================================================================\n",
       "Dep. Variable:           yitemrevenue   R-squared:                       0.755\n",
       "Model:                            OLS   Adj. R-squared:                  0.741\n",
       "Method:                 Least Squares   F-statistic:                     53.14\n",
       "Date:                Mon, 11 Jun 2018   Prob (F-statistic):           7.32e-25\n",
       "Time:                        11:14:39   Log-Likelihood:                -893.44\n",
       "No. Observations:                  92   AIC:                             1799.\n",
       "Df Residuals:                      86   BIC:                             1814.\n",
       "Df Model:                           5                                         \n",
       "Covariance Type:            nonrobust                                         \n",
       "=======================================================================================\n",
       "                          coef    std err          t      P>|t|      [0.025      0.975]\n",
       "---------------------------------------------------------------------------------------\n",
       "Intercept             429.4346    841.241      0.510      0.611   -1242.896    2101.766\n",
       "xcartaddtotalrs         0.0753      0.005     13.884      0.000       0.064       0.086\n",
       "xcartremove           111.2443    481.439      0.231      0.818    -845.824    1068.313\n",
       "xcardtremovetotal   -1305.7331    712.962     -1.831      0.071   -2723.055     111.589\n",
       "xcardtremovetotalrs     0.0235      0.221      0.106      0.916      -0.416       0.463\n",
       "xprodviewinrs           0.0004      0.000      0.906      0.367      -0.000       0.001\n",
       "==============================================================================\n",
       "Omnibus:                       57.367   Durbin-Watson:                   1.902\n",
       "Prob(Omnibus):                  0.000   Jarque-Bera (JB):              290.101\n",
       "Skew:                           1.940   Prob(JB):                     1.01e-63\n",
       "Kurtosis:                      10.786   Cond. No.                     3.54e+06\n",
       "==============================================================================\n",
       "\n",
       "Warnings:\n",
       "[1] Standard Errors assume that the covariance matrix of the errors is correctly specified.\n",
       "[2] The condition number is large, 3.54e+06. This might indicate that there are\n",
       "strong multicollinearity or other numerical problems.\n",
       "\"\"\""
      ]
     },
     "execution_count": 114,
     "metadata": {},
     "output_type": "execute_result"
    }
   ],
   "source": [
    "lm3.summary()"
   ]
  },
  {
   "cell_type": "code",
   "execution_count": 115,
   "metadata": {},
   "outputs": [
    {
     "data": {
      "text/plain": [
       "(0.24419296584376093, 0.9999900512739351, 'increasing')"
      ]
     },
     "execution_count": 115,
     "metadata": {},
     "output_type": "execute_result"
    }
   ],
   "source": [
    "#test for heteroscedasity\n",
    "test=sms.het_goldfeldquandt(lm3.resid,lm3.model.exog)\n",
    "test"
   ]
  },
  {
   "cell_type": "code",
   "execution_count": 116,
   "metadata": {},
   "outputs": [
    {
     "data": {
      "image/png": "[encoded data removed]",
      "text/plain": [
       "<matplotlib.figure.Figure at 0x232fd198748>"
      ]
     },
     "metadata": {},
     "output_type": "display_data"
    }
   ],
   "source": [
    "plt.figure(figsize=(10,6))\n",
    "plt.scatter(lm3.predict(), lm3.resid, s = 5.5, color='r')\n",
    "plt.show()"
   ]
  },
  {
   "cell_type": "code",
   "execution_count": 117,
   "metadata": {},
   "outputs": [
    {
     "data": {
      "text/plain": [
       "Text(0.5,1,'Plot Residual Normality')"
      ]
     },
     "execution_count": 117,
     "metadata": {},
     "output_type": "execute_result"
    },
    {
     "data": {
      "image/png": "[encoded data removed]",
      "text/plain": [
       "<matplotlib.figure.Figure at 0x232fd0e16d8>"
      ]
     },
     "metadata": {},
     "output_type": "display_data"
    }
   ],
   "source": [
    "sns.distplot(lm3.resid, hist=True)\n",
    "plt.title(\"Plot Residual Normality\")"
   ]
  },
  {
   "cell_type": "code",
   "execution_count": 118,
   "metadata": {},
   "outputs": [
    {
     "name": "stderr",
     "output_type": "stream",
     "text": [
      "No handles with labels found to put in legend.\n"
     ]
    },
    {
     "data": {
      "image/png": "[encoded data removed]",
      "text/plain": [
       "<matplotlib.figure.Figure at 0x232ff39acf8>"
      ]
     },
     "metadata": {},
     "output_type": "display_data"
    }
   ],
   "source": [
    "import pylab\n",
    "import scipy.stats\n",
    "plt.figure(figsize=(10,6))\n",
    "scipy.stats.probplot(lm3.resid, dist=\"norm\", plot=pylab)\n",
    "pylab.legend()\n",
    "pylab.show()"
   ]
  },
  {
   "cell_type": "code",
   "execution_count": 119,
   "metadata": {},
   "outputs": [],
   "source": [
    "import numpy\n",
    "from pyearth import Earth\n",
    "from matplotlib import pyplot"
   ]
  },
  {
   "cell_type": "code",
   "execution_count": 120,
   "metadata": {},
   "outputs": [],
   "source": [
    "X = data.drop(['yitemrevenue'], 1)\n",
    "y = data['yitemrevenue']"
   ]
  },
  {
   "cell_type": "code",
   "execution_count": 121,
   "metadata": {},
   "outputs": [
    {
     "name": "stderr",
     "output_type": "stream",
     "text": [
      "C:\\Users\\nikita059240\\AppData\\Local\\Continuum\\anaconda3\\lib\\site-packages\\pyearth\\earth.py:802: FutureWarning: `rcond` parameter will change to the default of machine precision times ``max(M, N)`` where M and N are the input matrix dimensions.\n",
      "To use the future default and silence this warning we advise to pass `rcond=None`, to keep using the old, explicitly pass `rcond=-1`.\n",
      "  pruning_passer.run()\n",
      "C:\\Users\\nikita059240\\AppData\\Local\\Continuum\\anaconda3\\lib\\site-packages\\pyearth\\earth.py:1055: FutureWarning: `rcond` parameter will change to the default of machine precision times ``max(M, N)`` where M and N are the input matrix dimensions.\n",
      "To use the future default and silence this warning we advise to pass `rcond=None`, to keep using the old, explicitly pass `rcond=-1`.\n",
      "  coef, resid = np.linalg.lstsq(B, weighted_y[:, i])[0:2]\n"
     ]
    },
    {
     "data": {
      "text/plain": [
       "Earth(allow_linear=None, allow_missing=False, check_every=None,\n",
       "   enable_pruning=True, endspan=None, endspan_alpha=None, fast_K=None,\n",
       "   fast_h=None, feature_importance_type=None, max_degree=None,\n",
       "   max_terms=None, min_search_points=None, minspan=None,\n",
       "   minspan_alpha=None, penalty=None, smooth=None, thresh=None,\n",
       "   use_fast=None, verbose=0, zero_tol=None)"
      ]
     },
     "execution_count": 121,
     "metadata": {},
     "output_type": "execute_result"
    }
   ],
   "source": [
    "#Fit an Earth model\n",
    "model = Earth()\n",
    "model.fit(X,y)"
   ]
  },
  {
   "cell_type": "code",
   "execution_count": 122,
   "metadata": {},
   "outputs": [
    {
     "name": "stdout",
     "output_type": "stream",
     "text": [
      "Earth Model\n",
      "--------------------------------------------------\n",
      "Basis Function               Pruned  Coefficient  \n",
      "--------------------------------------------------\n",
      "(Intercept)                  No      -1670.14     \n",
      "xcartaddtotalrs              Yes     None         \n",
      "h(xcardtremovetotal-3)       Yes     None         \n",
      "h(3-xcardtremovetotal)       Yes     None         \n",
      "h(xcartaddtotalrs-46987)     Yes     None         \n",
      "h(46987-xcartaddtotalrs)     Yes     None         \n",
      "h(xproductviews-1115)        No      -12.1955     \n",
      "h(1115-xproductviews)        Yes     None         \n",
      "xprodviewinrs                Yes     None         \n",
      "xcardtremovetotalrs          Yes     None         \n",
      "xproductviews                Yes     None         \n",
      "h(xcartaddtotalrs-70676)     No      0.160767     \n",
      "h(70676-xcartaddtotalrs)     Yes     None         \n",
      "xuniqprodview                Yes     None         \n",
      "h(xcardtremovetotalrs-4598)  Yes     None         \n",
      "h(4598-xcardtremovetotalrs)  No      0.563219     \n",
      "h(xprodviewinrs-1.1494E+06)  No      0.00225323   \n",
      "h(1.1494E+06-xprodviewinrs)  Yes     None         \n",
      "h(xcartaddtotalrs-3497)      Yes     None         \n",
      "h(3497-xcartaddtotalrs)      Yes     None         \n",
      "h(xuniqprodview-795)         Yes     None         \n",
      "h(795-xuniqprodview)         Yes     None         \n",
      "h(xuniqprodview-657)         Yes     None         \n",
      "h(657-xuniqprodview)         Yes     None         \n",
      "h(xproductviews-691)         No      9.00113      \n",
      "h(691-xproductviews)         Yes     None         \n",
      "h(xproductviews-636)         Yes     None         \n",
      "h(636-xproductviews)         Yes     None         \n",
      "--------------------------------------------------\n",
      "MSE: 9702132.4801, GCV: 13326114.5380, RSQ: 0.8512, GRSQ: 0.8001\n"
     ]
    }
   ],
   "source": [
    "print(model.summary())"
   ]
  },
  {
   "cell_type": "code",
   "execution_count": 126,
   "metadata": {},
   "outputs": [
    {
     "data": {
      "text/plain": [
       "array([[-1.67013692e+03, -1.21955073e+01,  1.60767103e-01,\n",
       "         5.63219430e-01,  2.25323484e-03,  9.00112987e+00]])"
      ]
     },
     "execution_count": 126,
     "metadata": {},
     "output_type": "execute_result"
    }
   ],
   "source": [
    "model.coef_"
   ]
  },
  {
   "cell_type": "markdown",
   "metadata": {},
   "source": []
  }
 ],
 "metadata": {
  "kernelspec": {
   "display_name": "Python 3",
   "language": "python",
   "name": "python3"
  },
  "language_info": {
   "codemirror_mode": {
    "name": "ipython",
    "version": 3
   },
   "file_extension": ".py",
   "mimetype": "text/x-python",
   "name": "python",
   "nbconvert_exporter": "python",
   "pygments_lexer": "ipython3",
   "version": "3.6.4"
  }
 },
 "nbformat": 4,
 "nbformat_minor": 2
}
