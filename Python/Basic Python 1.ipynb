{
 "cells": [
  {
   "cell_type": "markdown",
   "metadata": {},
   "source": [
    "# ini namanya Heading"
   ]
  },
  {
   "cell_type": "markdown",
   "metadata": {},
   "source": [
    "mengecek apakah program dapat berjalan"
   ]
  },
  {
   "cell_type": "code",
   "execution_count": 2,
   "metadata": {},
   "outputs": [
    {
     "data": {
      "text/plain": [
       "2"
      ]
     },
     "execution_count": 2,
     "metadata": {},
     "output_type": "execute_result"
    }
   ],
   "source": [
    "1+1"
   ]
  },
  {
   "cell_type": "markdown",
   "metadata": {},
   "source": [
    "Mengecek versi dari python"
   ]
  },
  {
   "cell_type": "code",
   "execution_count": 13,
   "metadata": {},
   "outputs": [
    {
     "name": "stdout",
     "output_type": "stream",
     "text": [
      "3.6.4\n"
     ]
    }
   ],
   "source": [
    "#mengetahui apakah versi python yang digunakan adalah python 2 atau 3\n",
    "import platform\n",
    "print(platform.python_version()) "
   ]
  },
  {
   "cell_type": "markdown",
   "metadata": {},
   "source": [
    "Variable"
   ]
  },
  {
   "cell_type": "code",
   "execution_count": 14,
   "metadata": {},
   "outputs": [
    {
     "name": "stdout",
     "output_type": "stream",
     "text": [
      "10\n",
      "3\n",
      "13\n"
     ]
    }
   ],
   "source": [
    "#memasukkan variabel\n",
    "x=10\n",
    "y=3\n",
    "#melakukan operasi pada variabel\n",
    "print(x)\n",
    "print(y)\n",
    "print(x+y)"
   ]
  },
  {
   "cell_type": "markdown",
   "metadata": {},
   "source": [
    "Arithmetic"
   ]
  },
  {
   "cell_type": "code",
   "execution_count": 11,
   "metadata": {
    "scrolled": true
   },
   "outputs": [
    {
     "name": "stdout",
     "output_type": "stream",
     "text": [
      "13\n",
      "7\n",
      "-10\n",
      "30\n",
      "1000\n",
      "3.3333333333333335\n",
      "3\n",
      "1\n"
     ]
    }
   ],
   "source": [
    "print(x+y)\n",
    "print(x-y)\n",
    "print(-x)\n",
    "print(x*y)\n",
    "print(x**y)\n",
    "print(x/y)\n",
    "print(x//y)\n",
    "print(x%y)"
   ]
  },
  {
   "cell_type": "markdown",
   "metadata": {},
   "source": [
    "Boolean and Boolean Expression"
   ]
  },
  {
   "cell_type": "code",
   "execution_count": 20,
   "metadata": {},
   "outputs": [
    {
     "name": "stdout",
     "output_type": "stream",
     "text": [
      "True\n",
      "False\n",
      "<class 'bool'>\n",
      "<class 'bool'>\n",
      "<class 'str'>\n",
      "<class 'str'>\n"
     ]
    }
   ],
   "source": [
    "#mencetak hasil benar atau salah\n",
    "print(True)\n",
    "print(False)\n",
    "\n",
    "#mengetahui tipe data untuk true dan false\n",
    "print(type(True))\n",
    "print(type(False))\n",
    "\n",
    "print(type('True'))\n",
    "print(type('False'))"
   ]
  },
  {
   "cell_type": "markdown",
   "metadata": {},
   "source": [
    "ketika menggunakan \"\" maka tipe data akan berubah menjadi string, sedangkan tanpa \"\" data akan memiliki tipe boolean"
   ]
  },
  {
   "cell_type": "code",
   "execution_count": 28,
   "metadata": {},
   "outputs": [
    {
     "name": "stdout",
     "output_type": "stream",
     "text": [
      "<class 'bool'>\n",
      "False\n",
      "True\n",
      "False\n",
      "True\n"
     ]
    }
   ],
   "source": [
    "#melakukan operasi terhadap data boolean\n",
    "t=True\n",
    "f=False\n",
    "print(type(t))\n",
    "print(t and f)\n",
    "print(t or f)\n",
    "print(not t)\n",
    "print(t!=f)"
   ]
  },
  {
   "cell_type": "markdown",
   "metadata": {},
   "source": [
    "List"
   ]
  },
  {
   "cell_type": "code",
   "execution_count": 47,
   "metadata": {},
   "outputs": [
    {
     "name": "stdout",
     "output_type": "stream",
     "text": [
      "[2, 3, 4, 5, 6, 7]\n",
      "<class 'list'>\n",
      "[['Bob', 160], ['Charlie', 150], ['Brian', 140.5]]\n",
      "<class 'list'>\n",
      "['Bob', 160]\n",
      "<class 'list'>\n",
      "Bob\n",
      "<class 'str'>\n",
      "160\n",
      "<class 'int'>\n"
     ]
    }
   ],
   "source": [
    "#list biasa\n",
    "fam=[2,3,4,5,6,7]\n",
    "print(fam)\n",
    "print(type(fam))\n",
    "\n",
    "#list dalam list\n",
    "Data=[['Bob',160],['Charlie',150],['Brian',140.5]]\n",
    "#mencetak variabel dan typenya\n",
    "print(Data)\n",
    "print(type(Data))\n",
    "#mencetak inkdeks pertama dari variabel dan typenya\n",
    "print(Data[0])\n",
    "print(type(Data[0]))\n",
    "#mencetak nilai pertama dari indeks pertama variabel dan typenya\n",
    "print(Data[0][0])\n",
    "print(type(Data[0][0]))\n",
    "#mencetak nilai kedua dari indeks pertama variabel dan typenya\n",
    "print(Data[0][1])\n",
    "print(type(Data[0][1]))"
   ]
  },
  {
   "cell_type": "code",
   "execution_count": 68,
   "metadata": {},
   "outputs": [
    {
     "name": "stdout",
     "output_type": "stream",
     "text": [
      "[0, 1, 2, 3, 4]\n",
      " \n",
      "indeks ke 2 sampe 4 adalah  [2, 3]\n",
      "indeks ke2 sampai selesai adalah  [2, 3, 4]\n",
      "list mulai dari awal sampai indeks ke 1 adalah  [0, 1]\n",
      "list dari awal sampai akhir adalah  [0, 1, 2, 3, 4]\n",
      "list dari awal sampai angka kedua dari akhir [0, 1, 2, 3]\n",
      " \n",
      "list yang baru adalah  [0, 1, 8, 9, 4]\n",
      "list adalah[0, 1, 8, 9, 4]\n",
      "list adalah:1.00\n"
     ]
    }
   ],
   "source": [
    "nums=list(range(5))\n",
    "#mencetak isi list keseluruhan\n",
    "print(nums)\n",
    "print(\" \")\n",
    "\n",
    "#SCLICING\n",
    "#mencetak list pada indeks ke 2 sampe 4 \n",
    "print('indeks ke 2 sampe 4 adalah ',nums[2:4])\n",
    "#mencetak list mulai dari indeks ke2 sampai selesai\n",
    "print('indeks ke2 sampai selesai adalah ',nums[2:])\n",
    "#mencetak list mulai dari awal sampai indeks ke 1\n",
    "print('list mulai dari awal sampai indeks ke 1 adalah ',nums[:2])\n",
    "#mencetak list dari awal sampai akhir\n",
    "print('list dari awal sampai akhir adalah ',nums[:])\n",
    "#mencetak list dari awal sampai angka kedua dari akhir\n",
    "print('list dari awal sampai angka kedua dari akhir',nums[:-1])\n",
    "print(' ')\n",
    "\n",
    "#REPLACE\n",
    "#mengubah nilai list pada indeks ke 2 dan 3\n",
    "nums[2:4]=[8,9]\n",
    "#mencetak listy baru yang sudah diubah\n",
    "print('list yang baru adalah ',nums)\n",
    "print('list adalah{}'.format(nums)) \n",
    "print('list adalah:{:0.2f}'.format(nums[1])) #untuk foromat 2 angka di belakang koma"
   ]
  },
  {
   "cell_type": "code",
   "execution_count": 75,
   "metadata": {},
   "outputs": [
    {
     "name": "stdout",
     "output_type": "stream",
     "text": [
      "[['Bob', 160], ['Charlie', 150], ['Brian', 140.5]]\n",
      "['Brian', 140.5]\n",
      "[['Bob', 160], ['Charlie', 150]]\n",
      "['Bob', 160]\n",
      "[['Charlie', 150]]\n"
     ]
    }
   ],
   "source": [
    "#DELETE\n",
    "#pop\n",
    "Data=[['Bob',160],['Charlie',150],['Brian',140.5]] #data awal\n",
    "print(Data) #cetak data\n",
    "print(Data.pop()) #data apa yang bakal kebuang saat di pop\n",
    "print(Data) #data yang sudah dibuang 1 \n",
    "print(Data.pop(0))#data yang akan dibuang pada indeks 0\n",
    "print(Data) #data yang sudah di pop pertama dan kedua"
   ]
  },
  {
   "cell_type": "code",
   "execution_count": 84,
   "metadata": {},
   "outputs": [
    {
     "name": "stdout",
     "output_type": "stream",
     "text": [
      "[0, 1, 2, 3, 4, 5, 6, 7, 8, 9]\n",
      "[0, 1, 2, 12, 3, 4, 5, 6, 7, 8, 9]\n"
     ]
    }
   ],
   "source": [
    "#MENYISIPKAN\n",
    "N=list(range(10))\n",
    "print(N)\n",
    "N.insert(3,12)\n",
    "print(N)"
   ]
  },
  {
   "cell_type": "markdown",
   "metadata": {},
   "source": [
    "Function"
   ]
  },
  {
   "cell_type": "code",
   "execution_count": 96,
   "metadata": {},
   "outputs": [
    {
     "name": "stdout",
     "output_type": "stream",
     "text": [
      "[0, 1, 2, 3, 4, 5, 6, 7, 8, 9]\n",
      "9\n",
      "0\n",
      "10\n"
     ]
    }
   ],
   "source": [
    "N=list(range(10))\n",
    "print(N)\n",
    "print(max(N))\n",
    "print(min(N))\n",
    "print(len(N))"
   ]
  },
  {
   "cell_type": "markdown",
   "metadata": {},
   "source": [
    "Fungsi if"
   ]
  },
  {
   "cell_type": "code",
   "execution_count": 95,
   "metadata": {},
   "outputs": [
    {
     "data": {
      "text/plain": [
       "'tinggi'"
      ]
     },
     "execution_count": 95,
     "metadata": {},
     "output_type": "execute_result"
    }
   ],
   "source": [
    "def label_height(height):\n",
    "    \"\"\"This is to lable height\"\"\"\n",
    "    if height>150:#pake and kalo misal ada 2 syarat\n",
    "        label=\"tinggi\"\n",
    "    elif height<=150:\n",
    "        label=\"kurang tinggi\"\n",
    "    else:\n",
    "        label=\"lain-lain\"\n",
    "    return label\n",
    "label_height(170)"
   ]
  },
  {
   "cell_type": "code",
   "execution_count": 105,
   "metadata": {},
   "outputs": [
    {
     "name": "stdout",
     "output_type": "stream",
     "text": [
      "['Bob', 'Charlie', 'Brian']\n",
      "[160, 150, 140.5]\n",
      "['kurang tinggi', 'kurang tinggi', 'kurang tinggi', 'kurang tinggi', 'kurang tinggi', 'kurang tinggi']\n",
      "['tinggi', 'kurang tinggi', 'kurang tinggi']\n"
     ]
    }
   ],
   "source": [
    "Data=[['Bob',160],['Charlie',150],['Brian',140.5]]\n",
    "\n",
    "#misahin nama sama tinggi badan\n",
    "name_list=[row[0] for row in Data]\n",
    "height_list=[row[1] for row in Data]\n",
    "#cetak list baru yang udah dipisah\n",
    "print(name_list)\n",
    "print(height_list)\n",
    "\n",
    "#jalanin fungsi pada keseluruhan list\n",
    "print(list(map(label_height,fam)))\n",
    "print(list(map(label_height,height_list)))"
   ]
  },
  {
   "cell_type": "code",
   "execution_count": 113,
   "metadata": {},
   "outputs": [
    {
     "name": "stdout",
     "output_type": "stream",
     "text": [
      "[0, 1, 2, 3, 4, 5, 6, 7, 8, 9]\n",
      "[0, 1, 4, 9, 16, 25, 36, 49, 64, 81]\n",
      "[0, 1, 8, 27, 64, 125, 216, 343, 512, 729]\n"
     ]
    }
   ],
   "source": [
    "nums=list(range(10))\n",
    "print(nums)\n",
    "squares=[x ** 2 for x in nums]\n",
    "print(squares)\n",
    "cubic=list(map(lambda x:x**3,nums))\n",
    "print(cubic)"
   ]
  },
  {
   "cell_type": "markdown",
   "metadata": {},
   "source": [
    "Method"
   ]
  },
  {
   "cell_type": "code",
   "execution_count": 116,
   "metadata": {},
   "outputs": [
    {
     "name": "stdout",
     "output_type": "stream",
     "text": [
      "[160.  150.  140.5]\n",
      "<class 'numpy.ndarray'>\n",
      "[150.  140.  130.5]\n"
     ]
    }
   ],
   "source": [
    "import numpy as np\n",
    "#mengubah height_list menjadi bentuk array\n",
    "height_array =np.array(height_list)\n",
    "print(height_array)\n",
    "print(type(height_array))\n",
    "\n",
    "#bisa melakukan perhitungan untuk list\n",
    "height_array=height_array-10\n",
    "print(height_array)"
   ]
  },
  {
   "cell_type": "code",
   "execution_count": 135,
   "metadata": {},
   "outputs": [
    {
     "name": "stdout",
     "output_type": "stream",
     "text": [
      "<class 'numpy.ndarray'>\n",
      "int32\n",
      "(2, 3)\n",
      " \n",
      "perhitungan set data\n",
      "[[1 2 3]\n",
      " [4 5 6]]\n",
      "[1 2 3 4 5 6]\n",
      "[[1 4]\n",
      " [2 5]\n",
      " [3 6]]\n",
      "[[1 2 3]\n",
      " [4 5 6]]\n",
      " \n",
      "Mengoperasikan atas bawah(kolom)\n",
      "[5 7 9]\n",
      "[2.5 3.5 4.5]\n",
      "[1.5 1.5 1.5]\n",
      "[1 2 3]\n",
      "[4 5 6]\n",
      " \n",
      "Menjumlahkan kanan kiri(baris)\n",
      "[ 6 15]\n",
      "[2. 5.]\n",
      "[0.81649658 0.81649658]\n",
      "[1 4]\n",
      "[3 6]\n"
     ]
    }
   ],
   "source": [
    "x=np.array([[1,2,3],[4,5,6]])\n",
    "print(type(x))\n",
    "print(x.dtype)\n",
    "print(x.shape)\n",
    "\n",
    "print(\" \")\n",
    "print(\"perhitungan set data\")\n",
    "\n",
    "#perhitungan set data\n",
    "print(x)\n",
    "print(x.flatten())\n",
    "print(x.transpose())\n",
    "print(x.reshape([2,3]))\n",
    "\n",
    "print(\" \")\n",
    "print(\"Mengoperasikan atas bawah(kolom)\")\n",
    "\n",
    "#Mengoperasikan atas bawah\n",
    "print(x.sum(axis=0))\n",
    "print(x.mean(axis=0))\n",
    "print(x.std(axis=0))\n",
    "print(x.min(axis=0))\n",
    "print(x.max(axis=0))\n",
    "\n",
    "print(\" \")\n",
    "print(\"Menjumlahkan kanan kiri(baris)\")\n",
    "\n",
    "#Menjumlahkan kanan kiri\n",
    "print(x.sum(axis=1))\n",
    "print(x.mean(axis=1))\n",
    "print(x.std(axis=1))\n",
    "print(x.min(axis=1))\n",
    "print(x.max(axis=1))"
   ]
  },
  {
   "cell_type": "markdown",
   "metadata": {},
   "source": [
    "dtype digunakan untuk mengetahui tipe data\n",
    "shape digunakan untuk mengetahui bari dan kolom dari list"
   ]
  },
  {
   "cell_type": "code",
   "execution_count": 146,
   "metadata": {},
   "outputs": [
    {
     "name": "stdout",
     "output_type": "stream",
     "text": [
      "berlin\n",
      "{'spain': 'madrid', 'france': 'paris', 'germany': 'berlin', 'norway': 'oslo'}\n",
      "dict_keys(['spain', 'france', 'germany', 'norway'])\n",
      "dict_values(['madrid', 'paris', 'berlin', 'oslo'])\n"
     ]
    }
   ],
   "source": [
    "countries = ['spain', 'france', 'germany','norway']\n",
    "capitals = ['madrid', 'paris', 'berlin', 'oslo']\n",
    "ind_ger = countries.index('germany')\n",
    "print(capitals[ind_ger])\n",
    "europe = {'spain':'madrid', 'france':'paris', 'germany':'berlin', 'norway':'oslo'}\n",
    "type(europe)\n",
    "print(europe)\n",
    "print(europe.keys())\n",
    "print(europe.values())"
   ]
  },
  {
   "cell_type": "code",
   "execution_count": 147,
   "metadata": {},
   "outputs": [
    {
     "data": {
      "text/plain": [
       "dict_values([['US', 'AUS', 'JPN', 'IN', 'RUS', 'MOR', 'EG'], ['United State', 'Australia', 'India', 'Japan', 'Russia', 'Morocco', 'Egypt'], [True, False, False, False, True, True, True], [809, 731, 588, 18, 200, 70, 45]])"
      ]
     },
     "execution_count": 147,
     "metadata": {},
     "output_type": "execute_result"
    }
   ],
   "source": [
    "code=['US','AUS','JPN','IN','RUS','MOR','EG']\n",
    "names=['United State','Australia','India','Japan','Russia','Morocco','Egypt']\n",
    "dr=[True,False,False,False,True,True,True]\n",
    "cpc=[809,731,588,18,200,70,45]\n",
    "my_dict={'ctrcode':code,'country':names,'drives_right':dr,'cars_per_cap':cpc}\n",
    "my_dict.values()"
   ]
  },
  {
   "cell_type": "code",
   "execution_count": 154,
   "metadata": {},
   "outputs": [
    {
     "name": "stdout",
     "output_type": "stream",
     "text": [
      "<class 'pandas.core.frame.DataFrame'>\n",
      "   cars_per_cap       country ctrcode  drives_right\n",
      "0           809  United State      US          True\n",
      "1           731     Australia     AUS         False\n",
      "2           588         India     JPN         False\n",
      "3            18         Japan      IN         False\n",
      "4           200        Russia     RUS          True\n",
      "5            70       Morocco     MOR          True\n",
      "6            45         Egypt      EG          True\n",
      "Index(['cars_per_cap', 'country', 'ctrcode', 'drives_right'], dtype='object')\n",
      "4\n",
      "7\n",
      " \n",
      "   cars_per_cap       country ctrcode  drives_right\n",
      "0           809  United State      US          True\n",
      "1           731     Australia     AUS         False\n",
      "2           588         India     JPN         False\n",
      " \n",
      "   cars_per_cap  country ctrcode  drives_right\n",
      "4           200   Russia     RUS          True\n",
      "5            70  Morocco     MOR          True\n",
      "6            45    Egypt      EG          True\n"
     ]
    }
   ],
   "source": [
    "import pandas as pd\n",
    "cars=pd.DataFrame(my_dict)\n",
    "print(type(cars))\n",
    "print(cars)\n",
    "#meyebutkan namanama kolom pada variabel cars\n",
    "print(cars.columns)\n",
    "\n",
    "#mengetahui jumlah data\n",
    "print(len(cars.columns)) #mengatahui jumlah kolom pada variabel cars\n",
    "print(len(cars))#mengetahui jumlah data variabel cars\n",
    "\n",
    "print(\" \")\n",
    "#menampilkan 3 data teratas dan 3 data terbawah\n",
    "print(cars.head(3))\n",
    "print(\" \")\n",
    "print(cars.tail(3))"
   ]
  },
  {
   "cell_type": "code",
   "execution_count": 166,
   "metadata": {},
   "outputs": [
    {
     "name": "stdout",
     "output_type": "stream",
     "text": [
      "cars_per_cap     int64\n",
      "country         object\n",
      "ctrcode         object\n",
      "drives_right      bool\n",
      "dtype: object\n",
      " \n",
      "<bound method DataFrame.info of    cars_per_cap       country ctrcode  drives_right\n",
      "0           809  United State      US          True\n",
      "1           731     Australia     AUS         False\n",
      "2           588         India     JPN         False\n",
      "3            18         Japan      IN         False\n",
      "4           200        Russia     RUS          True\n",
      "5            70       Morocco     MOR          True\n",
      "6            45         Egypt      EG          True>\n"
     ]
    }
   ],
   "source": [
    "print(cars.dtypes)\n",
    "print(\" \")\n",
    "print(cars.info)"
   ]
  },
  {
   "cell_type": "code",
   "execution_count": 167,
   "metadata": {},
   "outputs": [
    {
     "data": {
      "text/html": [
       "<div>\n",
       "<style scoped>\n",
       "    .dataframe tbody tr th:only-of-type {\n",
       "        vertical-align: middle;\n",
       "    }\n",
       "\n",
       "    .dataframe tbody tr th {\n",
       "        vertical-align: top;\n",
       "    }\n",
       "\n",
       "    .dataframe thead th {\n",
       "        text-align: right;\n",
       "    }\n",
       "</style>\n",
       "<table border=\"1\" class=\"dataframe\">\n",
       "  <thead>\n",
       "    <tr style=\"text-align: right;\">\n",
       "      <th></th>\n",
       "      <th>cars_per_cap</th>\n",
       "    </tr>\n",
       "  </thead>\n",
       "  <tbody>\n",
       "    <tr>\n",
       "      <th>count</th>\n",
       "      <td>7.000000</td>\n",
       "    </tr>\n",
       "    <tr>\n",
       "      <th>mean</th>\n",
       "      <td>351.571429</td>\n",
       "    </tr>\n",
       "    <tr>\n",
       "      <th>std</th>\n",
       "      <td>345.595552</td>\n",
       "    </tr>\n",
       "    <tr>\n",
       "      <th>min</th>\n",
       "      <td>18.000000</td>\n",
       "    </tr>\n",
       "    <tr>\n",
       "      <th>25%</th>\n",
       "      <td>57.500000</td>\n",
       "    </tr>\n",
       "    <tr>\n",
       "      <th>50%</th>\n",
       "      <td>200.000000</td>\n",
       "    </tr>\n",
       "    <tr>\n",
       "      <th>75%</th>\n",
       "      <td>659.500000</td>\n",
       "    </tr>\n",
       "    <tr>\n",
       "      <th>max</th>\n",
       "      <td>809.000000</td>\n",
       "    </tr>\n",
       "  </tbody>\n",
       "</table>\n",
       "</div>"
      ],
      "text/plain": [
       "       cars_per_cap\n",
       "count      7.000000\n",
       "mean     351.571429\n",
       "std      345.595552\n",
       "min       18.000000\n",
       "25%       57.500000\n",
       "50%      200.000000\n",
       "75%      659.500000\n",
       "max      809.000000"
      ]
     },
     "execution_count": 167,
     "metadata": {},
     "output_type": "execute_result"
    }
   ],
   "source": [
    "cars.describe()"
   ]
  },
  {
   "cell_type": "code",
   "execution_count": 170,
   "metadata": {},
   "outputs": [
    {
     "data": {
      "text/html": [
       "<div>\n",
       "<style scoped>\n",
       "    .dataframe tbody tr th:only-of-type {\n",
       "        vertical-align: middle;\n",
       "    }\n",
       "\n",
       "    .dataframe tbody tr th {\n",
       "        vertical-align: top;\n",
       "    }\n",
       "\n",
       "    .dataframe thead th {\n",
       "        text-align: right;\n",
       "    }\n",
       "</style>\n",
       "<table border=\"1\" class=\"dataframe\">\n",
       "  <thead>\n",
       "    <tr style=\"text-align: right;\">\n",
       "      <th></th>\n",
       "      <th>cars_per_cap</th>\n",
       "      <th>country</th>\n",
       "      <th>drives_right</th>\n",
       "    </tr>\n",
       "    <tr>\n",
       "      <th>ctrcode</th>\n",
       "      <th></th>\n",
       "      <th></th>\n",
       "      <th></th>\n",
       "    </tr>\n",
       "  </thead>\n",
       "  <tbody>\n",
       "    <tr>\n",
       "      <th>US</th>\n",
       "      <td>809</td>\n",
       "      <td>United State</td>\n",
       "      <td>True</td>\n",
       "    </tr>\n",
       "    <tr>\n",
       "      <th>AUS</th>\n",
       "      <td>731</td>\n",
       "      <td>Australia</td>\n",
       "      <td>False</td>\n",
       "    </tr>\n",
       "    <tr>\n",
       "      <th>JPN</th>\n",
       "      <td>588</td>\n",
       "      <td>India</td>\n",
       "      <td>False</td>\n",
       "    </tr>\n",
       "    <tr>\n",
       "      <th>IN</th>\n",
       "      <td>18</td>\n",
       "      <td>Japan</td>\n",
       "      <td>False</td>\n",
       "    </tr>\n",
       "    <tr>\n",
       "      <th>RUS</th>\n",
       "      <td>200</td>\n",
       "      <td>Russia</td>\n",
       "      <td>True</td>\n",
       "    </tr>\n",
       "    <tr>\n",
       "      <th>MOR</th>\n",
       "      <td>70</td>\n",
       "      <td>Morocco</td>\n",
       "      <td>True</td>\n",
       "    </tr>\n",
       "    <tr>\n",
       "      <th>EG</th>\n",
       "      <td>45</td>\n",
       "      <td>Egypt</td>\n",
       "      <td>True</td>\n",
       "    </tr>\n",
       "  </tbody>\n",
       "</table>\n",
       "</div>"
      ],
      "text/plain": [
       "         cars_per_cap       country  drives_right\n",
       "ctrcode                                          \n",
       "US                809  United State          True\n",
       "AUS               731     Australia         False\n",
       "JPN               588         India         False\n",
       "IN                 18         Japan         False\n",
       "RUS               200        Russia          True\n",
       "MOR                70       Morocco          True\n",
       "EG                 45         Egypt          True"
      ]
     },
     "execution_count": 170,
     "metadata": {},
     "output_type": "execute_result"
    }
   ],
   "source": [
    "mobil=cars.set_index(\"ctrcode\")\n",
    "mobil"
   ]
  },
  {
   "cell_type": "code",
   "execution_count": 173,
   "metadata": {},
   "outputs": [
    {
     "name": "stdout",
     "output_type": "stream",
     "text": [
      "        country  drives_right\n",
      "0  United State          True\n",
      "1     Australia         False\n",
      "2         India         False\n",
      "3         Japan         False\n",
      "4        Russia          True\n",
      "5       Morocco          True\n",
      "6         Egypt          True\n"
     ]
    }
   ],
   "source": [
    "print(cars[['country','drives_right']])"
   ]
  },
  {
   "cell_type": "markdown",
   "metadata": {},
   "source": [
    "Kalo mau ambil satu atau lebih kolom dari sebuah data frame jangan lupa kurung kotaknya dua supaya pas ke ambil tetep bentuknya data frame bukan jadi series. kalo jadi series nanti bisa error kalo diambil dua\n"
   ]
  },
  {
   "cell_type": "code",
   "execution_count": 177,
   "metadata": {},
   "outputs": [
    {
     "name": "stdout",
     "output_type": "stream",
     "text": [
      "         cars_per_cap       country  drives_right\n",
      "ctrcode                                          \n",
      "US                809  United State          True\n",
      "AUS               731     Australia         False\n",
      "JPN               588         India         False\n"
     ]
    }
   ],
   "source": [
    "print(mobil[0:3])"
   ]
  },
  {
   "cell_type": "markdown",
   "metadata": {},
   "source": [
    "Loc iloc"
   ]
  },
  {
   "cell_type": "code",
   "execution_count": 181,
   "metadata": {},
   "outputs": [
    {
     "name": "stdout",
     "output_type": "stream",
     "text": [
      "         cars_per_cap       country  drives_right\n",
      "ctrcode                                          \n",
      "US                809  United State          True\n",
      "AUS               731     Australia         False\n",
      "JPN               588         India         False\n",
      "IN                 18         Japan         False\n",
      "RUS               200        Russia          True\n",
      "MOR                70       Morocco          True\n",
      "EG                 45         Egypt          True\n",
      "         cars_per_cap    country  drives_right\n",
      "ctrcode                                       \n",
      "AUS               731  Australia         False\n",
      "EG                 45      Egypt          True\n",
      "         cars_per_cap    country  drives_right\n",
      "ctrcode                                       \n",
      "AUS               731  Australia         False\n",
      "EG                 45      Egypt          True\n"
     ]
    }
   ],
   "source": [
    "#print observasi dari australie dan egypt\n",
    "print(mobil)\n",
    "print(mobil.loc[['AUS','EG']])\n",
    "print(mobil.iloc[[1,6]])"
   ]
  },
  {
   "cell_type": "markdown",
   "metadata": {},
   "source": [
    "syaratnya nama yang dicari harus dijadiin index terlebih dahulu. untuk locnya pake namanya langsung, kalo iloc digunain langsung pake indexnya"
   ]
  },
  {
   "cell_type": "code",
   "execution_count": 183,
   "metadata": {},
   "outputs": [
    {
     "name": "stdout",
     "output_type": "stream",
     "text": [
      "         country  drives_right\n",
      "ctrcode                       \n",
      "RUS       Russia          True\n",
      "MOR      Morocco          True\n",
      "         country  drives_right\n",
      "ctrcode                       \n",
      "RUS       Russia          True\n",
      "MOR      Morocco          True\n"
     ]
    }
   ],
   "source": [
    "print(mobil.loc[['RUS','MOR'],['country','drives_right']])\n",
    "print(mobil.iloc[[4,5],[1,2]])"
   ]
  },
  {
   "cell_type": "markdown",
   "metadata": {},
   "source": [
    "Tulis baris dulu baru kolom"
   ]
  },
  {
   "cell_type": "code",
   "execution_count": 211,
   "metadata": {},
   "outputs": [
    {
     "name": "stdout",
     "output_type": "stream",
     "text": [
      "         cars_per_cap       country  drives_right\n",
      "ctrcode                                          \n",
      "US                809  United State          True\n",
      "RUS               200        Russia          True\n",
      "MOR                70       Morocco          True\n",
      "EG                 45         Egypt          True\n",
      "         cars_per_cap    country  drives_right\n",
      "ctrcode                                       \n",
      "AUS               731  Australia         False\n",
      "JPN               588      India         False\n",
      "         cars_per_cap       country  drives_right\n",
      "ctrcode                                          \n",
      "US                809  United State          True\n",
      "AUS               731     Australia         False\n",
      "JPN               588         India         False\n",
      "IN                 18         Japan         False\n",
      "RUS               200        Russia          True\n"
     ]
    }
   ],
   "source": [
    "print(mobil[mobil.drives_right==True])\n",
    "#filter dengan menggunakan 2 syarat (AND)\n",
    "print(mobil[(mobil.cars_per_cap>100) & (mobil.drives_right==False)])\n",
    "#filter dengan menggunakan 2 syarat(OR)\n",
    "print(mobil[(mobil.cars_per_cap>100) | (mobil.drives_right==False)])      "
   ]
  },
  {
   "cell_type": "markdown",
   "metadata": {},
   "source": [
    "Dipake untuk ngambil dengan satu syarat yaitu drives rightnya true"
   ]
  },
  {
   "cell_type": "code",
   "execution_count": 212,
   "metadata": {},
   "outputs": [
    {
     "name": "stdout",
     "output_type": "stream",
     "text": [
      "         cars_per_cap       country  drives_right\n",
      "ctrcode                                          \n",
      "IN                 18         Japan         False\n",
      "EG                 45         Egypt          True\n",
      "MOR                70       Morocco          True\n",
      "RUS               200        Russia          True\n",
      "JPN               588         India         False\n",
      "AUS               731     Australia         False\n",
      "US                809  United State          True\n",
      "         cars_per_cap       country  drives_right\n",
      "ctrcode                                          \n",
      "US                809  United State          True\n",
      "AUS               731     Australia         False\n",
      "JPN               588         India         False\n",
      "RUS               200        Russia          True\n",
      "MOR                70       Morocco          True\n",
      "EG                 45         Egypt          True\n",
      "IN                 18         Japan         False\n"
     ]
    }
   ],
   "source": [
    "#mengurutkan data berdasarkan kolom cars_per_cap\n",
    "print(mobil.sort_values(by=['cars_per_cap']))\n",
    "print(mobil.sort_values(by=['cars_per_cap'],ascending=False))"
   ]
  },
  {
   "cell_type": "markdown",
   "metadata": {},
   "source": []
  }
 ],
 "metadata": {
  "kernelspec": {
   "display_name": "Python 3",
   "language": "python",
   "name": "python3"
  },
  "language_info": {
   "codemirror_mode": {
    "name": "ipython",
    "version": 3
   },
   "file_extension": ".py",
   "mimetype": "text/x-python",
   "name": "python",
   "nbconvert_exporter": "python",
   "pygments_lexer": "ipython3",
   "version": "3.6.4"
  }
 },
 "nbformat": 4,
 "nbformat_minor": 2
}
