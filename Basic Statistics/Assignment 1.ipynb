{
 "cells": [
  {
   "cell_type": "code",
   "execution_count": 17,
   "metadata": {},
   "outputs": [
    {
     "name": "stdout",
     "output_type": "stream",
     "text": [
      "package 'tidyverse' successfully unpacked and MD5 sums checked\n",
      "\n",
      "The downloaded binary packages are in\n",
      "\tC:\\Users\\stezar059244\\AppData\\Local\\Temp\\Rtmp4i8Bp5\\downloaded_packages\n"
     ]
    }
   ],
   "source": [
    "# Install dplyr dan ggplot\n",
    "# install.packages(\"dplyr\")\n",
    "# install.packages(\"ggplot2\")\n",
    "# install tidyverse\n",
    "install.packages(\"tidyverse\")"
   ]
  },
  {
   "cell_type": "code",
   "execution_count": 2,
   "metadata": {},
   "outputs": [
    {
     "name": "stderr",
     "output_type": "stream",
     "text": [
      "Loading tidyverse: ggplot2\n",
      "Loading tidyverse: tibble\n",
      "Loading tidyverse: tidyr\n",
      "Loading tidyverse: readr\n",
      "Loading tidyverse: purrr\n",
      "Loading tidyverse: dplyr\n",
      "Conflicts with tidy packages ---------------------------------------------------\n",
      "filter(): dplyr, stats\n",
      "lag():    dplyr, stats\n"
     ]
    }
   ],
   "source": [
    "# Panggil library\n",
    "# library(ggplot2)\n",
    "# library(dplyr)\n",
    "library(tidyverse)"
   ]
  },
  {
   "cell_type": "code",
   "execution_count": 3,
   "metadata": {},
   "outputs": [
    {
     "name": "stdout",
     "output_type": "stream",
     "text": [
      "Observations: 900\n",
      "Variables: 21\n",
      "$ Creditability                <int> 1, 1, 1, 1, 1, 1, 1, 1, 1, 1, 1, 1, 1,...\n",
      "$ Account.Balance              <int> 1, 1, 2, 1, 1, 1, 4, 2, 1, 1, 1, 2, 1,...\n",
      "$ Duration.of.Credit           <int> 18, 9, 12, 12, 12, 8, 18, 24, 11, 30, ...\n",
      "$ Previous.Credit              <int> 4, 4, 2, 4, 4, 4, 4, 2, 4, 4, 4, 3, 2,...\n",
      "$ Purpose                      <int> 2, 0, 9, 0, 0, 0, 3, 3, 0, 1, 3, 10, 3...\n",
      "$ Credit.Amount                <int> 1049, 2799, 841, 2122, 2171, 3398, 109...\n",
      "$ Value.Savings.Stocks         <int> 1, 1, 2, 1, 1, 1, 1, 3, 1, 2, 1, 2, 5,...\n",
      "$ Length.of.current.employment <int> 2, 3, 4, 3, 3, 4, 1, 1, 3, 4, 4, 1, 4,...\n",
      "$ Instalment.per.income        <int> 4, 2, 2, 3, 4, 1, 4, 1, 2, 1, 1, 2, 2,...\n",
      "$ Sex.Marital.Status           <int> 2, 3, 2, 3, 3, 3, 2, 2, 3, 4, 2, 3, 4,...\n",
      "$ Guarantors                   <int> 1, 1, 1, 1, 1, 1, 1, 1, 1, 1, 1, 1, 1,...\n",
      "$ Duration.in.Current.address  <int> 4, 2, 4, 2, 4, 4, 4, 4, 2, 4, 4, 4, 4,...\n",
      "$ Most.valuable.asset          <int> 2, 1, 1, 1, 2, 1, 3, 4, 1, 3, 3, 4, 3,...\n",
      "$ Age                          <int> 21, 36, 23, 39, 38, 39, 65, 23, 36, 24...\n",
      "$ Concurrent.Credits           <int> 3, 3, 3, 3, 1, 3, 3, 3, 3, 3, 3, 3, 3,...\n",
      "$ Type.of.apartment            <int> 1, 1, 1, 1, 2, 2, 2, 1, 1, 1, 2, 2, 1,...\n",
      "$ No.of.Credits.at.this.Bank   <int> 1, 2, 1, 2, 2, 2, 2, 1, 2, 2, 1, 1, 2,...\n",
      "$ Occupation                   <int> 3, 3, 2, 2, 2, 2, 1, 1, 3, 3, 3, 4, 2,...\n",
      "$ No.of.dependents             <int> 1, 2, 1, 2, 1, 1, 1, 1, 2, 1, 1, 1, 1,...\n",
      "$ Telephone                    <int> 1, 1, 1, 1, 1, 1, 1, 1, 1, 1, 1, 2, 1,...\n",
      "$ Foreign.Worker               <int> 1, 1, 1, 2, 2, 2, 1, 1, 1, 1, 1, 1, 1,...\n"
     ]
    }
   ],
   "source": [
    "# Import data\n",
    "creditability <- read.csv(\"creditability.csv\", header = TRUE, sep = ',')\n",
    "# cek tipe data dan beberapa sampel data\n",
    "glimpse(creditability)"
   ]
  },
  {
   "cell_type": "markdown",
   "metadata": {},
   "source": [
    "Terdapat 21 variabel dengan tipe data masing-masing variabel adalah integer. Selain itu juga terdapat 900 profile data."
   ]
  },
  {
   "cell_type": "code",
   "execution_count": 3,
   "metadata": {},
   "outputs": [
    {
     "data": {
      "text/plain": [
       " Creditability Account.Balance Duration.of.Credit Previous.Credit\n",
       " Min.   :0.0   Min.   :1.000   Min.   : 4.00      Min.   :0.000  \n",
       " 1st Qu.:0.0   1st Qu.:1.000   1st Qu.:12.00      1st Qu.:2.000  \n",
       " Median :1.0   Median :2.000   Median :18.00      Median :2.000  \n",
       " Mean   :0.7   Mean   :2.607   Mean   :21.12      Mean   :2.549  \n",
       " 3rd Qu.:1.0   3rd Qu.:4.000   3rd Qu.:24.00      3rd Qu.:4.000  \n",
       " Max.   :1.0   Max.   :4.000   Max.   :72.00      Max.   :4.000  \n",
       "    Purpose       Credit.Amount   Value.Savings.Stocks\n",
       " Min.   : 0.000   Min.   :  250   Min.   :1.000       \n",
       " 1st Qu.: 1.000   1st Qu.: 1374   1st Qu.:1.000       \n",
       " Median : 2.000   Median : 2300   Median :1.000       \n",
       " Mean   : 2.821   Mean   : 3262   Mean   :2.118       \n",
       " 3rd Qu.: 3.000   3rd Qu.: 3968   3rd Qu.:3.000       \n",
       " Max.   :10.000   Max.   :18424   Max.   :5.000       \n",
       " Length.of.current.employment Instalment.per.income Sex.Marital.Status\n",
       " Min.   :1.000                Min.   :1.000         Min.   :1.000     \n",
       " 1st Qu.:3.000                1st Qu.:2.000         1st Qu.:2.000     \n",
       " Median :3.000                Median :3.000         Median :3.000     \n",
       " Mean   :3.388                Mean   :2.982         Mean   :2.696     \n",
       " 3rd Qu.:5.000                3rd Qu.:4.000         3rd Qu.:3.000     \n",
       " Max.   :5.000                Max.   :4.000         Max.   :4.000     \n",
       "   Guarantors    Duration.in.Current.address Most.valuable.asset\n",
       " Min.   :1.000   Min.   :1.00                Min.   :1.000      \n",
       " 1st Qu.:1.000   1st Qu.:2.00                1st Qu.:1.000      \n",
       " Median :1.000   Median :3.00                Median :2.000      \n",
       " Mean   :1.144   Mean   :2.85                Mean   :2.373      \n",
       " 3rd Qu.:1.000   3rd Qu.:4.00                3rd Qu.:3.000      \n",
       " Max.   :3.000   Max.   :4.00                Max.   :4.000      \n",
       "      Age        Concurrent.Credits Type.of.apartment\n",
       " Min.   :19.00   Min.   :1.000      Min.   :1.000    \n",
       " 1st Qu.:27.00   1st Qu.:3.000      1st Qu.:2.000    \n",
       " Median :33.00   Median :3.000      Median :2.000    \n",
       " Mean   :35.31   Mean   :2.672      Mean   :1.927    \n",
       " 3rd Qu.:41.00   3rd Qu.:3.000      3rd Qu.:2.000    \n",
       " Max.   :75.00   Max.   :3.000      Max.   :3.000    \n",
       " No.of.Credits.at.this.Bank   Occupation  No.of.dependents   Telephone    \n",
       " Min.   :1.000              Min.   :1.0   Min.   :1.000    Min.   :1.000  \n",
       " 1st Qu.:1.000              1st Qu.:3.0   1st Qu.:1.000    1st Qu.:1.000  \n",
       " Median :1.000              Median :3.0   Median :1.000    Median :1.000  \n",
       " Mean   :1.404              Mean   :2.9   Mean   :1.151    Mean   :1.408  \n",
       " 3rd Qu.:2.000              3rd Qu.:3.0   3rd Qu.:1.000    3rd Qu.:2.000  \n",
       " Max.   :4.000              Max.   :4.0   Max.   :2.000    Max.   :2.000  \n",
       " Foreign.Worker\n",
       " Min.   :1.00  \n",
       " 1st Qu.:1.00  \n",
       " Median :1.00  \n",
       " Mean   :1.03  \n",
       " 3rd Qu.:1.00  \n",
       " Max.   :2.00  "
      ]
     },
     "metadata": {},
     "output_type": "display_data"
    }
   ],
   "source": [
    "# Merangkum data kredit, untuk melihat mean, kuartil, median, min, max, setiap variabel\n",
    "summary(creditability)"
   ]
  },
  {
   "cell_type": "code",
   "execution_count": 4,
   "metadata": {},
   "outputs": [
    {
     "data": {
      "text/html": [
       "<table>\n",
       "<thead><tr><th scope=col>Creditability</th><th scope=col>Account.Balance</th><th scope=col>Duration.of.Credit</th><th scope=col>Previous.Credit</th><th scope=col>Purpose</th><th scope=col>Credit.Amount</th><th scope=col>Value.Savings.Stocks</th><th scope=col>Length.of.current.employment</th><th scope=col>Instalment.per.income</th><th scope=col>Sex.Marital.Status</th><th scope=col>...</th><th scope=col>Duration.in.Current.address</th><th scope=col>Most.valuable.asset</th><th scope=col>Age</th><th scope=col>Concurrent.Credits</th><th scope=col>Type.of.apartment</th><th scope=col>No.of.Credits.at.this.Bank</th><th scope=col>Occupation</th><th scope=col>No.of.dependents</th><th scope=col>Telephone</th><th scope=col>Foreign.Worker</th></tr></thead>\n",
       "<tbody>\n",
       "\t<tr><td>FALSE</td><td>FALSE</td><td>FALSE</td><td>FALSE</td><td>FALSE</td><td>FALSE</td><td>FALSE</td><td>FALSE</td><td>FALSE</td><td>FALSE</td><td>...  </td><td>FALSE</td><td>FALSE</td><td>FALSE</td><td>FALSE</td><td>FALSE</td><td>FALSE</td><td>FALSE</td><td>FALSE</td><td>FALSE</td><td>FALSE</td></tr>\n",
       "\t<tr><td>FALSE</td><td>FALSE</td><td>FALSE</td><td>FALSE</td><td>FALSE</td><td>FALSE</td><td>FALSE</td><td>FALSE</td><td>FALSE</td><td>FALSE</td><td>...  </td><td>FALSE</td><td>FALSE</td><td>FALSE</td><td>FALSE</td><td>FALSE</td><td>FALSE</td><td>FALSE</td><td>FALSE</td><td>FALSE</td><td>FALSE</td></tr>\n",
       "\t<tr><td>FALSE</td><td>FALSE</td><td>FALSE</td><td>FALSE</td><td>FALSE</td><td>FALSE</td><td>FALSE</td><td>FALSE</td><td>FALSE</td><td>FALSE</td><td>...  </td><td>FALSE</td><td>FALSE</td><td>FALSE</td><td>FALSE</td><td>FALSE</td><td>FALSE</td><td>FALSE</td><td>FALSE</td><td>FALSE</td><td>FALSE</td></tr>\n",
       "\t<tr><td>FALSE</td><td>FALSE</td><td>FALSE</td><td>FALSE</td><td>FALSE</td><td>FALSE</td><td>FALSE</td><td>FALSE</td><td>FALSE</td><td>FALSE</td><td>...  </td><td>FALSE</td><td>FALSE</td><td>FALSE</td><td>FALSE</td><td>FALSE</td><td>FALSE</td><td>FALSE</td><td>FALSE</td><td>FALSE</td><td>FALSE</td></tr>\n",
       "\t<tr><td>FALSE</td><td>FALSE</td><td>FALSE</td><td>FALSE</td><td>FALSE</td><td>FALSE</td><td>FALSE</td><td>FALSE</td><td>FALSE</td><td>FALSE</td><td>...  </td><td>FALSE</td><td>FALSE</td><td>FALSE</td><td>FALSE</td><td>FALSE</td><td>FALSE</td><td>FALSE</td><td>FALSE</td><td>FALSE</td><td>FALSE</td></tr>\n",
       "\t<tr><td>FALSE</td><td>FALSE</td><td>FALSE</td><td>FALSE</td><td>FALSE</td><td>FALSE</td><td>FALSE</td><td>FALSE</td><td>FALSE</td><td>FALSE</td><td>...  </td><td>FALSE</td><td>FALSE</td><td>FALSE</td><td>FALSE</td><td>FALSE</td><td>FALSE</td><td>FALSE</td><td>FALSE</td><td>FALSE</td><td>FALSE</td></tr>\n",
       "\t<tr><td>FALSE</td><td>FALSE</td><td>FALSE</td><td>FALSE</td><td>FALSE</td><td>FALSE</td><td>FALSE</td><td>FALSE</td><td>FALSE</td><td>FALSE</td><td>...  </td><td>FALSE</td><td>FALSE</td><td>FALSE</td><td>FALSE</td><td>FALSE</td><td>FALSE</td><td>FALSE</td><td>FALSE</td><td>FALSE</td><td>FALSE</td></tr>\n",
       "\t<tr><td>FALSE</td><td>FALSE</td><td>FALSE</td><td>FALSE</td><td>FALSE</td><td>FALSE</td><td>FALSE</td><td>FALSE</td><td>FALSE</td><td>FALSE</td><td>...  </td><td>FALSE</td><td>FALSE</td><td>FALSE</td><td>FALSE</td><td>FALSE</td><td>FALSE</td><td>FALSE</td><td>FALSE</td><td>FALSE</td><td>FALSE</td></tr>\n",
       "\t<tr><td>FALSE</td><td>FALSE</td><td>FALSE</td><td>FALSE</td><td>FALSE</td><td>FALSE</td><td>FALSE</td><td>FALSE</td><td>FALSE</td><td>FALSE</td><td>...  </td><td>FALSE</td><td>FALSE</td><td>FALSE</td><td>FALSE</td><td>FALSE</td><td>FALSE</td><td>FALSE</td><td>FALSE</td><td>FALSE</td><td>FALSE</td></tr>\n",
       "\t<tr><td>FALSE</td><td>FALSE</td><td>FALSE</td><td>FALSE</td><td>FALSE</td><td>FALSE</td><td>FALSE</td><td>FALSE</td><td>FALSE</td><td>FALSE</td><td>...  </td><td>FALSE</td><td>FALSE</td><td>FALSE</td><td>FALSE</td><td>FALSE</td><td>FALSE</td><td>FALSE</td><td>FALSE</td><td>FALSE</td><td>FALSE</td></tr>\n",
       "\t<tr><td>FALSE</td><td>FALSE</td><td>FALSE</td><td>FALSE</td><td>FALSE</td><td>FALSE</td><td>FALSE</td><td>FALSE</td><td>FALSE</td><td>FALSE</td><td>...  </td><td>FALSE</td><td>FALSE</td><td>FALSE</td><td>FALSE</td><td>FALSE</td><td>FALSE</td><td>FALSE</td><td>FALSE</td><td>FALSE</td><td>FALSE</td></tr>\n",
       "\t<tr><td>FALSE</td><td>FALSE</td><td>FALSE</td><td>FALSE</td><td>FALSE</td><td>FALSE</td><td>FALSE</td><td>FALSE</td><td>FALSE</td><td>FALSE</td><td>...  </td><td>FALSE</td><td>FALSE</td><td>FALSE</td><td>FALSE</td><td>FALSE</td><td>FALSE</td><td>FALSE</td><td>FALSE</td><td>FALSE</td><td>FALSE</td></tr>\n",
       "\t<tr><td>FALSE</td><td>FALSE</td><td>FALSE</td><td>FALSE</td><td>FALSE</td><td>FALSE</td><td>FALSE</td><td>FALSE</td><td>FALSE</td><td>FALSE</td><td>...  </td><td>FALSE</td><td>FALSE</td><td>FALSE</td><td>FALSE</td><td>FALSE</td><td>FALSE</td><td>FALSE</td><td>FALSE</td><td>FALSE</td><td>FALSE</td></tr>\n",
       "\t<tr><td>FALSE</td><td>FALSE</td><td>FALSE</td><td>FALSE</td><td>FALSE</td><td>FALSE</td><td>FALSE</td><td>FALSE</td><td>FALSE</td><td>FALSE</td><td>...  </td><td>FALSE</td><td>FALSE</td><td>FALSE</td><td>FALSE</td><td>FALSE</td><td>FALSE</td><td>FALSE</td><td>FALSE</td><td>FALSE</td><td>FALSE</td></tr>\n",
       "\t<tr><td>FALSE</td><td>FALSE</td><td>FALSE</td><td>FALSE</td><td>FALSE</td><td>FALSE</td><td>FALSE</td><td>FALSE</td><td>FALSE</td><td>FALSE</td><td>...  </td><td>FALSE</td><td>FALSE</td><td>FALSE</td><td>FALSE</td><td>FALSE</td><td>FALSE</td><td>FALSE</td><td>FALSE</td><td>FALSE</td><td>FALSE</td></tr>\n",
       "\t<tr><td>FALSE</td><td>FALSE</td><td>FALSE</td><td>FALSE</td><td>FALSE</td><td>FALSE</td><td>FALSE</td><td>FALSE</td><td>FALSE</td><td>FALSE</td><td>...  </td><td>FALSE</td><td>FALSE</td><td>FALSE</td><td>FALSE</td><td>FALSE</td><td>FALSE</td><td>FALSE</td><td>FALSE</td><td>FALSE</td><td>FALSE</td></tr>\n",
       "\t<tr><td>FALSE</td><td>FALSE</td><td>FALSE</td><td>FALSE</td><td>FALSE</td><td>FALSE</td><td>FALSE</td><td>FALSE</td><td>FALSE</td><td>FALSE</td><td>...  </td><td>FALSE</td><td>FALSE</td><td>FALSE</td><td>FALSE</td><td>FALSE</td><td>FALSE</td><td>FALSE</td><td>FALSE</td><td>FALSE</td><td>FALSE</td></tr>\n",
       "\t<tr><td>FALSE</td><td>FALSE</td><td>FALSE</td><td>FALSE</td><td>FALSE</td><td>FALSE</td><td>FALSE</td><td>FALSE</td><td>FALSE</td><td>FALSE</td><td>...  </td><td>FALSE</td><td>FALSE</td><td>FALSE</td><td>FALSE</td><td>FALSE</td><td>FALSE</td><td>FALSE</td><td>FALSE</td><td>FALSE</td><td>FALSE</td></tr>\n",
       "\t<tr><td>FALSE</td><td>FALSE</td><td>FALSE</td><td>FALSE</td><td>FALSE</td><td>FALSE</td><td>FALSE</td><td>FALSE</td><td>FALSE</td><td>FALSE</td><td>...  </td><td>FALSE</td><td>FALSE</td><td>FALSE</td><td>FALSE</td><td>FALSE</td><td>FALSE</td><td>FALSE</td><td>FALSE</td><td>FALSE</td><td>FALSE</td></tr>\n",
       "\t<tr><td>FALSE</td><td>FALSE</td><td>FALSE</td><td>FALSE</td><td>FALSE</td><td>FALSE</td><td>FALSE</td><td>FALSE</td><td>FALSE</td><td>FALSE</td><td>...  </td><td>FALSE</td><td>FALSE</td><td>FALSE</td><td>FALSE</td><td>FALSE</td><td>FALSE</td><td>FALSE</td><td>FALSE</td><td>FALSE</td><td>FALSE</td></tr>\n",
       "\t<tr><td>FALSE</td><td>FALSE</td><td>FALSE</td><td>FALSE</td><td>FALSE</td><td>FALSE</td><td>FALSE</td><td>FALSE</td><td>FALSE</td><td>FALSE</td><td>...  </td><td>FALSE</td><td>FALSE</td><td>FALSE</td><td>FALSE</td><td>FALSE</td><td>FALSE</td><td>FALSE</td><td>FALSE</td><td>FALSE</td><td>FALSE</td></tr>\n",
       "\t<tr><td>FALSE</td><td>FALSE</td><td>FALSE</td><td>FALSE</td><td>FALSE</td><td>FALSE</td><td>FALSE</td><td>FALSE</td><td>FALSE</td><td>FALSE</td><td>...  </td><td>FALSE</td><td>FALSE</td><td>FALSE</td><td>FALSE</td><td>FALSE</td><td>FALSE</td><td>FALSE</td><td>FALSE</td><td>FALSE</td><td>FALSE</td></tr>\n",
       "\t<tr><td>FALSE</td><td>FALSE</td><td>FALSE</td><td>FALSE</td><td>FALSE</td><td>FALSE</td><td>FALSE</td><td>FALSE</td><td>FALSE</td><td>FALSE</td><td>...  </td><td>FALSE</td><td>FALSE</td><td>FALSE</td><td>FALSE</td><td>FALSE</td><td>FALSE</td><td>FALSE</td><td>FALSE</td><td>FALSE</td><td>FALSE</td></tr>\n",
       "\t<tr><td>FALSE</td><td>FALSE</td><td>FALSE</td><td>FALSE</td><td>FALSE</td><td>FALSE</td><td>FALSE</td><td>FALSE</td><td>FALSE</td><td>FALSE</td><td>...  </td><td>FALSE</td><td>FALSE</td><td>FALSE</td><td>FALSE</td><td>FALSE</td><td>FALSE</td><td>FALSE</td><td>FALSE</td><td>FALSE</td><td>FALSE</td></tr>\n",
       "\t<tr><td>FALSE</td><td>FALSE</td><td>FALSE</td><td>FALSE</td><td>FALSE</td><td>FALSE</td><td>FALSE</td><td>FALSE</td><td>FALSE</td><td>FALSE</td><td>...  </td><td>FALSE</td><td>FALSE</td><td>FALSE</td><td>FALSE</td><td>FALSE</td><td>FALSE</td><td>FALSE</td><td>FALSE</td><td>FALSE</td><td>FALSE</td></tr>\n",
       "\t<tr><td>FALSE</td><td>FALSE</td><td>FALSE</td><td>FALSE</td><td>FALSE</td><td>FALSE</td><td>FALSE</td><td>FALSE</td><td>FALSE</td><td>FALSE</td><td>...  </td><td>FALSE</td><td>FALSE</td><td>FALSE</td><td>FALSE</td><td>FALSE</td><td>FALSE</td><td>FALSE</td><td>FALSE</td><td>FALSE</td><td>FALSE</td></tr>\n",
       "\t<tr><td>FALSE</td><td>FALSE</td><td>FALSE</td><td>FALSE</td><td>FALSE</td><td>FALSE</td><td>FALSE</td><td>FALSE</td><td>FALSE</td><td>FALSE</td><td>...  </td><td>FALSE</td><td>FALSE</td><td>FALSE</td><td>FALSE</td><td>FALSE</td><td>FALSE</td><td>FALSE</td><td>FALSE</td><td>FALSE</td><td>FALSE</td></tr>\n",
       "\t<tr><td>FALSE</td><td>FALSE</td><td>FALSE</td><td>FALSE</td><td>FALSE</td><td>FALSE</td><td>FALSE</td><td>FALSE</td><td>FALSE</td><td>FALSE</td><td>...  </td><td>FALSE</td><td>FALSE</td><td>FALSE</td><td>FALSE</td><td>FALSE</td><td>FALSE</td><td>FALSE</td><td>FALSE</td><td>FALSE</td><td>FALSE</td></tr>\n",
       "\t<tr><td>FALSE</td><td>FALSE</td><td>FALSE</td><td>FALSE</td><td>FALSE</td><td>FALSE</td><td>FALSE</td><td>FALSE</td><td>FALSE</td><td>FALSE</td><td>...  </td><td>FALSE</td><td>FALSE</td><td>FALSE</td><td>FALSE</td><td>FALSE</td><td>FALSE</td><td>FALSE</td><td>FALSE</td><td>FALSE</td><td>FALSE</td></tr>\n",
       "\t<tr><td>FALSE</td><td>FALSE</td><td>FALSE</td><td>FALSE</td><td>FALSE</td><td>FALSE</td><td>FALSE</td><td>FALSE</td><td>FALSE</td><td>FALSE</td><td>...  </td><td>FALSE</td><td>FALSE</td><td>FALSE</td><td>FALSE</td><td>FALSE</td><td>FALSE</td><td>FALSE</td><td>FALSE</td><td>FALSE</td><td>FALSE</td></tr>\n",
       "\t<tr><td>...</td><td>...</td><td>...</td><td>...</td><td>...</td><td>...</td><td>...</td><td>...</td><td>...</td><td>...</td><td>   </td><td>...</td><td>...</td><td>...</td><td>...</td><td>...</td><td>...</td><td>...</td><td>...</td><td>...</td><td>...</td></tr>\n",
       "\t<tr><td>FALSE</td><td>FALSE</td><td>FALSE</td><td>FALSE</td><td>FALSE</td><td>FALSE</td><td>FALSE</td><td>FALSE</td><td>FALSE</td><td>FALSE</td><td>...  </td><td>FALSE</td><td>FALSE</td><td>FALSE</td><td>FALSE</td><td>FALSE</td><td>FALSE</td><td>FALSE</td><td>FALSE</td><td>FALSE</td><td>FALSE</td></tr>\n",
       "\t<tr><td>FALSE</td><td>FALSE</td><td>FALSE</td><td>FALSE</td><td>FALSE</td><td>FALSE</td><td>FALSE</td><td>FALSE</td><td>FALSE</td><td>FALSE</td><td>...  </td><td>FALSE</td><td>FALSE</td><td>FALSE</td><td>FALSE</td><td>FALSE</td><td>FALSE</td><td>FALSE</td><td>FALSE</td><td>FALSE</td><td>FALSE</td></tr>\n",
       "\t<tr><td>FALSE</td><td>FALSE</td><td>FALSE</td><td>FALSE</td><td>FALSE</td><td>FALSE</td><td>FALSE</td><td>FALSE</td><td>FALSE</td><td>FALSE</td><td>...  </td><td>FALSE</td><td>FALSE</td><td>FALSE</td><td>FALSE</td><td>FALSE</td><td>FALSE</td><td>FALSE</td><td>FALSE</td><td>FALSE</td><td>FALSE</td></tr>\n",
       "\t<tr><td>FALSE</td><td>FALSE</td><td>FALSE</td><td>FALSE</td><td>FALSE</td><td>FALSE</td><td>FALSE</td><td>FALSE</td><td>FALSE</td><td>FALSE</td><td>...  </td><td>FALSE</td><td>FALSE</td><td>FALSE</td><td>FALSE</td><td>FALSE</td><td>FALSE</td><td>FALSE</td><td>FALSE</td><td>FALSE</td><td>FALSE</td></tr>\n",
       "\t<tr><td>FALSE</td><td>FALSE</td><td>FALSE</td><td>FALSE</td><td>FALSE</td><td>FALSE</td><td>FALSE</td><td>FALSE</td><td>FALSE</td><td>FALSE</td><td>...  </td><td>FALSE</td><td>FALSE</td><td>FALSE</td><td>FALSE</td><td>FALSE</td><td>FALSE</td><td>FALSE</td><td>FALSE</td><td>FALSE</td><td>FALSE</td></tr>\n",
       "\t<tr><td>FALSE</td><td>FALSE</td><td>FALSE</td><td>FALSE</td><td>FALSE</td><td>FALSE</td><td>FALSE</td><td>FALSE</td><td>FALSE</td><td>FALSE</td><td>...  </td><td>FALSE</td><td>FALSE</td><td>FALSE</td><td>FALSE</td><td>FALSE</td><td>FALSE</td><td>FALSE</td><td>FALSE</td><td>FALSE</td><td>FALSE</td></tr>\n",
       "\t<tr><td>FALSE</td><td>FALSE</td><td>FALSE</td><td>FALSE</td><td>FALSE</td><td>FALSE</td><td>FALSE</td><td>FALSE</td><td>FALSE</td><td>FALSE</td><td>...  </td><td>FALSE</td><td>FALSE</td><td>FALSE</td><td>FALSE</td><td>FALSE</td><td>FALSE</td><td>FALSE</td><td>FALSE</td><td>FALSE</td><td>FALSE</td></tr>\n",
       "\t<tr><td>FALSE</td><td>FALSE</td><td>FALSE</td><td>FALSE</td><td>FALSE</td><td>FALSE</td><td>FALSE</td><td>FALSE</td><td>FALSE</td><td>FALSE</td><td>...  </td><td>FALSE</td><td>FALSE</td><td>FALSE</td><td>FALSE</td><td>FALSE</td><td>FALSE</td><td>FALSE</td><td>FALSE</td><td>FALSE</td><td>FALSE</td></tr>\n",
       "\t<tr><td>FALSE</td><td>FALSE</td><td>FALSE</td><td>FALSE</td><td>FALSE</td><td>FALSE</td><td>FALSE</td><td>FALSE</td><td>FALSE</td><td>FALSE</td><td>...  </td><td>FALSE</td><td>FALSE</td><td>FALSE</td><td>FALSE</td><td>FALSE</td><td>FALSE</td><td>FALSE</td><td>FALSE</td><td>FALSE</td><td>FALSE</td></tr>\n",
       "\t<tr><td>FALSE</td><td>FALSE</td><td>FALSE</td><td>FALSE</td><td>FALSE</td><td>FALSE</td><td>FALSE</td><td>FALSE</td><td>FALSE</td><td>FALSE</td><td>...  </td><td>FALSE</td><td>FALSE</td><td>FALSE</td><td>FALSE</td><td>FALSE</td><td>FALSE</td><td>FALSE</td><td>FALSE</td><td>FALSE</td><td>FALSE</td></tr>\n",
       "\t<tr><td>FALSE</td><td>FALSE</td><td>FALSE</td><td>FALSE</td><td>FALSE</td><td>FALSE</td><td>FALSE</td><td>FALSE</td><td>FALSE</td><td>FALSE</td><td>...  </td><td>FALSE</td><td>FALSE</td><td>FALSE</td><td>FALSE</td><td>FALSE</td><td>FALSE</td><td>FALSE</td><td>FALSE</td><td>FALSE</td><td>FALSE</td></tr>\n",
       "\t<tr><td>FALSE</td><td>FALSE</td><td>FALSE</td><td>FALSE</td><td>FALSE</td><td>FALSE</td><td>FALSE</td><td>FALSE</td><td>FALSE</td><td>FALSE</td><td>...  </td><td>FALSE</td><td>FALSE</td><td>FALSE</td><td>FALSE</td><td>FALSE</td><td>FALSE</td><td>FALSE</td><td>FALSE</td><td>FALSE</td><td>FALSE</td></tr>\n",
       "\t<tr><td>FALSE</td><td>FALSE</td><td>FALSE</td><td>FALSE</td><td>FALSE</td><td>FALSE</td><td>FALSE</td><td>FALSE</td><td>FALSE</td><td>FALSE</td><td>...  </td><td>FALSE</td><td>FALSE</td><td>FALSE</td><td>FALSE</td><td>FALSE</td><td>FALSE</td><td>FALSE</td><td>FALSE</td><td>FALSE</td><td>FALSE</td></tr>\n",
       "\t<tr><td>FALSE</td><td>FALSE</td><td>FALSE</td><td>FALSE</td><td>FALSE</td><td>FALSE</td><td>FALSE</td><td>FALSE</td><td>FALSE</td><td>FALSE</td><td>...  </td><td>FALSE</td><td>FALSE</td><td>FALSE</td><td>FALSE</td><td>FALSE</td><td>FALSE</td><td>FALSE</td><td>FALSE</td><td>FALSE</td><td>FALSE</td></tr>\n",
       "\t<tr><td>FALSE</td><td>FALSE</td><td>FALSE</td><td>FALSE</td><td>FALSE</td><td>FALSE</td><td>FALSE</td><td>FALSE</td><td>FALSE</td><td>FALSE</td><td>...  </td><td>FALSE</td><td>FALSE</td><td>FALSE</td><td>FALSE</td><td>FALSE</td><td>FALSE</td><td>FALSE</td><td>FALSE</td><td>FALSE</td><td>FALSE</td></tr>\n",
       "\t<tr><td>FALSE</td><td>FALSE</td><td>FALSE</td><td>FALSE</td><td>FALSE</td><td>FALSE</td><td>FALSE</td><td>FALSE</td><td>FALSE</td><td>FALSE</td><td>...  </td><td>FALSE</td><td>FALSE</td><td>FALSE</td><td>FALSE</td><td>FALSE</td><td>FALSE</td><td>FALSE</td><td>FALSE</td><td>FALSE</td><td>FALSE</td></tr>\n",
       "\t<tr><td>FALSE</td><td>FALSE</td><td>FALSE</td><td>FALSE</td><td>FALSE</td><td>FALSE</td><td>FALSE</td><td>FALSE</td><td>FALSE</td><td>FALSE</td><td>...  </td><td>FALSE</td><td>FALSE</td><td>FALSE</td><td>FALSE</td><td>FALSE</td><td>FALSE</td><td>FALSE</td><td>FALSE</td><td>FALSE</td><td>FALSE</td></tr>\n",
       "\t<tr><td>FALSE</td><td>FALSE</td><td>FALSE</td><td>FALSE</td><td>FALSE</td><td>FALSE</td><td>FALSE</td><td>FALSE</td><td>FALSE</td><td>FALSE</td><td>...  </td><td>FALSE</td><td>FALSE</td><td>FALSE</td><td>FALSE</td><td>FALSE</td><td>FALSE</td><td>FALSE</td><td>FALSE</td><td>FALSE</td><td>FALSE</td></tr>\n",
       "\t<tr><td>FALSE</td><td>FALSE</td><td>FALSE</td><td>FALSE</td><td>FALSE</td><td>FALSE</td><td>FALSE</td><td>FALSE</td><td>FALSE</td><td>FALSE</td><td>...  </td><td>FALSE</td><td>FALSE</td><td>FALSE</td><td>FALSE</td><td>FALSE</td><td>FALSE</td><td>FALSE</td><td>FALSE</td><td>FALSE</td><td>FALSE</td></tr>\n",
       "\t<tr><td>FALSE</td><td>FALSE</td><td>FALSE</td><td>FALSE</td><td>FALSE</td><td>FALSE</td><td>FALSE</td><td>FALSE</td><td>FALSE</td><td>FALSE</td><td>...  </td><td>FALSE</td><td>FALSE</td><td>FALSE</td><td>FALSE</td><td>FALSE</td><td>FALSE</td><td>FALSE</td><td>FALSE</td><td>FALSE</td><td>FALSE</td></tr>\n",
       "\t<tr><td>FALSE</td><td>FALSE</td><td>FALSE</td><td>FALSE</td><td>FALSE</td><td>FALSE</td><td>FALSE</td><td>FALSE</td><td>FALSE</td><td>FALSE</td><td>...  </td><td>FALSE</td><td>FALSE</td><td>FALSE</td><td>FALSE</td><td>FALSE</td><td>FALSE</td><td>FALSE</td><td>FALSE</td><td>FALSE</td><td>FALSE</td></tr>\n",
       "\t<tr><td>FALSE</td><td>FALSE</td><td>FALSE</td><td>FALSE</td><td>FALSE</td><td>FALSE</td><td>FALSE</td><td>FALSE</td><td>FALSE</td><td>FALSE</td><td>...  </td><td>FALSE</td><td>FALSE</td><td>FALSE</td><td>FALSE</td><td>FALSE</td><td>FALSE</td><td>FALSE</td><td>FALSE</td><td>FALSE</td><td>FALSE</td></tr>\n",
       "\t<tr><td>FALSE</td><td>FALSE</td><td>FALSE</td><td>FALSE</td><td>FALSE</td><td>FALSE</td><td>FALSE</td><td>FALSE</td><td>FALSE</td><td>FALSE</td><td>...  </td><td>FALSE</td><td>FALSE</td><td>FALSE</td><td>FALSE</td><td>FALSE</td><td>FALSE</td><td>FALSE</td><td>FALSE</td><td>FALSE</td><td>FALSE</td></tr>\n",
       "\t<tr><td>FALSE</td><td>FALSE</td><td>FALSE</td><td>FALSE</td><td>FALSE</td><td>FALSE</td><td>FALSE</td><td>FALSE</td><td>FALSE</td><td>FALSE</td><td>...  </td><td>FALSE</td><td>FALSE</td><td>FALSE</td><td>FALSE</td><td>FALSE</td><td>FALSE</td><td>FALSE</td><td>FALSE</td><td>FALSE</td><td>FALSE</td></tr>\n",
       "\t<tr><td>FALSE</td><td>FALSE</td><td>FALSE</td><td>FALSE</td><td>FALSE</td><td>FALSE</td><td>FALSE</td><td>FALSE</td><td>FALSE</td><td>FALSE</td><td>...  </td><td>FALSE</td><td>FALSE</td><td>FALSE</td><td>FALSE</td><td>FALSE</td><td>FALSE</td><td>FALSE</td><td>FALSE</td><td>FALSE</td><td>FALSE</td></tr>\n",
       "\t<tr><td>FALSE</td><td>FALSE</td><td>FALSE</td><td>FALSE</td><td>FALSE</td><td>FALSE</td><td>FALSE</td><td>FALSE</td><td>FALSE</td><td>FALSE</td><td>...  </td><td>FALSE</td><td>FALSE</td><td>FALSE</td><td>FALSE</td><td>FALSE</td><td>FALSE</td><td>FALSE</td><td>FALSE</td><td>FALSE</td><td>FALSE</td></tr>\n",
       "\t<tr><td>FALSE</td><td>FALSE</td><td>FALSE</td><td>FALSE</td><td>FALSE</td><td>FALSE</td><td>FALSE</td><td>FALSE</td><td>FALSE</td><td>FALSE</td><td>...  </td><td>FALSE</td><td>FALSE</td><td>FALSE</td><td>FALSE</td><td>FALSE</td><td>FALSE</td><td>FALSE</td><td>FALSE</td><td>FALSE</td><td>FALSE</td></tr>\n",
       "\t<tr><td>FALSE</td><td>FALSE</td><td>FALSE</td><td>FALSE</td><td>FALSE</td><td>FALSE</td><td>FALSE</td><td>FALSE</td><td>FALSE</td><td>FALSE</td><td>...  </td><td>FALSE</td><td>FALSE</td><td>FALSE</td><td>FALSE</td><td>FALSE</td><td>FALSE</td><td>FALSE</td><td>FALSE</td><td>FALSE</td><td>FALSE</td></tr>\n",
       "\t<tr><td>FALSE</td><td>FALSE</td><td>FALSE</td><td>FALSE</td><td>FALSE</td><td>FALSE</td><td>FALSE</td><td>FALSE</td><td>FALSE</td><td>FALSE</td><td>...  </td><td>FALSE</td><td>FALSE</td><td>FALSE</td><td>FALSE</td><td>FALSE</td><td>FALSE</td><td>FALSE</td><td>FALSE</td><td>FALSE</td><td>FALSE</td></tr>\n",
       "\t<tr><td>FALSE</td><td>FALSE</td><td>FALSE</td><td>FALSE</td><td>FALSE</td><td>FALSE</td><td>FALSE</td><td>FALSE</td><td>FALSE</td><td>FALSE</td><td>...  </td><td>FALSE</td><td>FALSE</td><td>FALSE</td><td>FALSE</td><td>FALSE</td><td>FALSE</td><td>FALSE</td><td>FALSE</td><td>FALSE</td><td>FALSE</td></tr>\n",
       "</tbody>\n",
       "</table>\n"
      ],
      "text/latex": [
       "\\begin{tabular}{lllllllllllllllllllll}\n",
       " Creditability & Account.Balance & Duration.of.Credit & Previous.Credit & Purpose & Credit.Amount & Value.Savings.Stocks & Length.of.current.employment & Instalment.per.income & Sex.Marital.Status & ... & Duration.in.Current.address & Most.valuable.asset & Age & Concurrent.Credits & Type.of.apartment & No.of.Credits.at.this.Bank & Occupation & No.of.dependents & Telephone & Foreign.Worker\\\\\n",
       "\\hline\n",
       "\t FALSE & FALSE & FALSE & FALSE & FALSE & FALSE & FALSE & FALSE & FALSE & FALSE & ...   & FALSE & FALSE & FALSE & FALSE & FALSE & FALSE & FALSE & FALSE & FALSE & FALSE\\\\\n",
       "\t FALSE & FALSE & FALSE & FALSE & FALSE & FALSE & FALSE & FALSE & FALSE & FALSE & ...   & FALSE & FALSE & FALSE & FALSE & FALSE & FALSE & FALSE & FALSE & FALSE & FALSE\\\\\n",
       "\t FALSE & FALSE & FALSE & FALSE & FALSE & FALSE & FALSE & FALSE & FALSE & FALSE & ...   & FALSE & FALSE & FALSE & FALSE & FALSE & FALSE & FALSE & FALSE & FALSE & FALSE\\\\\n",
       "\t FALSE & FALSE & FALSE & FALSE & FALSE & FALSE & FALSE & FALSE & FALSE & FALSE & ...   & FALSE & FALSE & FALSE & FALSE & FALSE & FALSE & FALSE & FALSE & FALSE & FALSE\\\\\n",
       "\t FALSE & FALSE & FALSE & FALSE & FALSE & FALSE & FALSE & FALSE & FALSE & FALSE & ...   & FALSE & FALSE & FALSE & FALSE & FALSE & FALSE & FALSE & FALSE & FALSE & FALSE\\\\\n",
       "\t FALSE & FALSE & FALSE & FALSE & FALSE & FALSE & FALSE & FALSE & FALSE & FALSE & ...   & FALSE & FALSE & FALSE & FALSE & FALSE & FALSE & FALSE & FALSE & FALSE & FALSE\\\\\n",
       "\t FALSE & FALSE & FALSE & FALSE & FALSE & FALSE & FALSE & FALSE & FALSE & FALSE & ...   & FALSE & FALSE & FALSE & FALSE & FALSE & FALSE & FALSE & FALSE & FALSE & FALSE\\\\\n",
       "\t FALSE & FALSE & FALSE & FALSE & FALSE & FALSE & FALSE & FALSE & FALSE & FALSE & ...   & FALSE & FALSE & FALSE & FALSE & FALSE & FALSE & FALSE & FALSE & FALSE & FALSE\\\\\n",
       "\t FALSE & FALSE & FALSE & FALSE & FALSE & FALSE & FALSE & FALSE & FALSE & FALSE & ...   & FALSE & FALSE & FALSE & FALSE & FALSE & FALSE & FALSE & FALSE & FALSE & FALSE\\\\\n",
       "\t FALSE & FALSE & FALSE & FALSE & FALSE & FALSE & FALSE & FALSE & FALSE & FALSE & ...   & FALSE & FALSE & FALSE & FALSE & FALSE & FALSE & FALSE & FALSE & FALSE & FALSE\\\\\n",
       "\t FALSE & FALSE & FALSE & FALSE & FALSE & FALSE & FALSE & FALSE & FALSE & FALSE & ...   & FALSE & FALSE & FALSE & FALSE & FALSE & FALSE & FALSE & FALSE & FALSE & FALSE\\\\\n",
       "\t FALSE & FALSE & FALSE & FALSE & FALSE & FALSE & FALSE & FALSE & FALSE & FALSE & ...   & FALSE & FALSE & FALSE & FALSE & FALSE & FALSE & FALSE & FALSE & FALSE & FALSE\\\\\n",
       "\t FALSE & FALSE & FALSE & FALSE & FALSE & FALSE & FALSE & FALSE & FALSE & FALSE & ...   & FALSE & FALSE & FALSE & FALSE & FALSE & FALSE & FALSE & FALSE & FALSE & FALSE\\\\\n",
       "\t FALSE & FALSE & FALSE & FALSE & FALSE & FALSE & FALSE & FALSE & FALSE & FALSE & ...   & FALSE & FALSE & FALSE & FALSE & FALSE & FALSE & FALSE & FALSE & FALSE & FALSE\\\\\n",
       "\t FALSE & FALSE & FALSE & FALSE & FALSE & FALSE & FALSE & FALSE & FALSE & FALSE & ...   & FALSE & FALSE & FALSE & FALSE & FALSE & FALSE & FALSE & FALSE & FALSE & FALSE\\\\\n",
       "\t FALSE & FALSE & FALSE & FALSE & FALSE & FALSE & FALSE & FALSE & FALSE & FALSE & ...   & FALSE & FALSE & FALSE & FALSE & FALSE & FALSE & FALSE & FALSE & FALSE & FALSE\\\\\n",
       "\t FALSE & FALSE & FALSE & FALSE & FALSE & FALSE & FALSE & FALSE & FALSE & FALSE & ...   & FALSE & FALSE & FALSE & FALSE & FALSE & FALSE & FALSE & FALSE & FALSE & FALSE\\\\\n",
       "\t FALSE & FALSE & FALSE & FALSE & FALSE & FALSE & FALSE & FALSE & FALSE & FALSE & ...   & FALSE & FALSE & FALSE & FALSE & FALSE & FALSE & FALSE & FALSE & FALSE & FALSE\\\\\n",
       "\t FALSE & FALSE & FALSE & FALSE & FALSE & FALSE & FALSE & FALSE & FALSE & FALSE & ...   & FALSE & FALSE & FALSE & FALSE & FALSE & FALSE & FALSE & FALSE & FALSE & FALSE\\\\\n",
       "\t FALSE & FALSE & FALSE & FALSE & FALSE & FALSE & FALSE & FALSE & FALSE & FALSE & ...   & FALSE & FALSE & FALSE & FALSE & FALSE & FALSE & FALSE & FALSE & FALSE & FALSE\\\\\n",
       "\t FALSE & FALSE & FALSE & FALSE & FALSE & FALSE & FALSE & FALSE & FALSE & FALSE & ...   & FALSE & FALSE & FALSE & FALSE & FALSE & FALSE & FALSE & FALSE & FALSE & FALSE\\\\\n",
       "\t FALSE & FALSE & FALSE & FALSE & FALSE & FALSE & FALSE & FALSE & FALSE & FALSE & ...   & FALSE & FALSE & FALSE & FALSE & FALSE & FALSE & FALSE & FALSE & FALSE & FALSE\\\\\n",
       "\t FALSE & FALSE & FALSE & FALSE & FALSE & FALSE & FALSE & FALSE & FALSE & FALSE & ...   & FALSE & FALSE & FALSE & FALSE & FALSE & FALSE & FALSE & FALSE & FALSE & FALSE\\\\\n",
       "\t FALSE & FALSE & FALSE & FALSE & FALSE & FALSE & FALSE & FALSE & FALSE & FALSE & ...   & FALSE & FALSE & FALSE & FALSE & FALSE & FALSE & FALSE & FALSE & FALSE & FALSE\\\\\n",
       "\t FALSE & FALSE & FALSE & FALSE & FALSE & FALSE & FALSE & FALSE & FALSE & FALSE & ...   & FALSE & FALSE & FALSE & FALSE & FALSE & FALSE & FALSE & FALSE & FALSE & FALSE\\\\\n",
       "\t FALSE & FALSE & FALSE & FALSE & FALSE & FALSE & FALSE & FALSE & FALSE & FALSE & ...   & FALSE & FALSE & FALSE & FALSE & FALSE & FALSE & FALSE & FALSE & FALSE & FALSE\\\\\n",
       "\t FALSE & FALSE & FALSE & FALSE & FALSE & FALSE & FALSE & FALSE & FALSE & FALSE & ...   & FALSE & FALSE & FALSE & FALSE & FALSE & FALSE & FALSE & FALSE & FALSE & FALSE\\\\\n",
       "\t FALSE & FALSE & FALSE & FALSE & FALSE & FALSE & FALSE & FALSE & FALSE & FALSE & ...   & FALSE & FALSE & FALSE & FALSE & FALSE & FALSE & FALSE & FALSE & FALSE & FALSE\\\\\n",
       "\t FALSE & FALSE & FALSE & FALSE & FALSE & FALSE & FALSE & FALSE & FALSE & FALSE & ...   & FALSE & FALSE & FALSE & FALSE & FALSE & FALSE & FALSE & FALSE & FALSE & FALSE\\\\\n",
       "\t FALSE & FALSE & FALSE & FALSE & FALSE & FALSE & FALSE & FALSE & FALSE & FALSE & ...   & FALSE & FALSE & FALSE & FALSE & FALSE & FALSE & FALSE & FALSE & FALSE & FALSE\\\\\n",
       "\t ... & ... & ... & ... & ... & ... & ... & ... & ... & ... &     & ... & ... & ... & ... & ... & ... & ... & ... & ... & ...\\\\\n",
       "\t FALSE & FALSE & FALSE & FALSE & FALSE & FALSE & FALSE & FALSE & FALSE & FALSE & ...   & FALSE & FALSE & FALSE & FALSE & FALSE & FALSE & FALSE & FALSE & FALSE & FALSE\\\\\n",
       "\t FALSE & FALSE & FALSE & FALSE & FALSE & FALSE & FALSE & FALSE & FALSE & FALSE & ...   & FALSE & FALSE & FALSE & FALSE & FALSE & FALSE & FALSE & FALSE & FALSE & FALSE\\\\\n",
       "\t FALSE & FALSE & FALSE & FALSE & FALSE & FALSE & FALSE & FALSE & FALSE & FALSE & ...   & FALSE & FALSE & FALSE & FALSE & FALSE & FALSE & FALSE & FALSE & FALSE & FALSE\\\\\n",
       "\t FALSE & FALSE & FALSE & FALSE & FALSE & FALSE & FALSE & FALSE & FALSE & FALSE & ...   & FALSE & FALSE & FALSE & FALSE & FALSE & FALSE & FALSE & FALSE & FALSE & FALSE\\\\\n",
       "\t FALSE & FALSE & FALSE & FALSE & FALSE & FALSE & FALSE & FALSE & FALSE & FALSE & ...   & FALSE & FALSE & FALSE & FALSE & FALSE & FALSE & FALSE & FALSE & FALSE & FALSE\\\\\n",
       "\t FALSE & FALSE & FALSE & FALSE & FALSE & FALSE & FALSE & FALSE & FALSE & FALSE & ...   & FALSE & FALSE & FALSE & FALSE & FALSE & FALSE & FALSE & FALSE & FALSE & FALSE\\\\\n",
       "\t FALSE & FALSE & FALSE & FALSE & FALSE & FALSE & FALSE & FALSE & FALSE & FALSE & ...   & FALSE & FALSE & FALSE & FALSE & FALSE & FALSE & FALSE & FALSE & FALSE & FALSE\\\\\n",
       "\t FALSE & FALSE & FALSE & FALSE & FALSE & FALSE & FALSE & FALSE & FALSE & FALSE & ...   & FALSE & FALSE & FALSE & FALSE & FALSE & FALSE & FALSE & FALSE & FALSE & FALSE\\\\\n",
       "\t FALSE & FALSE & FALSE & FALSE & FALSE & FALSE & FALSE & FALSE & FALSE & FALSE & ...   & FALSE & FALSE & FALSE & FALSE & FALSE & FALSE & FALSE & FALSE & FALSE & FALSE\\\\\n",
       "\t FALSE & FALSE & FALSE & FALSE & FALSE & FALSE & FALSE & FALSE & FALSE & FALSE & ...   & FALSE & FALSE & FALSE & FALSE & FALSE & FALSE & FALSE & FALSE & FALSE & FALSE\\\\\n",
       "\t FALSE & FALSE & FALSE & FALSE & FALSE & FALSE & FALSE & FALSE & FALSE & FALSE & ...   & FALSE & FALSE & FALSE & FALSE & FALSE & FALSE & FALSE & FALSE & FALSE & FALSE\\\\\n",
       "\t FALSE & FALSE & FALSE & FALSE & FALSE & FALSE & FALSE & FALSE & FALSE & FALSE & ...   & FALSE & FALSE & FALSE & FALSE & FALSE & FALSE & FALSE & FALSE & FALSE & FALSE\\\\\n",
       "\t FALSE & FALSE & FALSE & FALSE & FALSE & FALSE & FALSE & FALSE & FALSE & FALSE & ...   & FALSE & FALSE & FALSE & FALSE & FALSE & FALSE & FALSE & FALSE & FALSE & FALSE\\\\\n",
       "\t FALSE & FALSE & FALSE & FALSE & FALSE & FALSE & FALSE & FALSE & FALSE & FALSE & ...   & FALSE & FALSE & FALSE & FALSE & FALSE & FALSE & FALSE & FALSE & FALSE & FALSE\\\\\n",
       "\t FALSE & FALSE & FALSE & FALSE & FALSE & FALSE & FALSE & FALSE & FALSE & FALSE & ...   & FALSE & FALSE & FALSE & FALSE & FALSE & FALSE & FALSE & FALSE & FALSE & FALSE\\\\\n",
       "\t FALSE & FALSE & FALSE & FALSE & FALSE & FALSE & FALSE & FALSE & FALSE & FALSE & ...   & FALSE & FALSE & FALSE & FALSE & FALSE & FALSE & FALSE & FALSE & FALSE & FALSE\\\\\n",
       "\t FALSE & FALSE & FALSE & FALSE & FALSE & FALSE & FALSE & FALSE & FALSE & FALSE & ...   & FALSE & FALSE & FALSE & FALSE & FALSE & FALSE & FALSE & FALSE & FALSE & FALSE\\\\\n",
       "\t FALSE & FALSE & FALSE & FALSE & FALSE & FALSE & FALSE & FALSE & FALSE & FALSE & ...   & FALSE & FALSE & FALSE & FALSE & FALSE & FALSE & FALSE & FALSE & FALSE & FALSE\\\\\n",
       "\t FALSE & FALSE & FALSE & FALSE & FALSE & FALSE & FALSE & FALSE & FALSE & FALSE & ...   & FALSE & FALSE & FALSE & FALSE & FALSE & FALSE & FALSE & FALSE & FALSE & FALSE\\\\\n",
       "\t FALSE & FALSE & FALSE & FALSE & FALSE & FALSE & FALSE & FALSE & FALSE & FALSE & ...   & FALSE & FALSE & FALSE & FALSE & FALSE & FALSE & FALSE & FALSE & FALSE & FALSE\\\\\n",
       "\t FALSE & FALSE & FALSE & FALSE & FALSE & FALSE & FALSE & FALSE & FALSE & FALSE & ...   & FALSE & FALSE & FALSE & FALSE & FALSE & FALSE & FALSE & FALSE & FALSE & FALSE\\\\\n",
       "\t FALSE & FALSE & FALSE & FALSE & FALSE & FALSE & FALSE & FALSE & FALSE & FALSE & ...   & FALSE & FALSE & FALSE & FALSE & FALSE & FALSE & FALSE & FALSE & FALSE & FALSE\\\\\n",
       "\t FALSE & FALSE & FALSE & FALSE & FALSE & FALSE & FALSE & FALSE & FALSE & FALSE & ...   & FALSE & FALSE & FALSE & FALSE & FALSE & FALSE & FALSE & FALSE & FALSE & FALSE\\\\\n",
       "\t FALSE & FALSE & FALSE & FALSE & FALSE & FALSE & FALSE & FALSE & FALSE & FALSE & ...   & FALSE & FALSE & FALSE & FALSE & FALSE & FALSE & FALSE & FALSE & FALSE & FALSE\\\\\n",
       "\t FALSE & FALSE & FALSE & FALSE & FALSE & FALSE & FALSE & FALSE & FALSE & FALSE & ...   & FALSE & FALSE & FALSE & FALSE & FALSE & FALSE & FALSE & FALSE & FALSE & FALSE\\\\\n",
       "\t FALSE & FALSE & FALSE & FALSE & FALSE & FALSE & FALSE & FALSE & FALSE & FALSE & ...   & FALSE & FALSE & FALSE & FALSE & FALSE & FALSE & FALSE & FALSE & FALSE & FALSE\\\\\n",
       "\t FALSE & FALSE & FALSE & FALSE & FALSE & FALSE & FALSE & FALSE & FALSE & FALSE & ...   & FALSE & FALSE & FALSE & FALSE & FALSE & FALSE & FALSE & FALSE & FALSE & FALSE\\\\\n",
       "\t FALSE & FALSE & FALSE & FALSE & FALSE & FALSE & FALSE & FALSE & FALSE & FALSE & ...   & FALSE & FALSE & FALSE & FALSE & FALSE & FALSE & FALSE & FALSE & FALSE & FALSE\\\\\n",
       "\t FALSE & FALSE & FALSE & FALSE & FALSE & FALSE & FALSE & FALSE & FALSE & FALSE & ...   & FALSE & FALSE & FALSE & FALSE & FALSE & FALSE & FALSE & FALSE & FALSE & FALSE\\\\\n",
       "\t FALSE & FALSE & FALSE & FALSE & FALSE & FALSE & FALSE & FALSE & FALSE & FALSE & ...   & FALSE & FALSE & FALSE & FALSE & FALSE & FALSE & FALSE & FALSE & FALSE & FALSE\\\\\n",
       "\\end{tabular}\n"
      ],
      "text/markdown": [
       "\n",
       "Creditability | Account.Balance | Duration.of.Credit | Previous.Credit | Purpose | Credit.Amount | Value.Savings.Stocks | Length.of.current.employment | Instalment.per.income | Sex.Marital.Status | ... | Duration.in.Current.address | Most.valuable.asset | Age | Concurrent.Credits | Type.of.apartment | No.of.Credits.at.this.Bank | Occupation | No.of.dependents | Telephone | Foreign.Worker | \n",
       "|---|---|---|---|---|---|---|---|---|---|---|---|---|---|---|---|---|---|---|---|---|---|---|---|---|---|---|---|---|---|---|---|---|---|---|---|---|---|---|---|---|---|---|---|---|---|---|---|---|---|---|---|---|---|---|---|---|---|---|---|---|\n",
       "| FALSE | FALSE | FALSE | FALSE | FALSE | FALSE | FALSE | FALSE | FALSE | FALSE | ...   | FALSE | FALSE | FALSE | FALSE | FALSE | FALSE | FALSE | FALSE | FALSE | FALSE | \n",
       "| FALSE | FALSE | FALSE | FALSE | FALSE | FALSE | FALSE | FALSE | FALSE | FALSE | ...   | FALSE | FALSE | FALSE | FALSE | FALSE | FALSE | FALSE | FALSE | FALSE | FALSE | \n",
       "| FALSE | FALSE | FALSE | FALSE | FALSE | FALSE | FALSE | FALSE | FALSE | FALSE | ...   | FALSE | FALSE | FALSE | FALSE | FALSE | FALSE | FALSE | FALSE | FALSE | FALSE | \n",
       "| FALSE | FALSE | FALSE | FALSE | FALSE | FALSE | FALSE | FALSE | FALSE | FALSE | ...   | FALSE | FALSE | FALSE | FALSE | FALSE | FALSE | FALSE | FALSE | FALSE | FALSE | \n",
       "| FALSE | FALSE | FALSE | FALSE | FALSE | FALSE | FALSE | FALSE | FALSE | FALSE | ...   | FALSE | FALSE | FALSE | FALSE | FALSE | FALSE | FALSE | FALSE | FALSE | FALSE | \n",
       "| FALSE | FALSE | FALSE | FALSE | FALSE | FALSE | FALSE | FALSE | FALSE | FALSE | ...   | FALSE | FALSE | FALSE | FALSE | FALSE | FALSE | FALSE | FALSE | FALSE | FALSE | \n",
       "| FALSE | FALSE | FALSE | FALSE | FALSE | FALSE | FALSE | FALSE | FALSE | FALSE | ...   | FALSE | FALSE | FALSE | FALSE | FALSE | FALSE | FALSE | FALSE | FALSE | FALSE | \n",
       "| FALSE | FALSE | FALSE | FALSE | FALSE | FALSE | FALSE | FALSE | FALSE | FALSE | ...   | FALSE | FALSE | FALSE | FALSE | FALSE | FALSE | FALSE | FALSE | FALSE | FALSE | \n",
       "| FALSE | FALSE | FALSE | FALSE | FALSE | FALSE | FALSE | FALSE | FALSE | FALSE | ...   | FALSE | FALSE | FALSE | FALSE | FALSE | FALSE | FALSE | FALSE | FALSE | FALSE | \n",
       "| FALSE | FALSE | FALSE | FALSE | FALSE | FALSE | FALSE | FALSE | FALSE | FALSE | ...   | FALSE | FALSE | FALSE | FALSE | FALSE | FALSE | FALSE | FALSE | FALSE | FALSE | \n",
       "| FALSE | FALSE | FALSE | FALSE | FALSE | FALSE | FALSE | FALSE | FALSE | FALSE | ...   | FALSE | FALSE | FALSE | FALSE | FALSE | FALSE | FALSE | FALSE | FALSE | FALSE | \n",
       "| FALSE | FALSE | FALSE | FALSE | FALSE | FALSE | FALSE | FALSE | FALSE | FALSE | ...   | FALSE | FALSE | FALSE | FALSE | FALSE | FALSE | FALSE | FALSE | FALSE | FALSE | \n",
       "| FALSE | FALSE | FALSE | FALSE | FALSE | FALSE | FALSE | FALSE | FALSE | FALSE | ...   | FALSE | FALSE | FALSE | FALSE | FALSE | FALSE | FALSE | FALSE | FALSE | FALSE | \n",
       "| FALSE | FALSE | FALSE | FALSE | FALSE | FALSE | FALSE | FALSE | FALSE | FALSE | ...   | FALSE | FALSE | FALSE | FALSE | FALSE | FALSE | FALSE | FALSE | FALSE | FALSE | \n",
       "| FALSE | FALSE | FALSE | FALSE | FALSE | FALSE | FALSE | FALSE | FALSE | FALSE | ...   | FALSE | FALSE | FALSE | FALSE | FALSE | FALSE | FALSE | FALSE | FALSE | FALSE | \n",
       "| FALSE | FALSE | FALSE | FALSE | FALSE | FALSE | FALSE | FALSE | FALSE | FALSE | ...   | FALSE | FALSE | FALSE | FALSE | FALSE | FALSE | FALSE | FALSE | FALSE | FALSE | \n",
       "| FALSE | FALSE | FALSE | FALSE | FALSE | FALSE | FALSE | FALSE | FALSE | FALSE | ...   | FALSE | FALSE | FALSE | FALSE | FALSE | FALSE | FALSE | FALSE | FALSE | FALSE | \n",
       "| FALSE | FALSE | FALSE | FALSE | FALSE | FALSE | FALSE | FALSE | FALSE | FALSE | ...   | FALSE | FALSE | FALSE | FALSE | FALSE | FALSE | FALSE | FALSE | FALSE | FALSE | \n",
       "| FALSE | FALSE | FALSE | FALSE | FALSE | FALSE | FALSE | FALSE | FALSE | FALSE | ...   | FALSE | FALSE | FALSE | FALSE | FALSE | FALSE | FALSE | FALSE | FALSE | FALSE | \n",
       "| FALSE | FALSE | FALSE | FALSE | FALSE | FALSE | FALSE | FALSE | FALSE | FALSE | ...   | FALSE | FALSE | FALSE | FALSE | FALSE | FALSE | FALSE | FALSE | FALSE | FALSE | \n",
       "| FALSE | FALSE | FALSE | FALSE | FALSE | FALSE | FALSE | FALSE | FALSE | FALSE | ...   | FALSE | FALSE | FALSE | FALSE | FALSE | FALSE | FALSE | FALSE | FALSE | FALSE | \n",
       "| FALSE | FALSE | FALSE | FALSE | FALSE | FALSE | FALSE | FALSE | FALSE | FALSE | ...   | FALSE | FALSE | FALSE | FALSE | FALSE | FALSE | FALSE | FALSE | FALSE | FALSE | \n",
       "| FALSE | FALSE | FALSE | FALSE | FALSE | FALSE | FALSE | FALSE | FALSE | FALSE | ...   | FALSE | FALSE | FALSE | FALSE | FALSE | FALSE | FALSE | FALSE | FALSE | FALSE | \n",
       "| FALSE | FALSE | FALSE | FALSE | FALSE | FALSE | FALSE | FALSE | FALSE | FALSE | ...   | FALSE | FALSE | FALSE | FALSE | FALSE | FALSE | FALSE | FALSE | FALSE | FALSE | \n",
       "| FALSE | FALSE | FALSE | FALSE | FALSE | FALSE | FALSE | FALSE | FALSE | FALSE | ...   | FALSE | FALSE | FALSE | FALSE | FALSE | FALSE | FALSE | FALSE | FALSE | FALSE | \n",
       "| FALSE | FALSE | FALSE | FALSE | FALSE | FALSE | FALSE | FALSE | FALSE | FALSE | ...   | FALSE | FALSE | FALSE | FALSE | FALSE | FALSE | FALSE | FALSE | FALSE | FALSE | \n",
       "| FALSE | FALSE | FALSE | FALSE | FALSE | FALSE | FALSE | FALSE | FALSE | FALSE | ...   | FALSE | FALSE | FALSE | FALSE | FALSE | FALSE | FALSE | FALSE | FALSE | FALSE | \n",
       "| FALSE | FALSE | FALSE | FALSE | FALSE | FALSE | FALSE | FALSE | FALSE | FALSE | ...   | FALSE | FALSE | FALSE | FALSE | FALSE | FALSE | FALSE | FALSE | FALSE | FALSE | \n",
       "| FALSE | FALSE | FALSE | FALSE | FALSE | FALSE | FALSE | FALSE | FALSE | FALSE | ...   | FALSE | FALSE | FALSE | FALSE | FALSE | FALSE | FALSE | FALSE | FALSE | FALSE | \n",
       "| FALSE | FALSE | FALSE | FALSE | FALSE | FALSE | FALSE | FALSE | FALSE | FALSE | ...   | FALSE | FALSE | FALSE | FALSE | FALSE | FALSE | FALSE | FALSE | FALSE | FALSE | \n",
       "| ... | ... | ... | ... | ... | ... | ... | ... | ... | ... |     | ... | ... | ... | ... | ... | ... | ... | ... | ... | ... | \n",
       "| FALSE | FALSE | FALSE | FALSE | FALSE | FALSE | FALSE | FALSE | FALSE | FALSE | ...   | FALSE | FALSE | FALSE | FALSE | FALSE | FALSE | FALSE | FALSE | FALSE | FALSE | \n",
       "| FALSE | FALSE | FALSE | FALSE | FALSE | FALSE | FALSE | FALSE | FALSE | FALSE | ...   | FALSE | FALSE | FALSE | FALSE | FALSE | FALSE | FALSE | FALSE | FALSE | FALSE | \n",
       "| FALSE | FALSE | FALSE | FALSE | FALSE | FALSE | FALSE | FALSE | FALSE | FALSE | ...   | FALSE | FALSE | FALSE | FALSE | FALSE | FALSE | FALSE | FALSE | FALSE | FALSE | \n",
       "| FALSE | FALSE | FALSE | FALSE | FALSE | FALSE | FALSE | FALSE | FALSE | FALSE | ...   | FALSE | FALSE | FALSE | FALSE | FALSE | FALSE | FALSE | FALSE | FALSE | FALSE | \n",
       "| FALSE | FALSE | FALSE | FALSE | FALSE | FALSE | FALSE | FALSE | FALSE | FALSE | ...   | FALSE | FALSE | FALSE | FALSE | FALSE | FALSE | FALSE | FALSE | FALSE | FALSE | \n",
       "| FALSE | FALSE | FALSE | FALSE | FALSE | FALSE | FALSE | FALSE | FALSE | FALSE | ...   | FALSE | FALSE | FALSE | FALSE | FALSE | FALSE | FALSE | FALSE | FALSE | FALSE | \n",
       "| FALSE | FALSE | FALSE | FALSE | FALSE | FALSE | FALSE | FALSE | FALSE | FALSE | ...   | FALSE | FALSE | FALSE | FALSE | FALSE | FALSE | FALSE | FALSE | FALSE | FALSE | \n",
       "| FALSE | FALSE | FALSE | FALSE | FALSE | FALSE | FALSE | FALSE | FALSE | FALSE | ...   | FALSE | FALSE | FALSE | FALSE | FALSE | FALSE | FALSE | FALSE | FALSE | FALSE | \n",
       "| FALSE | FALSE | FALSE | FALSE | FALSE | FALSE | FALSE | FALSE | FALSE | FALSE | ...   | FALSE | FALSE | FALSE | FALSE | FALSE | FALSE | FALSE | FALSE | FALSE | FALSE | \n",
       "| FALSE | FALSE | FALSE | FALSE | FALSE | FALSE | FALSE | FALSE | FALSE | FALSE | ...   | FALSE | FALSE | FALSE | FALSE | FALSE | FALSE | FALSE | FALSE | FALSE | FALSE | \n",
       "| FALSE | FALSE | FALSE | FALSE | FALSE | FALSE | FALSE | FALSE | FALSE | FALSE | ...   | FALSE | FALSE | FALSE | FALSE | FALSE | FALSE | FALSE | FALSE | FALSE | FALSE | \n",
       "| FALSE | FALSE | FALSE | FALSE | FALSE | FALSE | FALSE | FALSE | FALSE | FALSE | ...   | FALSE | FALSE | FALSE | FALSE | FALSE | FALSE | FALSE | FALSE | FALSE | FALSE | \n",
       "| FALSE | FALSE | FALSE | FALSE | FALSE | FALSE | FALSE | FALSE | FALSE | FALSE | ...   | FALSE | FALSE | FALSE | FALSE | FALSE | FALSE | FALSE | FALSE | FALSE | FALSE | \n",
       "| FALSE | FALSE | FALSE | FALSE | FALSE | FALSE | FALSE | FALSE | FALSE | FALSE | ...   | FALSE | FALSE | FALSE | FALSE | FALSE | FALSE | FALSE | FALSE | FALSE | FALSE | \n",
       "| FALSE | FALSE | FALSE | FALSE | FALSE | FALSE | FALSE | FALSE | FALSE | FALSE | ...   | FALSE | FALSE | FALSE | FALSE | FALSE | FALSE | FALSE | FALSE | FALSE | FALSE | \n",
       "| FALSE | FALSE | FALSE | FALSE | FALSE | FALSE | FALSE | FALSE | FALSE | FALSE | ...   | FALSE | FALSE | FALSE | FALSE | FALSE | FALSE | FALSE | FALSE | FALSE | FALSE | \n",
       "| FALSE | FALSE | FALSE | FALSE | FALSE | FALSE | FALSE | FALSE | FALSE | FALSE | ...   | FALSE | FALSE | FALSE | FALSE | FALSE | FALSE | FALSE | FALSE | FALSE | FALSE | \n",
       "| FALSE | FALSE | FALSE | FALSE | FALSE | FALSE | FALSE | FALSE | FALSE | FALSE | ...   | FALSE | FALSE | FALSE | FALSE | FALSE | FALSE | FALSE | FALSE | FALSE | FALSE | \n",
       "| FALSE | FALSE | FALSE | FALSE | FALSE | FALSE | FALSE | FALSE | FALSE | FALSE | ...   | FALSE | FALSE | FALSE | FALSE | FALSE | FALSE | FALSE | FALSE | FALSE | FALSE | \n",
       "| FALSE | FALSE | FALSE | FALSE | FALSE | FALSE | FALSE | FALSE | FALSE | FALSE | ...   | FALSE | FALSE | FALSE | FALSE | FALSE | FALSE | FALSE | FALSE | FALSE | FALSE | \n",
       "| FALSE | FALSE | FALSE | FALSE | FALSE | FALSE | FALSE | FALSE | FALSE | FALSE | ...   | FALSE | FALSE | FALSE | FALSE | FALSE | FALSE | FALSE | FALSE | FALSE | FALSE | \n",
       "| FALSE | FALSE | FALSE | FALSE | FALSE | FALSE | FALSE | FALSE | FALSE | FALSE | ...   | FALSE | FALSE | FALSE | FALSE | FALSE | FALSE | FALSE | FALSE | FALSE | FALSE | \n",
       "| FALSE | FALSE | FALSE | FALSE | FALSE | FALSE | FALSE | FALSE | FALSE | FALSE | ...   | FALSE | FALSE | FALSE | FALSE | FALSE | FALSE | FALSE | FALSE | FALSE | FALSE | \n",
       "| FALSE | FALSE | FALSE | FALSE | FALSE | FALSE | FALSE | FALSE | FALSE | FALSE | ...   | FALSE | FALSE | FALSE | FALSE | FALSE | FALSE | FALSE | FALSE | FALSE | FALSE | \n",
       "| FALSE | FALSE | FALSE | FALSE | FALSE | FALSE | FALSE | FALSE | FALSE | FALSE | ...   | FALSE | FALSE | FALSE | FALSE | FALSE | FALSE | FALSE | FALSE | FALSE | FALSE | \n",
       "| FALSE | FALSE | FALSE | FALSE | FALSE | FALSE | FALSE | FALSE | FALSE | FALSE | ...   | FALSE | FALSE | FALSE | FALSE | FALSE | FALSE | FALSE | FALSE | FALSE | FALSE | \n",
       "| FALSE | FALSE | FALSE | FALSE | FALSE | FALSE | FALSE | FALSE | FALSE | FALSE | ...   | FALSE | FALSE | FALSE | FALSE | FALSE | FALSE | FALSE | FALSE | FALSE | FALSE | \n",
       "| FALSE | FALSE | FALSE | FALSE | FALSE | FALSE | FALSE | FALSE | FALSE | FALSE | ...   | FALSE | FALSE | FALSE | FALSE | FALSE | FALSE | FALSE | FALSE | FALSE | FALSE | \n",
       "| FALSE | FALSE | FALSE | FALSE | FALSE | FALSE | FALSE | FALSE | FALSE | FALSE | ...   | FALSE | FALSE | FALSE | FALSE | FALSE | FALSE | FALSE | FALSE | FALSE | FALSE | \n",
       "| FALSE | FALSE | FALSE | FALSE | FALSE | FALSE | FALSE | FALSE | FALSE | FALSE | ...   | FALSE | FALSE | FALSE | FALSE | FALSE | FALSE | FALSE | FALSE | FALSE | FALSE | \n",
       "\n",
       "\n"
      ],
      "text/plain": [
       "      Creditability Account.Balance Duration.of.Credit Previous.Credit Purpose\n",
       " [1,] FALSE         FALSE           FALSE              FALSE           FALSE  \n",
       " [2,] FALSE         FALSE           FALSE              FALSE           FALSE  \n",
       " [3,] FALSE         FALSE           FALSE              FALSE           FALSE  \n",
       " [4,] FALSE         FALSE           FALSE              FALSE           FALSE  \n",
       " [5,] FALSE         FALSE           FALSE              FALSE           FALSE  \n",
       " [6,] FALSE         FALSE           FALSE              FALSE           FALSE  \n",
       " [7,] FALSE         FALSE           FALSE              FALSE           FALSE  \n",
       " [8,] FALSE         FALSE           FALSE              FALSE           FALSE  \n",
       " [9,] FALSE         FALSE           FALSE              FALSE           FALSE  \n",
       "[10,] FALSE         FALSE           FALSE              FALSE           FALSE  \n",
       "[11,] FALSE         FALSE           FALSE              FALSE           FALSE  \n",
       "[12,] FALSE         FALSE           FALSE              FALSE           FALSE  \n",
       "[13,] FALSE         FALSE           FALSE              FALSE           FALSE  \n",
       "[14,] FALSE         FALSE           FALSE              FALSE           FALSE  \n",
       "[15,] FALSE         FALSE           FALSE              FALSE           FALSE  \n",
       "[16,] FALSE         FALSE           FALSE              FALSE           FALSE  \n",
       "[17,] FALSE         FALSE           FALSE              FALSE           FALSE  \n",
       "[18,] FALSE         FALSE           FALSE              FALSE           FALSE  \n",
       "[19,] FALSE         FALSE           FALSE              FALSE           FALSE  \n",
       "[20,] FALSE         FALSE           FALSE              FALSE           FALSE  \n",
       "[21,] FALSE         FALSE           FALSE              FALSE           FALSE  \n",
       "[22,] FALSE         FALSE           FALSE              FALSE           FALSE  \n",
       "[23,] FALSE         FALSE           FALSE              FALSE           FALSE  \n",
       "[24,] FALSE         FALSE           FALSE              FALSE           FALSE  \n",
       "[25,] FALSE         FALSE           FALSE              FALSE           FALSE  \n",
       "[26,] FALSE         FALSE           FALSE              FALSE           FALSE  \n",
       "[27,] FALSE         FALSE           FALSE              FALSE           FALSE  \n",
       "[28,] FALSE         FALSE           FALSE              FALSE           FALSE  \n",
       "[29,] FALSE         FALSE           FALSE              FALSE           FALSE  \n",
       "[30,] FALSE         FALSE           FALSE              FALSE           FALSE  \n",
       "[31,] ...           ...             ...                ...             ...    \n",
       "[32,] FALSE         FALSE           FALSE              FALSE           FALSE  \n",
       "[33,] FALSE         FALSE           FALSE              FALSE           FALSE  \n",
       "[34,] FALSE         FALSE           FALSE              FALSE           FALSE  \n",
       "[35,] FALSE         FALSE           FALSE              FALSE           FALSE  \n",
       "[36,] FALSE         FALSE           FALSE              FALSE           FALSE  \n",
       "[37,] FALSE         FALSE           FALSE              FALSE           FALSE  \n",
       "[38,] FALSE         FALSE           FALSE              FALSE           FALSE  \n",
       "[39,] FALSE         FALSE           FALSE              FALSE           FALSE  \n",
       "[40,] FALSE         FALSE           FALSE              FALSE           FALSE  \n",
       "[41,] FALSE         FALSE           FALSE              FALSE           FALSE  \n",
       "[42,] FALSE         FALSE           FALSE              FALSE           FALSE  \n",
       "[43,] FALSE         FALSE           FALSE              FALSE           FALSE  \n",
       "[44,] FALSE         FALSE           FALSE              FALSE           FALSE  \n",
       "[45,] FALSE         FALSE           FALSE              FALSE           FALSE  \n",
       "[46,] FALSE         FALSE           FALSE              FALSE           FALSE  \n",
       "[47,] FALSE         FALSE           FALSE              FALSE           FALSE  \n",
       "[48,] FALSE         FALSE           FALSE              FALSE           FALSE  \n",
       "[49,] FALSE         FALSE           FALSE              FALSE           FALSE  \n",
       "[50,] FALSE         FALSE           FALSE              FALSE           FALSE  \n",
       "[51,] FALSE         FALSE           FALSE              FALSE           FALSE  \n",
       "[52,] FALSE         FALSE           FALSE              FALSE           FALSE  \n",
       "[53,] FALSE         FALSE           FALSE              FALSE           FALSE  \n",
       "[54,] FALSE         FALSE           FALSE              FALSE           FALSE  \n",
       "[55,] FALSE         FALSE           FALSE              FALSE           FALSE  \n",
       "[56,] FALSE         FALSE           FALSE              FALSE           FALSE  \n",
       "[57,] FALSE         FALSE           FALSE              FALSE           FALSE  \n",
       "[58,] FALSE         FALSE           FALSE              FALSE           FALSE  \n",
       "[59,] FALSE         FALSE           FALSE              FALSE           FALSE  \n",
       "[60,] FALSE         FALSE           FALSE              FALSE           FALSE  \n",
       "[61,] FALSE         FALSE           FALSE              FALSE           FALSE  \n",
       "      Credit.Amount Value.Savings.Stocks Length.of.current.employment\n",
       " [1,] FALSE         FALSE                FALSE                       \n",
       " [2,] FALSE         FALSE                FALSE                       \n",
       " [3,] FALSE         FALSE                FALSE                       \n",
       " [4,] FALSE         FALSE                FALSE                       \n",
       " [5,] FALSE         FALSE                FALSE                       \n",
       " [6,] FALSE         FALSE                FALSE                       \n",
       " [7,] FALSE         FALSE                FALSE                       \n",
       " [8,] FALSE         FALSE                FALSE                       \n",
       " [9,] FALSE         FALSE                FALSE                       \n",
       "[10,] FALSE         FALSE                FALSE                       \n",
       "[11,] FALSE         FALSE                FALSE                       \n",
       "[12,] FALSE         FALSE                FALSE                       \n",
       "[13,] FALSE         FALSE                FALSE                       \n",
       "[14,] FALSE         FALSE                FALSE                       \n",
       "[15,] FALSE         FALSE                FALSE                       \n",
       "[16,] FALSE         FALSE                FALSE                       \n",
       "[17,] FALSE         FALSE                FALSE                       \n",
       "[18,] FALSE         FALSE                FALSE                       \n",
       "[19,] FALSE         FALSE                FALSE                       \n",
       "[20,] FALSE         FALSE                FALSE                       \n",
       "[21,] FALSE         FALSE                FALSE                       \n",
       "[22,] FALSE         FALSE                FALSE                       \n",
       "[23,] FALSE         FALSE                FALSE                       \n",
       "[24,] FALSE         FALSE                FALSE                       \n",
       "[25,] FALSE         FALSE                FALSE                       \n",
       "[26,] FALSE         FALSE                FALSE                       \n",
       "[27,] FALSE         FALSE                FALSE                       \n",
       "[28,] FALSE         FALSE                FALSE                       \n",
       "[29,] FALSE         FALSE                FALSE                       \n",
       "[30,] FALSE         FALSE                FALSE                       \n",
       "[31,] ...           ...                  ...                         \n",
       "[32,] FALSE         FALSE                FALSE                       \n",
       "[33,] FALSE         FALSE                FALSE                       \n",
       "[34,] FALSE         FALSE                FALSE                       \n",
       "[35,] FALSE         FALSE                FALSE                       \n",
       "[36,] FALSE         FALSE                FALSE                       \n",
       "[37,] FALSE         FALSE                FALSE                       \n",
       "[38,] FALSE         FALSE                FALSE                       \n",
       "[39,] FALSE         FALSE                FALSE                       \n",
       "[40,] FALSE         FALSE                FALSE                       \n",
       "[41,] FALSE         FALSE                FALSE                       \n",
       "[42,] FALSE         FALSE                FALSE                       \n",
       "[43,] FALSE         FALSE                FALSE                       \n",
       "[44,] FALSE         FALSE                FALSE                       \n",
       "[45,] FALSE         FALSE                FALSE                       \n",
       "[46,] FALSE         FALSE                FALSE                       \n",
       "[47,] FALSE         FALSE                FALSE                       \n",
       "[48,] FALSE         FALSE                FALSE                       \n",
       "[49,] FALSE         FALSE                FALSE                       \n",
       "[50,] FALSE         FALSE                FALSE                       \n",
       "[51,] FALSE         FALSE                FALSE                       \n",
       "[52,] FALSE         FALSE                FALSE                       \n",
       "[53,] FALSE         FALSE                FALSE                       \n",
       "[54,] FALSE         FALSE                FALSE                       \n",
       "[55,] FALSE         FALSE                FALSE                       \n",
       "[56,] FALSE         FALSE                FALSE                       \n",
       "[57,] FALSE         FALSE                FALSE                       \n",
       "[58,] FALSE         FALSE                FALSE                       \n",
       "[59,] FALSE         FALSE                FALSE                       \n",
       "[60,] FALSE         FALSE                FALSE                       \n",
       "[61,] FALSE         FALSE                FALSE                       \n",
       "      Instalment.per.income Sex.Marital.Status ... Duration.in.Current.address\n",
       " [1,] FALSE                 FALSE              ... FALSE                      \n",
       " [2,] FALSE                 FALSE              ... FALSE                      \n",
       " [3,] FALSE                 FALSE              ... FALSE                      \n",
       " [4,] FALSE                 FALSE              ... FALSE                      \n",
       " [5,] FALSE                 FALSE              ... FALSE                      \n",
       " [6,] FALSE                 FALSE              ... FALSE                      \n",
       " [7,] FALSE                 FALSE              ... FALSE                      \n",
       " [8,] FALSE                 FALSE              ... FALSE                      \n",
       " [9,] FALSE                 FALSE              ... FALSE                      \n",
       "[10,] FALSE                 FALSE              ... FALSE                      \n",
       "[11,] FALSE                 FALSE              ... FALSE                      \n",
       "[12,] FALSE                 FALSE              ... FALSE                      \n",
       "[13,] FALSE                 FALSE              ... FALSE                      \n",
       "[14,] FALSE                 FALSE              ... FALSE                      \n",
       "[15,] FALSE                 FALSE              ... FALSE                      \n",
       "[16,] FALSE                 FALSE              ... FALSE                      \n",
       "[17,] FALSE                 FALSE              ... FALSE                      \n",
       "[18,] FALSE                 FALSE              ... FALSE                      \n",
       "[19,] FALSE                 FALSE              ... FALSE                      \n",
       "[20,] FALSE                 FALSE              ... FALSE                      \n",
       "[21,] FALSE                 FALSE              ... FALSE                      \n",
       "[22,] FALSE                 FALSE              ... FALSE                      \n",
       "[23,] FALSE                 FALSE              ... FALSE                      \n",
       "[24,] FALSE                 FALSE              ... FALSE                      \n",
       "[25,] FALSE                 FALSE              ... FALSE                      \n",
       "[26,] FALSE                 FALSE              ... FALSE                      \n",
       "[27,] FALSE                 FALSE              ... FALSE                      \n",
       "[28,] FALSE                 FALSE              ... FALSE                      \n",
       "[29,] FALSE                 FALSE              ... FALSE                      \n",
       "[30,] FALSE                 FALSE              ... FALSE                      \n",
       "[31,] ...                   ...                    ...                        \n",
       "[32,] FALSE                 FALSE              ... FALSE                      \n",
       "[33,] FALSE                 FALSE              ... FALSE                      \n",
       "[34,] FALSE                 FALSE              ... FALSE                      \n",
       "[35,] FALSE                 FALSE              ... FALSE                      \n",
       "[36,] FALSE                 FALSE              ... FALSE                      \n",
       "[37,] FALSE                 FALSE              ... FALSE                      \n",
       "[38,] FALSE                 FALSE              ... FALSE                      \n",
       "[39,] FALSE                 FALSE              ... FALSE                      \n",
       "[40,] FALSE                 FALSE              ... FALSE                      \n",
       "[41,] FALSE                 FALSE              ... FALSE                      \n",
       "[42,] FALSE                 FALSE              ... FALSE                      \n",
       "[43,] FALSE                 FALSE              ... FALSE                      \n",
       "[44,] FALSE                 FALSE              ... FALSE                      \n",
       "[45,] FALSE                 FALSE              ... FALSE                      \n",
       "[46,] FALSE                 FALSE              ... FALSE                      \n",
       "[47,] FALSE                 FALSE              ... FALSE                      \n",
       "[48,] FALSE                 FALSE              ... FALSE                      \n",
       "[49,] FALSE                 FALSE              ... FALSE                      \n",
       "[50,] FALSE                 FALSE              ... FALSE                      \n",
       "[51,] FALSE                 FALSE              ... FALSE                      \n",
       "[52,] FALSE                 FALSE              ... FALSE                      \n",
       "[53,] FALSE                 FALSE              ... FALSE                      \n",
       "[54,] FALSE                 FALSE              ... FALSE                      \n",
       "[55,] FALSE                 FALSE              ... FALSE                      \n",
       "[56,] FALSE                 FALSE              ... FALSE                      \n",
       "[57,] FALSE                 FALSE              ... FALSE                      \n",
       "[58,] FALSE                 FALSE              ... FALSE                      \n",
       "[59,] FALSE                 FALSE              ... FALSE                      \n",
       "[60,] FALSE                 FALSE              ... FALSE                      \n",
       "[61,] FALSE                 FALSE              ... FALSE                      \n",
       "      Most.valuable.asset Age   Concurrent.Credits Type.of.apartment\n",
       " [1,] FALSE               FALSE FALSE              FALSE            \n",
       " [2,] FALSE               FALSE FALSE              FALSE            \n",
       " [3,] FALSE               FALSE FALSE              FALSE            \n",
       " [4,] FALSE               FALSE FALSE              FALSE            \n",
       " [5,] FALSE               FALSE FALSE              FALSE            \n",
       " [6,] FALSE               FALSE FALSE              FALSE            \n",
       " [7,] FALSE               FALSE FALSE              FALSE            \n",
       " [8,] FALSE               FALSE FALSE              FALSE            \n",
       " [9,] FALSE               FALSE FALSE              FALSE            \n",
       "[10,] FALSE               FALSE FALSE              FALSE            \n",
       "[11,] FALSE               FALSE FALSE              FALSE            \n",
       "[12,] FALSE               FALSE FALSE              FALSE            \n",
       "[13,] FALSE               FALSE FALSE              FALSE            \n",
       "[14,] FALSE               FALSE FALSE              FALSE            \n",
       "[15,] FALSE               FALSE FALSE              FALSE            \n",
       "[16,] FALSE               FALSE FALSE              FALSE            \n",
       "[17,] FALSE               FALSE FALSE              FALSE            \n",
       "[18,] FALSE               FALSE FALSE              FALSE            \n",
       "[19,] FALSE               FALSE FALSE              FALSE            \n",
       "[20,] FALSE               FALSE FALSE              FALSE            \n",
       "[21,] FALSE               FALSE FALSE              FALSE            \n",
       "[22,] FALSE               FALSE FALSE              FALSE            \n",
       "[23,] FALSE               FALSE FALSE              FALSE            \n",
       "[24,] FALSE               FALSE FALSE              FALSE            \n",
       "[25,] FALSE               FALSE FALSE              FALSE            \n",
       "[26,] FALSE               FALSE FALSE              FALSE            \n",
       "[27,] FALSE               FALSE FALSE              FALSE            \n",
       "[28,] FALSE               FALSE FALSE              FALSE            \n",
       "[29,] FALSE               FALSE FALSE              FALSE            \n",
       "[30,] FALSE               FALSE FALSE              FALSE            \n",
       "[31,] ...                 ...   ...                ...              \n",
       "[32,] FALSE               FALSE FALSE              FALSE            \n",
       "[33,] FALSE               FALSE FALSE              FALSE            \n",
       "[34,] FALSE               FALSE FALSE              FALSE            \n",
       "[35,] FALSE               FALSE FALSE              FALSE            \n",
       "[36,] FALSE               FALSE FALSE              FALSE            \n",
       "[37,] FALSE               FALSE FALSE              FALSE            \n",
       "[38,] FALSE               FALSE FALSE              FALSE            \n",
       "[39,] FALSE               FALSE FALSE              FALSE            \n",
       "[40,] FALSE               FALSE FALSE              FALSE            \n",
       "[41,] FALSE               FALSE FALSE              FALSE            \n",
       "[42,] FALSE               FALSE FALSE              FALSE            \n",
       "[43,] FALSE               FALSE FALSE              FALSE            \n",
       "[44,] FALSE               FALSE FALSE              FALSE            \n",
       "[45,] FALSE               FALSE FALSE              FALSE            \n",
       "[46,] FALSE               FALSE FALSE              FALSE            \n",
       "[47,] FALSE               FALSE FALSE              FALSE            \n",
       "[48,] FALSE               FALSE FALSE              FALSE            \n",
       "[49,] FALSE               FALSE FALSE              FALSE            \n",
       "[50,] FALSE               FALSE FALSE              FALSE            \n",
       "[51,] FALSE               FALSE FALSE              FALSE            \n",
       "[52,] FALSE               FALSE FALSE              FALSE            \n",
       "[53,] FALSE               FALSE FALSE              FALSE            \n",
       "[54,] FALSE               FALSE FALSE              FALSE            \n",
       "[55,] FALSE               FALSE FALSE              FALSE            \n",
       "[56,] FALSE               FALSE FALSE              FALSE            \n",
       "[57,] FALSE               FALSE FALSE              FALSE            \n",
       "[58,] FALSE               FALSE FALSE              FALSE            \n",
       "[59,] FALSE               FALSE FALSE              FALSE            \n",
       "[60,] FALSE               FALSE FALSE              FALSE            \n",
       "[61,] FALSE               FALSE FALSE              FALSE            \n",
       "      No.of.Credits.at.this.Bank Occupation No.of.dependents Telephone\n",
       " [1,] FALSE                      FALSE      FALSE            FALSE    \n",
       " [2,] FALSE                      FALSE      FALSE            FALSE    \n",
       " [3,] FALSE                      FALSE      FALSE            FALSE    \n",
       " [4,] FALSE                      FALSE      FALSE            FALSE    \n",
       " [5,] FALSE                      FALSE      FALSE            FALSE    \n",
       " [6,] FALSE                      FALSE      FALSE            FALSE    \n",
       " [7,] FALSE                      FALSE      FALSE            FALSE    \n",
       " [8,] FALSE                      FALSE      FALSE            FALSE    \n",
       " [9,] FALSE                      FALSE      FALSE            FALSE    \n",
       "[10,] FALSE                      FALSE      FALSE            FALSE    \n",
       "[11,] FALSE                      FALSE      FALSE            FALSE    \n",
       "[12,] FALSE                      FALSE      FALSE            FALSE    \n",
       "[13,] FALSE                      FALSE      FALSE            FALSE    \n",
       "[14,] FALSE                      FALSE      FALSE            FALSE    \n",
       "[15,] FALSE                      FALSE      FALSE            FALSE    \n",
       "[16,] FALSE                      FALSE      FALSE            FALSE    \n",
       "[17,] FALSE                      FALSE      FALSE            FALSE    \n",
       "[18,] FALSE                      FALSE      FALSE            FALSE    \n",
       "[19,] FALSE                      FALSE      FALSE            FALSE    \n",
       "[20,] FALSE                      FALSE      FALSE            FALSE    \n",
       "[21,] FALSE                      FALSE      FALSE            FALSE    \n",
       "[22,] FALSE                      FALSE      FALSE            FALSE    \n",
       "[23,] FALSE                      FALSE      FALSE            FALSE    \n",
       "[24,] FALSE                      FALSE      FALSE            FALSE    \n",
       "[25,] FALSE                      FALSE      FALSE            FALSE    \n",
       "[26,] FALSE                      FALSE      FALSE            FALSE    \n",
       "[27,] FALSE                      FALSE      FALSE            FALSE    \n",
       "[28,] FALSE                      FALSE      FALSE            FALSE    \n",
       "[29,] FALSE                      FALSE      FALSE            FALSE    \n",
       "[30,] FALSE                      FALSE      FALSE            FALSE    \n",
       "[31,] ...                        ...        ...              ...      \n",
       "[32,] FALSE                      FALSE      FALSE            FALSE    \n",
       "[33,] FALSE                      FALSE      FALSE            FALSE    \n",
       "[34,] FALSE                      FALSE      FALSE            FALSE    \n",
       "[35,] FALSE                      FALSE      FALSE            FALSE    \n",
       "[36,] FALSE                      FALSE      FALSE            FALSE    \n",
       "[37,] FALSE                      FALSE      FALSE            FALSE    \n",
       "[38,] FALSE                      FALSE      FALSE            FALSE    \n",
       "[39,] FALSE                      FALSE      FALSE            FALSE    \n",
       "[40,] FALSE                      FALSE      FALSE            FALSE    \n",
       "[41,] FALSE                      FALSE      FALSE            FALSE    \n",
       "[42,] FALSE                      FALSE      FALSE            FALSE    \n",
       "[43,] FALSE                      FALSE      FALSE            FALSE    \n",
       "[44,] FALSE                      FALSE      FALSE            FALSE    \n",
       "[45,] FALSE                      FALSE      FALSE            FALSE    \n",
       "[46,] FALSE                      FALSE      FALSE            FALSE    \n",
       "[47,] FALSE                      FALSE      FALSE            FALSE    \n",
       "[48,] FALSE                      FALSE      FALSE            FALSE    \n",
       "[49,] FALSE                      FALSE      FALSE            FALSE    \n",
       "[50,] FALSE                      FALSE      FALSE            FALSE    \n",
       "[51,] FALSE                      FALSE      FALSE            FALSE    \n",
       "[52,] FALSE                      FALSE      FALSE            FALSE    \n",
       "[53,] FALSE                      FALSE      FALSE            FALSE    \n",
       "[54,] FALSE                      FALSE      FALSE            FALSE    \n",
       "[55,] FALSE                      FALSE      FALSE            FALSE    \n",
       "[56,] FALSE                      FALSE      FALSE            FALSE    \n",
       "[57,] FALSE                      FALSE      FALSE            FALSE    \n",
       "[58,] FALSE                      FALSE      FALSE            FALSE    \n",
       "[59,] FALSE                      FALSE      FALSE            FALSE    \n",
       "[60,] FALSE                      FALSE      FALSE            FALSE    \n",
       "[61,] FALSE                      FALSE      FALSE            FALSE    \n",
       "      Foreign.Worker\n",
       " [1,] FALSE         \n",
       " [2,] FALSE         \n",
       " [3,] FALSE         \n",
       " [4,] FALSE         \n",
       " [5,] FALSE         \n",
       " [6,] FALSE         \n",
       " [7,] FALSE         \n",
       " [8,] FALSE         \n",
       " [9,] FALSE         \n",
       "[10,] FALSE         \n",
       "[11,] FALSE         \n",
       "[12,] FALSE         \n",
       "[13,] FALSE         \n",
       "[14,] FALSE         \n",
       "[15,] FALSE         \n",
       "[16,] FALSE         \n",
       "[17,] FALSE         \n",
       "[18,] FALSE         \n",
       "[19,] FALSE         \n",
       "[20,] FALSE         \n",
       "[21,] FALSE         \n",
       "[22,] FALSE         \n",
       "[23,] FALSE         \n",
       "[24,] FALSE         \n",
       "[25,] FALSE         \n",
       "[26,] FALSE         \n",
       "[27,] FALSE         \n",
       "[28,] FALSE         \n",
       "[29,] FALSE         \n",
       "[30,] FALSE         \n",
       "[31,] ...           \n",
       "[32,] FALSE         \n",
       "[33,] FALSE         \n",
       "[34,] FALSE         \n",
       "[35,] FALSE         \n",
       "[36,] FALSE         \n",
       "[37,] FALSE         \n",
       "[38,] FALSE         \n",
       "[39,] FALSE         \n",
       "[40,] FALSE         \n",
       "[41,] FALSE         \n",
       "[42,] FALSE         \n",
       "[43,] FALSE         \n",
       "[44,] FALSE         \n",
       "[45,] FALSE         \n",
       "[46,] FALSE         \n",
       "[47,] FALSE         \n",
       "[48,] FALSE         \n",
       "[49,] FALSE         \n",
       "[50,] FALSE         \n",
       "[51,] FALSE         \n",
       "[52,] FALSE         \n",
       "[53,] FALSE         \n",
       "[54,] FALSE         \n",
       "[55,] FALSE         \n",
       "[56,] FALSE         \n",
       "[57,] FALSE         \n",
       "[58,] FALSE         \n",
       "[59,] FALSE         \n",
       "[60,] FALSE         \n",
       "[61,] FALSE         "
      ]
     },
     "metadata": {},
     "output_type": "display_data"
    }
   ],
   "source": [
    "#cek null values\n",
    "is.na(creditability)"
   ]
  },
  {
   "cell_type": "code",
   "execution_count": 11,
   "metadata": {},
   "outputs": [],
   "source": [
    "# Ubah numerical values menjadi categorical\n",
    "creditability1 <- creditability %>% \n",
    "    mutate(Creditability = ifelse(Creditability == 0, \"Bad\", \"Good\")) %>% \n",
    "    mutate(Telephone = ifelse(Telephone == 1, \"No\", \"Yes\")) %>% \n",
    "    mutate(Foreign.Worker = ifelse(Foreign.Worker == 1, \"Yes\", \"No\")) %>% \n",
    "    mutate(\n",
    "        Sex.Marital.Status = case_when(\n",
    "            Sex.Marital.Status == 1 ~ \"male_divorced_livingapart\",\n",
    "            Sex.Marital.Status == 2 ~ \"male_single\",\n",
    "            Sex.Marital.Status == 3 ~ \"male_married_widowed\",\n",
    "            Sex.Marital.Status == 4 ~ \"female\",\n",
    "            TRUE ~  \"other\"\n",
    "        )\n",
    "    ) %>% \n",
    "    mutate(\n",
    "        Purpose = case_when(\n",
    "            Purpose == 1 ~ \"new_car\",\n",
    "            Purpose == 2 ~ \"used_car\",\n",
    "            Purpose == 3 ~ \"items_of_furniture\",\n",
    "            Purpose == 4 ~ \"radio_television\",\n",
    "            Purpose == 5 ~ \"household_appliances\",\n",
    "            Purpose == 6 ~ \"repair\",\n",
    "            Purpose == 7 ~ \"education\",\n",
    "            Purpose == 8 ~ \"vacation\",\n",
    "            Purpose == 9 ~ \"retraining\",\n",
    "            Purpose == 10 ~ \"business\",\n",
    "            TRUE ~  \"other\"\n",
    "        )\n",
    "    )  %>% \n",
    "    mutate(\n",
    "        Type.of.apartment  = case_when(\n",
    "            Type.of.apartment  == 1 ~ \"free_apartement\",\n",
    "            Type.of.apartment  == 2 ~ \"rented_flat\",\n",
    "            Type.of.apartment  == 3 ~ \"owner_occupied_flat\",\n",
    "            TRUE ~  \"other\"\n",
    "        )\n",
    "    )  %>% \n",
    "    mutate(\n",
    "        Occupation  = case_when(\n",
    "            Occupation  == 1 ~ \"unemployed_no_residence\",\n",
    "            Occupation  == 2 ~ \"unskilled_residence\",\n",
    "            Occupation  == 3 ~ \"skilled_worker\",\n",
    "            Occupation  == 4 ~ \"executive\",\n",
    "            TRUE ~  \"other\"\n",
    "        )\n",
    "    )  %>% \n",
    "    mutate(\n",
    "        Most.valuable.asset  = case_when(\n",
    "            Most.valuable.asset  == 1 ~ \"no_available\",\n",
    "            Most.valuable.asset  == 2 ~ \"car_other\",\n",
    "            Most.valuable.asset  == 3 ~ \"life_insurance\",\n",
    "            Most.valuable.asset  == 4 ~ \"ownership_land_house\",\n",
    "            TRUE ~  \"other\"\n",
    "        )\n",
    "    )  %>% \n",
    "    mutate(\n",
    "        Account.Balance = case_when(\n",
    "            Account.Balance == 1 ~ \"no_account\",\n",
    "            Account.Balance == 2 ~ \"no_balance\",\n",
    "            Account.Balance == 3 ~ \"0_200_balance\",\n",
    "            Account.Balance == 4 ~ \"greater_200\",\n",
    "            TRUE ~  \"other\"\n",
    "        )\n",
    "    ) "
   ]
  },
  {
   "cell_type": "code",
   "execution_count": 7,
   "metadata": {},
   "outputs": [],
   "source": [
    "# head(creditability1)\n",
    "# summary(creditability1)"
   ]
  },
  {
   "cell_type": "code",
   "execution_count": 107,
   "metadata": {},
   "outputs": [],
   "source": [
    "# credit <- creditability"
   ]
  },
  {
   "cell_type": "code",
   "execution_count": 111,
   "metadata": {},
   "outputs": [],
   "source": [
    "# S <- c(1, 2, 4, 5, 7, 8, 9, 10, 11, 12, 13, 15, 16, 17, 18, 19, 20, 21)\n",
    "# for(i in S) credit[, i] <- as.factor(credit[, i])"
   ]
  },
  {
   "cell_type": "code",
   "execution_count": 6,
   "metadata": {},
   "outputs": [],
   "source": [
    "# str(credit)"
   ]
  },
  {
   "cell_type": "code",
   "execution_count": 83,
   "metadata": {},
   "outputs": [
    {
     "name": "stdout",
     "output_type": "stream",
     "text": [
      "'data.frame':\t900 obs. of  21 variables:\n",
      " $ Creditability               : chr  \"Good\" \"Good\" \"Good\" \"Good\" ...\n",
      " $ Account.Balance             : int  1 1 2 1 1 1 4 2 1 1 ...\n",
      " $ Duration.of.Credit          : int  18 9 12 12 12 8 18 24 11 30 ...\n",
      " $ Previous.Credit             : int  4 4 2 4 4 4 4 2 4 4 ...\n",
      " $ Purpose                     : chr  \"used_car\" \"other\" \"retraining\" \"other\" ...\n",
      " $ Credit.Amount               : int  1049 2799 841 2122 2171 3398 1098 3758 3905 6187 ...\n",
      " $ Value.Savings.Stocks        : int  1 1 2 1 1 1 1 3 1 2 ...\n",
      " $ Length.of.current.employment: int  2 3 4 3 3 4 1 1 3 4 ...\n",
      " $ Instalment.per.income       : int  4 2 2 3 4 1 4 1 2 1 ...\n",
      " $ Sex.Marital.Status          : int  2 3 2 3 3 3 2 2 3 4 ...\n",
      " $ Guarantors                  : int  1 1 1 1 1 1 1 1 1 1 ...\n",
      " $ Duration.in.Current.address : int  4 2 4 2 4 4 4 4 2 4 ...\n",
      " $ Most.valuable.asset         : int  2 1 1 1 2 1 3 4 1 3 ...\n",
      " $ Age                         : int  21 36 23 39 38 39 65 23 36 24 ...\n",
      " $ Concurrent.Credits          : int  3 3 3 3 1 3 3 3 3 3 ...\n",
      " $ Type.of.apartment           : int  1 1 1 1 2 2 2 1 1 1 ...\n",
      " $ No.of.Credits.at.this.Bank  : int  1 2 1 2 2 2 2 1 2 2 ...\n",
      " $ Occupation                  : int  3 3 2 2 2 2 1 1 3 3 ...\n",
      " $ No.of.dependents            : int  1 2 1 2 1 1 1 1 2 1 ...\n",
      " $ Telephone                   : chr  \"No\" \"No\" \"No\" \"No\" ...\n",
      " $ Foreign.Worker              : chr  \"Yes\" \"Yes\" \"Yes\" \"No\" ...\n"
     ]
    }
   ],
   "source": [
    "str(creditability1)"
   ]
  },
  {
   "cell_type": "code",
   "execution_count": 10,
   "metadata": {
    "scrolled": true
   },
   "outputs": [
    {
     "data": {
      "text/html": [
       "<table>\n",
       "<thead><tr><th scope=col>Creditability</th><th scope=col>n</th></tr></thead>\n",
       "<tbody>\n",
       "\t<tr><td>Bad </td><td>270 </td></tr>\n",
       "\t<tr><td>Good</td><td>630 </td></tr>\n",
       "</tbody>\n",
       "</table>\n"
      ],
      "text/latex": [
       "\\begin{tabular}{r|ll}\n",
       " Creditability & n\\\\\n",
       "\\hline\n",
       "\t Bad  & 270 \\\\\n",
       "\t Good & 630 \\\\\n",
       "\\end{tabular}\n"
      ],
      "text/markdown": [
       "\n",
       "Creditability | n | \n",
       "|---|---|\n",
       "| Bad  | 270  | \n",
       "| Good | 630  | \n",
       "\n",
       "\n"
      ],
      "text/plain": [
       "  Creditability n  \n",
       "1 Bad           270\n",
       "2 Good          630"
      ]
     },
     "metadata": {},
     "output_type": "display_data"
    },
    {
     "data": {},
     "metadata": {},
     "output_type": "display_data"
    },
    {
     "data": {
      "image/png": "[encoded data removed]",
      "text/plain": [
       "plot without title"
      ]
     },
     "metadata": {},
     "output_type": "display_data"
    }
   ],
   "source": [
    "#Nomor 1\n",
    "# Menghitung banyak kredit bagus dan buruk\n",
    "good_bad <- creditability1 %>% \n",
    "  count(`Creditability`)\n",
    "good_bad\n",
    "\n",
    "ggplot(good_bad, aes(Creditability, n)) +\n",
    "  geom_bar(stat = \"identity\", color=\"blue\")"
   ]
  },
  {
   "cell_type": "markdown",
   "metadata": {},
   "source": [
    "Insight 1 : Dari dataset yang ada terdapat banyak skor credit yang tinggi dibandingkan yang buruk"
   ]
  },
  {
   "cell_type": "code",
   "execution_count": 87,
   "metadata": {},
   "outputs": [
    {
     "data": {
      "text/html": [
       "<table>\n",
       "<thead><tr><th scope=col>Sex.Marital.Status</th><th scope=col>Creditability</th><th scope=col>n</th><th scope=col>persen</th></tr></thead>\n",
       "<tbody>\n",
       "\t<tr><td>female                   </td><td>Bad                      </td><td> 25                      </td><td>29.06977                 </td></tr>\n",
       "\t<tr><td>female                   </td><td>Good                     </td><td> 61                      </td><td>70.93023                 </td></tr>\n",
       "\t<tr><td>male_divorced_livingapart</td><td>Bad                      </td><td> 16                      </td><td>39.02439                 </td></tr>\n",
       "\t<tr><td>male_divorced_livingapart</td><td>Good                     </td><td> 25                      </td><td>60.97561                 </td></tr>\n",
       "\t<tr><td>male_married_widowed     </td><td>Bad                      </td><td>133                      </td><td>26.86869                 </td></tr>\n",
       "\t<tr><td>male_married_widowed     </td><td>Good                     </td><td>362                      </td><td>73.13131                 </td></tr>\n",
       "\t<tr><td>male_single              </td><td>Bad                      </td><td> 96                      </td><td>34.53237                 </td></tr>\n",
       "\t<tr><td>male_single              </td><td>Good                     </td><td>182                      </td><td>65.46763                 </td></tr>\n",
       "</tbody>\n",
       "</table>\n"
      ],
      "text/latex": [
       "\\begin{tabular}{r|llll}\n",
       " Sex.Marital.Status & Creditability & n & persen\\\\\n",
       "\\hline\n",
       "\t female                    & Bad                       &  25                       & 29.06977                 \\\\\n",
       "\t female                    & Good                      &  61                       & 70.93023                 \\\\\n",
       "\t male\\_divorced\\_livingapart & Bad                           &  16                           & 39.02439                     \\\\\n",
       "\t male\\_divorced\\_livingapart & Good                          &  25                           & 60.97561                     \\\\\n",
       "\t male\\_married\\_widowed      & Bad                           & 133                           & 26.86869                     \\\\\n",
       "\t male\\_married\\_widowed      & Good                          & 362                           & 73.13131                     \\\\\n",
       "\t male\\_single               & Bad                         &  96                         & 34.53237                   \\\\\n",
       "\t male\\_single               & Good                        & 182                         & 65.46763                   \\\\\n",
       "\\end{tabular}\n"
      ],
      "text/markdown": [
       "\n",
       "Sex.Marital.Status | Creditability | n | persen | \n",
       "|---|---|---|---|---|---|---|---|\n",
       "| female                    | Bad                       |  25                       | 29.06977                  | \n",
       "| female                    | Good                      |  61                       | 70.93023                  | \n",
       "| male_divorced_livingapart | Bad                       |  16                       | 39.02439                  | \n",
       "| male_divorced_livingapart | Good                      |  25                       | 60.97561                  | \n",
       "| male_married_widowed      | Bad                       | 133                       | 26.86869                  | \n",
       "| male_married_widowed      | Good                      | 362                       | 73.13131                  | \n",
       "| male_single               | Bad                       |  96                       | 34.53237                  | \n",
       "| male_single               | Good                      | 182                       | 65.46763                  | \n",
       "\n",
       "\n"
      ],
      "text/plain": [
       "  Sex.Marital.Status        Creditability n   persen  \n",
       "1 female                    Bad            25 29.06977\n",
       "2 female                    Good           61 70.93023\n",
       "3 male_divorced_livingapart Bad            16 39.02439\n",
       "4 male_divorced_livingapart Good           25 60.97561\n",
       "5 male_married_widowed      Bad           133 26.86869\n",
       "6 male_married_widowed      Good          362 73.13131\n",
       "7 male_single               Bad            96 34.53237\n",
       "8 male_single               Good          182 65.46763"
      ]
     },
     "metadata": {},
     "output_type": "display_data"
    },
    {
     "data": {},
     "metadata": {},
     "output_type": "display_data"
    },
    {
     "data": {
      "image/png": "[encoded data removed]",
      "text/plain": [
       "plot without title"
      ]
     },
     "metadata": {},
     "output_type": "display_data"
    }
   ],
   "source": [
    "creditability1 %>%\n",
    "  count(Sex.Marital.Status,Creditability) %>%\n",
    "  group_by(Sex.Marital.Status) %>%\n",
    "  mutate(persen = 100*n/sum(n))\n",
    "\n",
    "#plot banyak credit yang baik dan buruk per sex martial status\n",
    "ggplot(creditability1, aes(x = Sex.Marital.Status, fill = Creditability)) +\n",
    "  geom_bar()"
   ]
  },
  {
   "cell_type": "markdown",
   "metadata": {},
   "source": [
    "Insight 2: Dari sini terlihat bahwa yang paling banyak melakukan kredit adalah male: married / widowed dan tentunya memiliki tingkat skor yang baik"
   ]
  },
  {
   "cell_type": "code",
   "execution_count": 88,
   "metadata": {},
   "outputs": [
    {
     "data": {
      "text/html": [
       "<table>\n",
       "<thead><tr><th scope=col>Purpose</th><th scope=col>Creditability</th><th scope=col>n</th><th scope=col>persen</th></tr></thead>\n",
       "<tbody>\n",
       "\t<tr><td>business            </td><td>Bad                 </td><td>  5                 </td><td>45.45455            </td></tr>\n",
       "\t<tr><td>business            </td><td>Good                </td><td>  6                 </td><td>54.54545            </td></tr>\n",
       "\t<tr><td>household_appliances</td><td>Bad                 </td><td>  8                 </td><td>42.10526            </td></tr>\n",
       "\t<tr><td>household_appliances</td><td>Good                </td><td> 11                 </td><td>57.89474            </td></tr>\n",
       "\t<tr><td>items_of_furniture  </td><td>Bad                 </td><td> 54                 </td><td>20.84942            </td></tr>\n",
       "\t<tr><td>items_of_furniture  </td><td>Good                </td><td>205                 </td><td>79.15058            </td></tr>\n",
       "\t<tr><td>new_car             </td><td>Bad                 </td><td> 16                 </td><td>17.77778            </td></tr>\n",
       "\t<tr><td>new_car             </td><td>Good                </td><td> 74                 </td><td>82.22222            </td></tr>\n",
       "\t<tr><td>other               </td><td>Bad                 </td><td> 77                 </td><td>37.19807            </td></tr>\n",
       "\t<tr><td>other               </td><td>Good                </td><td>130                 </td><td>62.80193            </td></tr>\n",
       "\t<tr><td>radio_television    </td><td>Bad                 </td><td>  4                 </td><td>33.33333            </td></tr>\n",
       "\t<tr><td>radio_television    </td><td>Good                </td><td>  8                 </td><td>66.66667            </td></tr>\n",
       "\t<tr><td>repair              </td><td>Bad                 </td><td> 20                 </td><td>46.51163            </td></tr>\n",
       "\t<tr><td>repair              </td><td>Good                </td><td> 23                 </td><td>53.48837            </td></tr>\n",
       "\t<tr><td>retraining          </td><td>Bad                 </td><td> 31                 </td><td>36.47059            </td></tr>\n",
       "\t<tr><td>retraining          </td><td>Good                </td><td> 54                 </td><td>63.52941            </td></tr>\n",
       "\t<tr><td>used_car            </td><td>Bad                 </td><td> 54                 </td><td>32.53012            </td></tr>\n",
       "\t<tr><td>used_car            </td><td>Good                </td><td>112                 </td><td>67.46988            </td></tr>\n",
       "\t<tr><td>vacation            </td><td>Bad                 </td><td>  1                 </td><td>12.50000            </td></tr>\n",
       "\t<tr><td>vacation            </td><td>Good                </td><td>  7                 </td><td>87.50000            </td></tr>\n",
       "</tbody>\n",
       "</table>\n"
      ],
      "text/latex": [
       "\\begin{tabular}{r|llll}\n",
       " Purpose & Creditability & n & persen\\\\\n",
       "\\hline\n",
       "\t business             & Bad                  &   5                  & 45.45455            \\\\\n",
       "\t business             & Good                 &   6                  & 54.54545            \\\\\n",
       "\t household\\_appliances & Bad                    &   8                    & 42.10526              \\\\\n",
       "\t household\\_appliances & Good                   &  11                    & 57.89474              \\\\\n",
       "\t items\\_of\\_furniture   & Bad                      &  54                      & 20.84942                \\\\\n",
       "\t items\\_of\\_furniture   & Good                     & 205                      & 79.15058                \\\\\n",
       "\t new\\_car              & Bad                    &  16                    & 17.77778              \\\\\n",
       "\t new\\_car              & Good                   &  74                    & 82.22222              \\\\\n",
       "\t other                & Bad                  &  77                  & 37.19807            \\\\\n",
       "\t other                & Good                 & 130                  & 62.80193            \\\\\n",
       "\t radio\\_television     & Bad                    &   4                    & 33.33333              \\\\\n",
       "\t radio\\_television     & Good                   &   8                    & 66.66667              \\\\\n",
       "\t repair               & Bad                  &  20                  & 46.51163            \\\\\n",
       "\t repair               & Good                 &  23                  & 53.48837            \\\\\n",
       "\t retraining           & Bad                  &  31                  & 36.47059            \\\\\n",
       "\t retraining           & Good                 &  54                  & 63.52941            \\\\\n",
       "\t used\\_car             & Bad                    &  54                    & 32.53012              \\\\\n",
       "\t used\\_car             & Good                   & 112                    & 67.46988              \\\\\n",
       "\t vacation             & Bad                  &   1                  & 12.50000            \\\\\n",
       "\t vacation             & Good                 &   7                  & 87.50000            \\\\\n",
       "\\end{tabular}\n"
      ],
      "text/markdown": [
       "\n",
       "Purpose | Creditability | n | persen | \n",
       "|---|---|---|---|---|---|---|---|---|---|---|---|---|---|---|---|---|---|---|---|\n",
       "| business             | Bad                  |   5                  | 45.45455             | \n",
       "| business             | Good                 |   6                  | 54.54545             | \n",
       "| household_appliances | Bad                  |   8                  | 42.10526             | \n",
       "| household_appliances | Good                 |  11                  | 57.89474             | \n",
       "| items_of_furniture   | Bad                  |  54                  | 20.84942             | \n",
       "| items_of_furniture   | Good                 | 205                  | 79.15058             | \n",
       "| new_car              | Bad                  |  16                  | 17.77778             | \n",
       "| new_car              | Good                 |  74                  | 82.22222             | \n",
       "| other                | Bad                  |  77                  | 37.19807             | \n",
       "| other                | Good                 | 130                  | 62.80193             | \n",
       "| radio_television     | Bad                  |   4                  | 33.33333             | \n",
       "| radio_television     | Good                 |   8                  | 66.66667             | \n",
       "| repair               | Bad                  |  20                  | 46.51163             | \n",
       "| repair               | Good                 |  23                  | 53.48837             | \n",
       "| retraining           | Bad                  |  31                  | 36.47059             | \n",
       "| retraining           | Good                 |  54                  | 63.52941             | \n",
       "| used_car             | Bad                  |  54                  | 32.53012             | \n",
       "| used_car             | Good                 | 112                  | 67.46988             | \n",
       "| vacation             | Bad                  |   1                  | 12.50000             | \n",
       "| vacation             | Good                 |   7                  | 87.50000             | \n",
       "\n",
       "\n"
      ],
      "text/plain": [
       "   Purpose              Creditability n   persen  \n",
       "1  business             Bad             5 45.45455\n",
       "2  business             Good            6 54.54545\n",
       "3  household_appliances Bad             8 42.10526\n",
       "4  household_appliances Good           11 57.89474\n",
       "5  items_of_furniture   Bad            54 20.84942\n",
       "6  items_of_furniture   Good          205 79.15058\n",
       "7  new_car              Bad            16 17.77778\n",
       "8  new_car              Good           74 82.22222\n",
       "9  other                Bad            77 37.19807\n",
       "10 other                Good          130 62.80193\n",
       "11 radio_television     Bad             4 33.33333\n",
       "12 radio_television     Good            8 66.66667\n",
       "13 repair               Bad            20 46.51163\n",
       "14 repair               Good           23 53.48837\n",
       "15 retraining           Bad            31 36.47059\n",
       "16 retraining           Good           54 63.52941\n",
       "17 used_car             Bad            54 32.53012\n",
       "18 used_car             Good          112 67.46988\n",
       "19 vacation             Bad             1 12.50000\n",
       "20 vacation             Good            7 87.50000"
      ]
     },
     "metadata": {},
     "output_type": "display_data"
    },
    {
     "data": {},
     "metadata": {},
     "output_type": "display_data"
    },
    {
     "data": {
      "image/png": "[encoded data removed]",
      "text/plain": [
       "plot without title"
      ]
     },
     "metadata": {},
     "output_type": "display_data"
    }
   ],
   "source": [
    "creditability1 %>%\n",
    "  count(Purpose,Creditability) %>%\n",
    "  group_by(Purpose) %>%\n",
    "  mutate(persen = 100*n/sum(n))\n",
    "\n",
    "#plot banyak credit yang baik dan buruk per Purpose\n",
    "ggplot(creditability1, aes(x = Purpose, fill = Creditability)) +\n",
    "  geom_bar()"
   ]
  },
  {
   "cell_type": "markdown",
   "metadata": {},
   "source": [
    "Insight 3: Tujuan kredit paling banyak adalah untuk membeli sebuah furnitur"
   ]
  },
  {
   "cell_type": "markdown",
   "metadata": {},
   "source": [
    "Insight 4: Tujuan kredit paling sedikit adalah untuk berlibur"
   ]
  },
  {
   "cell_type": "markdown",
   "metadata": {},
   "source": [
    "Insight 5: Paling banyak kredit yang memiliki skor bagus adalah untuk membeli mobil baru"
   ]
  },
  {
   "cell_type": "code",
   "execution_count": 90,
   "metadata": {},
   "outputs": [
    {
     "data": {
      "text/html": [
       "<table>\n",
       "<thead><tr><th scope=col>Most.valuable.asset</th><th scope=col>Creditability</th><th scope=col>n</th><th scope=col>persen</th></tr></thead>\n",
       "<tbody>\n",
       "\t<tr><td>car_other           </td><td>Bad                 </td><td> 60                 </td><td>30.00000            </td></tr>\n",
       "\t<tr><td>car_other           </td><td>Good                </td><td>140                 </td><td>70.00000            </td></tr>\n",
       "\t<tr><td>life_insurance      </td><td>Bad                 </td><td> 97                 </td><td>31.18971            </td></tr>\n",
       "\t<tr><td>life_insurance      </td><td>Good                </td><td>214                 </td><td>68.81029            </td></tr>\n",
       "\t<tr><td>no_available        </td><td>Bad                 </td><td> 54                 </td><td>21.51394            </td></tr>\n",
       "\t<tr><td>no_available        </td><td>Good                </td><td>197                 </td><td>78.48606            </td></tr>\n",
       "\t<tr><td>ownership_land_house</td><td>Bad                 </td><td> 59                 </td><td>42.75362            </td></tr>\n",
       "\t<tr><td>ownership_land_house</td><td>Good                </td><td> 79                 </td><td>57.24638            </td></tr>\n",
       "</tbody>\n",
       "</table>\n"
      ],
      "text/latex": [
       "\\begin{tabular}{r|llll}\n",
       " Most.valuable.asset & Creditability & n & persen\\\\\n",
       "\\hline\n",
       "\t car\\_other            & Bad                    &  60                    & 30.00000              \\\\\n",
       "\t car\\_other            & Good                   & 140                    & 70.00000              \\\\\n",
       "\t life\\_insurance       & Bad                    &  97                    & 31.18971              \\\\\n",
       "\t life\\_insurance       & Good                   & 214                    & 68.81029              \\\\\n",
       "\t no\\_available         & Bad                    &  54                    & 21.51394              \\\\\n",
       "\t no\\_available         & Good                   & 197                    & 78.48606              \\\\\n",
       "\t ownership\\_land\\_house & Bad                      &  59                      & 42.75362                \\\\\n",
       "\t ownership\\_land\\_house & Good                     &  79                      & 57.24638                \\\\\n",
       "\\end{tabular}\n"
      ],
      "text/markdown": [
       "\n",
       "Most.valuable.asset | Creditability | n | persen | \n",
       "|---|---|---|---|---|---|---|---|\n",
       "| car_other            | Bad                  |  60                  | 30.00000             | \n",
       "| car_other            | Good                 | 140                  | 70.00000             | \n",
       "| life_insurance       | Bad                  |  97                  | 31.18971             | \n",
       "| life_insurance       | Good                 | 214                  | 68.81029             | \n",
       "| no_available         | Bad                  |  54                  | 21.51394             | \n",
       "| no_available         | Good                 | 197                  | 78.48606             | \n",
       "| ownership_land_house | Bad                  |  59                  | 42.75362             | \n",
       "| ownership_land_house | Good                 |  79                  | 57.24638             | \n",
       "\n",
       "\n"
      ],
      "text/plain": [
       "  Most.valuable.asset  Creditability n   persen  \n",
       "1 car_other            Bad            60 30.00000\n",
       "2 car_other            Good          140 70.00000\n",
       "3 life_insurance       Bad            97 31.18971\n",
       "4 life_insurance       Good          214 68.81029\n",
       "5 no_available         Bad            54 21.51394\n",
       "6 no_available         Good          197 78.48606\n",
       "7 ownership_land_house Bad            59 42.75362\n",
       "8 ownership_land_house Good           79 57.24638"
      ]
     },
     "metadata": {},
     "output_type": "display_data"
    },
    {
     "data": {},
     "metadata": {},
     "output_type": "display_data"
    },
    {
     "data": {
      "image/png": "[encoded data removed]",
      "text/plain": [
       "plot without title"
      ]
     },
     "metadata": {},
     "output_type": "display_data"
    }
   ],
   "source": [
    "creditability1 %>%\n",
    "  count(Most.valuable.asset,Creditability) %>%\n",
    "  group_by(Most.valuable.asset) %>%\n",
    "  mutate(persen = 100*n/sum(n))\n",
    "\n",
    "#plot banyak credit yang baik dan buruk per Most.valuable.asset\n",
    "ggplot(creditability1, aes(x = Most.valuable.asset, fill = Creditability)) +\n",
    "  geom_bar()"
   ]
  },
  {
   "cell_type": "markdown",
   "metadata": {},
   "source": [
    "Insight 6: Orang yang memiliki jaminan kesehatan sebagai asetnya memiliki peringkat paling tinggi dalam perolehan skor terbaik dan paling banyak melakukan kredit"
   ]
  },
  {
   "cell_type": "markdown",
   "metadata": {},
   "source": [
    "Insight 7: Tetapi, aset jaminan kesehatan juga memiliki jumlah skor jelek yang banyak juga"
   ]
  },
  {
   "cell_type": "code",
   "execution_count": 5,
   "metadata": {},
   "outputs": [
    {
     "data": {
      "text/html": [
       "<table>\n",
       "<thead><tr><th scope=col>Foreign.Worker</th><th scope=col>Creditability</th><th scope=col>n</th><th scope=col>persen</th></tr></thead>\n",
       "<tbody>\n",
       "\t<tr><td>No       </td><td>Bad      </td><td>  2      </td><td> 7.407407</td></tr>\n",
       "\t<tr><td>No       </td><td>Good     </td><td> 25      </td><td>92.592593</td></tr>\n",
       "\t<tr><td>Yes      </td><td>Bad      </td><td>268      </td><td>30.698740</td></tr>\n",
       "\t<tr><td>Yes      </td><td>Good     </td><td>605      </td><td>69.301260</td></tr>\n",
       "</tbody>\n",
       "</table>\n"
      ],
      "text/latex": [
       "\\begin{tabular}{r|llll}\n",
       " Foreign.Worker & Creditability & n & persen\\\\\n",
       "\\hline\n",
       "\t No        & Bad       &   2       &  7.407407\\\\\n",
       "\t No        & Good      &  25       & 92.592593\\\\\n",
       "\t Yes       & Bad       & 268       & 30.698740\\\\\n",
       "\t Yes       & Good      & 605       & 69.301260\\\\\n",
       "\\end{tabular}\n"
      ],
      "text/markdown": [
       "\n",
       "Foreign.Worker | Creditability | n | persen | \n",
       "|---|---|---|---|\n",
       "| No        | Bad       |   2       |  7.407407 | \n",
       "| No        | Good      |  25       | 92.592593 | \n",
       "| Yes       | Bad       | 268       | 30.698740 | \n",
       "| Yes       | Good      | 605       | 69.301260 | \n",
       "\n",
       "\n"
      ],
      "text/plain": [
       "  Foreign.Worker Creditability n   persen   \n",
       "1 No             Bad             2  7.407407\n",
       "2 No             Good           25 92.592593\n",
       "3 Yes            Bad           268 30.698740\n",
       "4 Yes            Good          605 69.301260"
      ]
     },
     "metadata": {},
     "output_type": "display_data"
    },
    {
     "data": {},
     "metadata": {},
     "output_type": "display_data"
    },
    {
     "data": {
      "image/png": "[encoded data removed]",
      "text/plain": [
       "plot without title"
      ]
     },
     "metadata": {},
     "output_type": "display_data"
    }
   ],
   "source": [
    "creditability1 %>%\n",
    "  count(Foreign.Worker,Creditability) %>%\n",
    "  group_by(Foreign.Worker) %>%\n",
    "  mutate(persen = 100*n/sum(n))\n",
    "\n",
    "#plot banyak credit yang baik dan buruk per Foreign.Worker\n",
    "ggplot(creditability1, aes(x = Foreign.Worker, fill = Creditability)) +\n",
    "  geom_bar()"
   ]
  },
  {
   "cell_type": "markdown",
   "metadata": {},
   "source": [
    "Insight 8: Foreign worker merupakan pekerja yang paling banyak melakukan kredit daripada pekerja lokal dengan jumlah 873 dari 27"
   ]
  },
  {
   "cell_type": "code",
   "execution_count": 6,
   "metadata": {},
   "outputs": [
    {
     "data": {
      "text/html": [
       "<table>\n",
       "<thead><tr><th scope=col>Type.of.apartment</th><th scope=col>Creditability</th><th scope=col>n</th><th scope=col>persen</th></tr></thead>\n",
       "<tbody>\n",
       "\t<tr><td>free_apartement    </td><td>Bad                </td><td> 63                </td><td>38.65031           </td></tr>\n",
       "\t<tr><td>free_apartement    </td><td>Good               </td><td>100                </td><td>61.34969           </td></tr>\n",
       "\t<tr><td>owner_occupied_flat</td><td>Bad                </td><td> 37                </td><td>38.14433           </td></tr>\n",
       "\t<tr><td>owner_occupied_flat</td><td>Good               </td><td> 60                </td><td>61.85567           </td></tr>\n",
       "\t<tr><td>rented_flat        </td><td>Bad                </td><td>170                </td><td>26.56250           </td></tr>\n",
       "\t<tr><td>rented_flat        </td><td>Good               </td><td>470                </td><td>73.43750           </td></tr>\n",
       "</tbody>\n",
       "</table>\n"
      ],
      "text/latex": [
       "\\begin{tabular}{r|llll}\n",
       " Type.of.apartment & Creditability & n & persen\\\\\n",
       "\\hline\n",
       "\t free\\_apartement     & Bad                   &  63                   & 38.65031             \\\\\n",
       "\t free\\_apartement     & Good                  & 100                   & 61.34969             \\\\\n",
       "\t owner\\_occupied\\_flat & Bad                     &  37                     & 38.14433               \\\\\n",
       "\t owner\\_occupied\\_flat & Good                    &  60                     & 61.85567               \\\\\n",
       "\t rented\\_flat         & Bad                   & 170                   & 26.56250             \\\\\n",
       "\t rented\\_flat         & Good                  & 470                   & 73.43750             \\\\\n",
       "\\end{tabular}\n"
      ],
      "text/markdown": [
       "\n",
       "Type.of.apartment | Creditability | n | persen | \n",
       "|---|---|---|---|---|---|\n",
       "| free_apartement     | Bad                 |  63                 | 38.65031            | \n",
       "| free_apartement     | Good                | 100                 | 61.34969            | \n",
       "| owner_occupied_flat | Bad                 |  37                 | 38.14433            | \n",
       "| owner_occupied_flat | Good                |  60                 | 61.85567            | \n",
       "| rented_flat         | Bad                 | 170                 | 26.56250            | \n",
       "| rented_flat         | Good                | 470                 | 73.43750            | \n",
       "\n",
       "\n"
      ],
      "text/plain": [
       "  Type.of.apartment   Creditability n   persen  \n",
       "1 free_apartement     Bad            63 38.65031\n",
       "2 free_apartement     Good          100 61.34969\n",
       "3 owner_occupied_flat Bad            37 38.14433\n",
       "4 owner_occupied_flat Good           60 61.85567\n",
       "5 rented_flat         Bad           170 26.56250\n",
       "6 rented_flat         Good          470 73.43750"
      ]
     },
     "metadata": {},
     "output_type": "display_data"
    },
    {
     "data": {},
     "metadata": {},
     "output_type": "display_data"
    },
    {
     "data": {
      "image/png": "[encoded data removed]",
      "text/plain": [
       "plot without title"
      ]
     },
     "metadata": {},
     "output_type": "display_data"
    }
   ],
   "source": [
    "creditability1 %>%\n",
    "  count(Type.of.apartment,Creditability) %>%\n",
    "  group_by(Type.of.apartment) %>%\n",
    "  mutate(persen = 100*n/sum(n))\n",
    "\n",
    "#plot banyak credit yang baik dan buruk per Type.of.apartment\n",
    "ggplot(creditability1, aes(x = Type.of.apartment, fill = Creditability)) +\n",
    "  geom_bar()"
   ]
  },
  {
   "cell_type": "markdown",
   "metadata": {},
   "source": [
    "Insight 9: Orang yang menyewa sebuah apartemen flat lebih banyak melakukan kredit dengan jumlah 640 "
   ]
  },
  {
   "cell_type": "code",
   "execution_count": 7,
   "metadata": {},
   "outputs": [
    {
     "data": {
      "text/html": [
       "<table>\n",
       "<thead><tr><th scope=col>Type.of.apartment</th><th scope=col>Purpose</th><th scope=col>n</th><th scope=col>persen</th></tr></thead>\n",
       "<tbody>\n",
       "\t<tr><td>free_apartement     </td><td>household_appliances</td><td>  2                 </td><td> 1.2269939          </td></tr>\n",
       "\t<tr><td>free_apartement     </td><td>items_of_furniture  </td><td> 35                 </td><td>21.4723926          </td></tr>\n",
       "\t<tr><td>free_apartement     </td><td>new_car             </td><td> 21                 </td><td>12.8834356          </td></tr>\n",
       "\t<tr><td>free_apartement     </td><td>other               </td><td> 35                 </td><td>21.4723926          </td></tr>\n",
       "\t<tr><td>free_apartement     </td><td>radio_television    </td><td>  2                 </td><td> 1.2269939          </td></tr>\n",
       "\t<tr><td>free_apartement     </td><td>repair              </td><td>  6                 </td><td> 3.6809816          </td></tr>\n",
       "\t<tr><td>free_apartement     </td><td>retraining          </td><td> 16                 </td><td> 9.8159509          </td></tr>\n",
       "\t<tr><td>free_apartement     </td><td>used_car            </td><td> 45                 </td><td>27.6073620          </td></tr>\n",
       "\t<tr><td>free_apartement     </td><td>vacation            </td><td>  1                 </td><td> 0.6134969          </td></tr>\n",
       "\t<tr><td>owner_occupied_flat </td><td>business            </td><td>  3                 </td><td> 3.0927835          </td></tr>\n",
       "\t<tr><td>owner_occupied_flat </td><td>household_appliances</td><td>  3                 </td><td> 3.0927835          </td></tr>\n",
       "\t<tr><td>owner_occupied_flat </td><td>items_of_furniture  </td><td> 13                 </td><td>13.4020619          </td></tr>\n",
       "\t<tr><td>owner_occupied_flat </td><td>new_car             </td><td> 23                 </td><td>23.7113402          </td></tr>\n",
       "\t<tr><td>owner_occupied_flat </td><td>other               </td><td> 27                 </td><td>27.8350515          </td></tr>\n",
       "\t<tr><td>owner_occupied_flat </td><td>repair              </td><td> 13                 </td><td>13.4020619          </td></tr>\n",
       "\t<tr><td>owner_occupied_flat </td><td>retraining          </td><td>  4                 </td><td> 4.1237113          </td></tr>\n",
       "\t<tr><td>owner_occupied_flat </td><td>used_car            </td><td> 11                 </td><td>11.3402062          </td></tr>\n",
       "\t<tr><td>rented_flat         </td><td>business            </td><td>  8                 </td><td> 1.2500000          </td></tr>\n",
       "\t<tr><td>rented_flat         </td><td>household_appliances</td><td> 14                 </td><td> 2.1875000          </td></tr>\n",
       "\t<tr><td>rented_flat         </td><td>items_of_furniture  </td><td>211                 </td><td>32.9687500          </td></tr>\n",
       "\t<tr><td>rented_flat         </td><td>new_car             </td><td> 46                 </td><td> 7.1875000          </td></tr>\n",
       "\t<tr><td>rented_flat         </td><td>other               </td><td>145                 </td><td>22.6562500          </td></tr>\n",
       "\t<tr><td>rented_flat         </td><td>radio_television    </td><td> 10                 </td><td> 1.5625000          </td></tr>\n",
       "\t<tr><td>rented_flat         </td><td>repair              </td><td> 24                 </td><td> 3.7500000          </td></tr>\n",
       "\t<tr><td>rented_flat         </td><td>retraining          </td><td> 65                 </td><td>10.1562500          </td></tr>\n",
       "\t<tr><td>rented_flat         </td><td>used_car            </td><td>110                 </td><td>17.1875000          </td></tr>\n",
       "\t<tr><td>rented_flat         </td><td>vacation            </td><td>  7                 </td><td> 1.0937500          </td></tr>\n",
       "</tbody>\n",
       "</table>\n"
      ],
      "text/latex": [
       "\\begin{tabular}{r|llll}\n",
       " Type.of.apartment & Purpose & n & persen\\\\\n",
       "\\hline\n",
       "\t free\\_apartement      & household\\_appliances &   2                    &  1.2269939            \\\\\n",
       "\t free\\_apartement        & items\\_of\\_furniture   &  35                      & 21.4723926              \\\\\n",
       "\t free\\_apartement      & new\\_car              &  21                    & 12.8834356            \\\\\n",
       "\t free\\_apartement     & other                 &  35                   & 21.4723926           \\\\\n",
       "\t free\\_apartement      & radio\\_television     &   2                    &  1.2269939            \\\\\n",
       "\t free\\_apartement     & repair                &   6                   &  3.6809816           \\\\\n",
       "\t free\\_apartement     & retraining            &  16                   &  9.8159509           \\\\\n",
       "\t free\\_apartement      & used\\_car             &  45                    & 27.6073620            \\\\\n",
       "\t free\\_apartement     & vacation              &   1                   &  0.6134969           \\\\\n",
       "\t owner\\_occupied\\_flat & business                &   3                     &  3.0927835             \\\\\n",
       "\t owner\\_occupied\\_flat & household\\_appliances  &   3                     &  3.0927835             \\\\\n",
       "\t owner\\_occupied\\_flat  & items\\_of\\_furniture   &  13                      & 13.4020619              \\\\\n",
       "\t owner\\_occupied\\_flat & new\\_car               &  23                     & 23.7113402             \\\\\n",
       "\t owner\\_occupied\\_flat & other                   &  27                     & 27.8350515             \\\\\n",
       "\t owner\\_occupied\\_flat & repair                  &  13                     & 13.4020619             \\\\\n",
       "\t owner\\_occupied\\_flat & retraining              &   4                     &  4.1237113             \\\\\n",
       "\t owner\\_occupied\\_flat & used\\_car              &  11                     & 11.3402062             \\\\\n",
       "\t rented\\_flat         & business              &   8                   &  1.2500000           \\\\\n",
       "\t rented\\_flat          & household\\_appliances &  14                    &  2.1875000            \\\\\n",
       "\t rented\\_flat            & items\\_of\\_furniture   & 211                      & 32.9687500              \\\\\n",
       "\t rented\\_flat          & new\\_car              &  46                    &  7.1875000            \\\\\n",
       "\t rented\\_flat         & other                 & 145                   & 22.6562500           \\\\\n",
       "\t rented\\_flat          & radio\\_television     &  10                    &  1.5625000            \\\\\n",
       "\t rented\\_flat         & repair                &  24                   &  3.7500000           \\\\\n",
       "\t rented\\_flat         & retraining            &  65                   & 10.1562500           \\\\\n",
       "\t rented\\_flat          & used\\_car             & 110                    & 17.1875000            \\\\\n",
       "\t rented\\_flat         & vacation              &   7                   &  1.0937500           \\\\\n",
       "\\end{tabular}\n"
      ],
      "text/markdown": [
       "\n",
       "Type.of.apartment | Purpose | n | persen | \n",
       "|---|---|---|---|---|---|---|---|---|---|---|---|---|---|---|---|---|---|---|---|---|---|---|---|---|---|---|\n",
       "| free_apartement      | household_appliances |   2                  |  1.2269939           | \n",
       "| free_apartement      | items_of_furniture   |  35                  | 21.4723926           | \n",
       "| free_apartement      | new_car              |  21                  | 12.8834356           | \n",
       "| free_apartement      | other                |  35                  | 21.4723926           | \n",
       "| free_apartement      | radio_television     |   2                  |  1.2269939           | \n",
       "| free_apartement      | repair               |   6                  |  3.6809816           | \n",
       "| free_apartement      | retraining           |  16                  |  9.8159509           | \n",
       "| free_apartement      | used_car             |  45                  | 27.6073620           | \n",
       "| free_apartement      | vacation             |   1                  |  0.6134969           | \n",
       "| owner_occupied_flat  | business             |   3                  |  3.0927835           | \n",
       "| owner_occupied_flat  | household_appliances |   3                  |  3.0927835           | \n",
       "| owner_occupied_flat  | items_of_furniture   |  13                  | 13.4020619           | \n",
       "| owner_occupied_flat  | new_car              |  23                  | 23.7113402           | \n",
       "| owner_occupied_flat  | other                |  27                  | 27.8350515           | \n",
       "| owner_occupied_flat  | repair               |  13                  | 13.4020619           | \n",
       "| owner_occupied_flat  | retraining           |   4                  |  4.1237113           | \n",
       "| owner_occupied_flat  | used_car             |  11                  | 11.3402062           | \n",
       "| rented_flat          | business             |   8                  |  1.2500000           | \n",
       "| rented_flat          | household_appliances |  14                  |  2.1875000           | \n",
       "| rented_flat          | items_of_furniture   | 211                  | 32.9687500           | \n",
       "| rented_flat          | new_car              |  46                  |  7.1875000           | \n",
       "| rented_flat          | other                | 145                  | 22.6562500           | \n",
       "| rented_flat          | radio_television     |  10                  |  1.5625000           | \n",
       "| rented_flat          | repair               |  24                  |  3.7500000           | \n",
       "| rented_flat          | retraining           |  65                  | 10.1562500           | \n",
       "| rented_flat          | used_car             | 110                  | 17.1875000           | \n",
       "| rented_flat          | vacation             |   7                  |  1.0937500           | \n",
       "\n",
       "\n"
      ],
      "text/plain": [
       "   Type.of.apartment   Purpose              n   persen    \n",
       "1  free_apartement     household_appliances   2  1.2269939\n",
       "2  free_apartement     items_of_furniture    35 21.4723926\n",
       "3  free_apartement     new_car               21 12.8834356\n",
       "4  free_apartement     other                 35 21.4723926\n",
       "5  free_apartement     radio_television       2  1.2269939\n",
       "6  free_apartement     repair                 6  3.6809816\n",
       "7  free_apartement     retraining            16  9.8159509\n",
       "8  free_apartement     used_car              45 27.6073620\n",
       "9  free_apartement     vacation               1  0.6134969\n",
       "10 owner_occupied_flat business               3  3.0927835\n",
       "11 owner_occupied_flat household_appliances   3  3.0927835\n",
       "12 owner_occupied_flat items_of_furniture    13 13.4020619\n",
       "13 owner_occupied_flat new_car               23 23.7113402\n",
       "14 owner_occupied_flat other                 27 27.8350515\n",
       "15 owner_occupied_flat repair                13 13.4020619\n",
       "16 owner_occupied_flat retraining             4  4.1237113\n",
       "17 owner_occupied_flat used_car              11 11.3402062\n",
       "18 rented_flat         business               8  1.2500000\n",
       "19 rented_flat         household_appliances  14  2.1875000\n",
       "20 rented_flat         items_of_furniture   211 32.9687500\n",
       "21 rented_flat         new_car               46  7.1875000\n",
       "22 rented_flat         other                145 22.6562500\n",
       "23 rented_flat         radio_television      10  1.5625000\n",
       "24 rented_flat         repair                24  3.7500000\n",
       "25 rented_flat         retraining            65 10.1562500\n",
       "26 rented_flat         used_car             110 17.1875000\n",
       "27 rented_flat         vacation               7  1.0937500"
      ]
     },
     "metadata": {},
     "output_type": "display_data"
    },
    {
     "data": {},
     "metadata": {},
     "output_type": "display_data"
    },
    {
     "data": {
      "image/png": "[encoded data removed]",
      "text/plain": [
       "plot without title"
      ]
     },
     "metadata": {},
     "output_type": "display_data"
    }
   ],
   "source": [
    "creditability1 %>%\n",
    "  count(Type.of.apartment,Purpose) %>%\n",
    "  group_by(Type.of.apartment) %>%\n",
    "  mutate(persen = 100*n/sum(n))\n",
    "\n",
    "#plot banyak credit yang baik dan buruk per Type.of.apartment\n",
    "ggplot(creditability1, aes(x = Type.of.apartment, fill = Purpose)) +\n",
    "  geom_bar()"
   ]
  },
  {
   "cell_type": "markdown",
   "metadata": {},
   "source": [
    "Insight 10: Orang yang menyewa sebuah apartemen flat cenderung melakukan kredit untuk membeli sebuah furniture, jumlah ini terlihat dengan 211 orang yang melakukan hal itu"
   ]
  },
  {
   "cell_type": "code",
   "execution_count": 8,
   "metadata": {},
   "outputs": [
    {
     "data": {
      "text/html": [
       "<table>\n",
       "<thead><tr><th scope=col>Occupation</th><th scope=col>Creditability</th><th scope=col>n</th><th scope=col>persen</th></tr></thead>\n",
       "<tbody>\n",
       "\t<tr><td>executive              </td><td>Bad                    </td><td> 44                    </td><td>33.84615               </td></tr>\n",
       "\t<tr><td>executive              </td><td>Good                   </td><td> 86                    </td><td>66.15385               </td></tr>\n",
       "\t<tr><td>skilled_worker         </td><td>Bad                    </td><td>170                    </td><td>29.72028               </td></tr>\n",
       "\t<tr><td>skilled_worker         </td><td>Good                   </td><td>402                    </td><td>70.27972               </td></tr>\n",
       "\t<tr><td>unemployed_no_residence</td><td>Bad                    </td><td>  7                    </td><td>31.81818               </td></tr>\n",
       "\t<tr><td>unemployed_no_residence</td><td>Good                   </td><td> 15                    </td><td>68.18182               </td></tr>\n",
       "\t<tr><td>unskilled_residence    </td><td>Bad                    </td><td> 49                    </td><td>27.84091               </td></tr>\n",
       "\t<tr><td>unskilled_residence    </td><td>Good                   </td><td>127                    </td><td>72.15909               </td></tr>\n",
       "</tbody>\n",
       "</table>\n"
      ],
      "text/latex": [
       "\\begin{tabular}{r|llll}\n",
       " Occupation & Creditability & n & persen\\\\\n",
       "\\hline\n",
       "\t executive               & Bad                     &  44                     & 33.84615               \\\\\n",
       "\t executive               & Good                    &  86                     & 66.15385               \\\\\n",
       "\t skilled\\_worker          & Bad                       & 170                       & 29.72028                 \\\\\n",
       "\t skilled\\_worker          & Good                      & 402                       & 70.27972                 \\\\\n",
       "\t unemployed\\_no\\_residence & Bad                         &   7                         & 31.81818                   \\\\\n",
       "\t unemployed\\_no\\_residence & Good                        &  15                         & 68.18182                   \\\\\n",
       "\t unskilled\\_residence     & Bad                       &  49                       & 27.84091                 \\\\\n",
       "\t unskilled\\_residence     & Good                      & 127                       & 72.15909                 \\\\\n",
       "\\end{tabular}\n"
      ],
      "text/markdown": [
       "\n",
       "Occupation | Creditability | n | persen | \n",
       "|---|---|---|---|---|---|---|---|\n",
       "| executive               | Bad                     |  44                     | 33.84615                | \n",
       "| executive               | Good                    |  86                     | 66.15385                | \n",
       "| skilled_worker          | Bad                     | 170                     | 29.72028                | \n",
       "| skilled_worker          | Good                    | 402                     | 70.27972                | \n",
       "| unemployed_no_residence | Bad                     |   7                     | 31.81818                | \n",
       "| unemployed_no_residence | Good                    |  15                     | 68.18182                | \n",
       "| unskilled_residence     | Bad                     |  49                     | 27.84091                | \n",
       "| unskilled_residence     | Good                    | 127                     | 72.15909                | \n",
       "\n",
       "\n"
      ],
      "text/plain": [
       "  Occupation              Creditability n   persen  \n",
       "1 executive               Bad            44 33.84615\n",
       "2 executive               Good           86 66.15385\n",
       "3 skilled_worker          Bad           170 29.72028\n",
       "4 skilled_worker          Good          402 70.27972\n",
       "5 unemployed_no_residence Bad             7 31.81818\n",
       "6 unemployed_no_residence Good           15 68.18182\n",
       "7 unskilled_residence     Bad            49 27.84091\n",
       "8 unskilled_residence     Good          127 72.15909"
      ]
     },
     "metadata": {},
     "output_type": "display_data"
    },
    {
     "data": {},
     "metadata": {},
     "output_type": "display_data"
    },
    {
     "data": {
      "image/png": "[encoded data removed]",
      "text/plain": [
       "plot without title"
      ]
     },
     "metadata": {},
     "output_type": "display_data"
    }
   ],
   "source": [
    "creditability1 %>%\n",
    "  count(Occupation,Creditability) %>%\n",
    "  group_by(Occupation) %>%\n",
    "  mutate(persen = 100*n/sum(n))\n",
    "\n",
    "#plot banyak credit yang baik dan buruk per Occupation\n",
    "ggplot(creditability1, aes(x = Occupation, fill = Creditability)) +\n",
    "  geom_bar()"
   ]
  },
  {
   "cell_type": "markdown",
   "metadata": {},
   "source": [
    "Insight 11: Skilled worker memimpin jenis pekerjaan yang paling banyak melakukan kredit, yaitu sebanyak 640 dari 900"
   ]
  },
  {
   "cell_type": "code",
   "execution_count": 66,
   "metadata": {},
   "outputs": [
    {
     "data": {
      "text/html": [
       "0.0346853179263824"
      ],
      "text/latex": [
       "0.0346853179263824"
      ],
      "text/markdown": [
       "0.0346853179263824"
      ],
      "text/plain": [
       "[1] 0.03468532"
      ]
     },
     "metadata": {},
     "output_type": "display_data"
    }
   ],
   "source": [
    "# Nomor 2\n",
    "# Populasi account balance lebih dari 200 USD\n",
    "N1 <- filter(creditability, Account.Balance == \"4\") \n",
    "# Populasi banyak populasi N1 yang memiliki skor bagus\n",
    "X1 <- filter(N1, Creditability == 1)\n",
    "\n",
    "# Populasi account balance kurang dari 200 USD\n",
    "N2 <- filter(creditability, Account.Balance != \"4\") \n",
    "# Populasi banyak populasi N2 yang memiliki skor bagus\n",
    "X2 <- filter(N2, Creditability == 1)\n",
    "\n",
    "#Uji Hipotesis Proporsi\n",
    "prop1 = count(X1) / count(N1) #Proporsi banyaknya orang dengan kreditabilitas tinggi pada populasi A\n",
    "prop2 = count(X2) / count(N2) #Proporsi banyaknya orang dengan kreditabilitas tinggi pada populasi B\n",
    "#Nilai p yang ditaksir, yaitu p.\n",
    "p = 0.25\n",
    "\n",
    "#rumus\n",
    "uji = ((prop1 - prop2) - p) / sqrt(((prop1*(1-prop1))/count(N1))+((prop2*(1-prop2))/count(N2)))\n",
    "\n",
    "pValue_greater = pnorm(uji$n, mean=0, sd=1, lower.tail=FALSE) #H0 ditolak jika pValue < Alfa\n",
    "pValue_greater\n",
    "#H0 ditolak dan H1 diterima"
   ]
  },
  {
   "cell_type": "code",
   "execution_count": 72,
   "metadata": {},
   "outputs": [
    {
     "data": {
      "text/html": [
       "0"
      ],
      "text/latex": [
       "0"
      ],
      "text/markdown": [
       "0"
      ],
      "text/plain": [
       "[1] 0"
      ]
     },
     "metadata": {},
     "output_type": "display_data"
    },
    {
     "data": {
      "image/png": "[encoded data removed]",
      "text/plain": [
       "Plot with title \"density.default(x = selisih)\""
      ]
     },
     "metadata": {},
     "output_type": "display_data"
    }
   ],
   "source": [
    "#Re-sampling\n",
    "set.seed(17)\n",
    "simulasi <- 2000\n",
    "# Melakukan replikasi\n",
    "R1 <- replicate(simulasi, mean(sample(N1$Creditability, length(N1$Creditability), replace=TRUE)))\n",
    "# Tingkat kredibilitas\n",
    "XR1 <- R1/length(N1$Creditability)*100\n",
    "# Melakukan replikasi\n",
    "R2 <- replicate(simulasi, mean(sample(N2$Creditability, length(N2$Creditability), replace=TRUE)))\n",
    "# Tingkat kredibilitas\n",
    "XR2 <- R2/length(N2$Creditability)*100\n",
    "\n",
    "selisih <- XR1 - XR2\n",
    "plot(density(selisih))\n",
    "\n",
    "greater_than_25 <- selisih >= 25\n",
    "sum(greater_than_25)/2000"
   ]
  },
  {
   "cell_type": "code",
   "execution_count": 73,
   "metadata": {},
   "outputs": [
    {
     "data": {
      "text/plain": [
       "\n",
       "\tOne Sample t-test\n",
       "\n",
       "data:  N1$Credit.Amount\n",
       "t = 23.086, df = 362, p-value < 2.2e-16\n",
       "alternative hypothesis: true mean is not equal to 0\n",
       "95 percent confidence interval:\n",
       " 2862.668 3395.789\n",
       "sample estimates:\n",
       "mean of x \n",
       " 3129.229 \n"
      ]
     },
     "metadata": {},
     "output_type": "display_data"
    }
   ],
   "source": [
    "#nomor 3\n",
    "#mencari confidence interval dari banyak credit yang dilakukan oleh orang yang berpenghasilan lebih dari 200USD\n",
    "t.test(N1$Credit.Amount)\n",
    "# interval berada pada 2862.668 - 3395.789"
   ]
  }
 ],
 "metadata": {
  "kernelspec": {
   "display_name": "R",
   "language": "R",
   "name": "ir"
  },
  "language_info": {
   "codemirror_mode": "r",
   "file_extension": ".r",
   "mimetype": "text/x-r-source",
   "name": "R",
   "pygments_lexer": "r",
   "version": "3.4.3"
  }
 },
 "nbformat": 4,
 "nbformat_minor": 2
}
