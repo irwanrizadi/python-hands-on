{
 "cells": [
  {
   "cell_type": "code",
   "execution_count": 2,
   "metadata": {},
   "outputs": [
    {
     "data": {
      "text/html": [
       "0.401293674317076"
      ],
      "text/latex": [
       "0.401293674317076"
      ],
      "text/markdown": [
       "0.401293674317076"
      ],
      "text/plain": [
       "[1] 0.4012937"
      ]
     },
     "metadata": {},
     "output_type": "display_data"
    }
   ],
   "source": [
    "pnorm(2.5, mean=3, sd=2)"
   ]
  },
  {
   "cell_type": "code",
   "execution_count": 26,
   "metadata": {},
   "outputs": [
    {
     "data": {
      "text/html": [
       "<table>\n",
       "<thead><tr><th scope=col>Survived</th><th scope=col>Pclass</th><th scope=col>Name</th><th scope=col>Sex</th><th scope=col>Age</th><th scope=col>Siblings.Spouses.Aboard</th><th scope=col>Parents.Children.Aboard</th><th scope=col>Fare</th></tr></thead>\n",
       "<tbody>\n",
       "\t<tr><td>0                                                 </td><td>3                                                 </td><td>Mr. Owen Harris Braund                            </td><td>male                                              </td><td>22                                                </td><td>1                                                 </td><td>0                                                 </td><td> 7.2500                                           </td></tr>\n",
       "\t<tr><td>1                                                 </td><td>1                                                 </td><td>Mrs. John Bradley (Florence Briggs Thayer) Cumings</td><td>female                                            </td><td>38                                                </td><td>1                                                 </td><td>0                                                 </td><td>71.2833                                           </td></tr>\n",
       "\t<tr><td>1                                                 </td><td>3                                                 </td><td>Miss. Laina Heikkinen                             </td><td>female                                            </td><td>26                                                </td><td>0                                                 </td><td>0                                                 </td><td> 7.9250                                           </td></tr>\n",
       "\t<tr><td>1                                                 </td><td>1                                                 </td><td>Mrs. Jacques Heath (Lily May Peel) Futrelle       </td><td>female                                            </td><td>35                                                </td><td>1                                                 </td><td>0                                                 </td><td>53.1000                                           </td></tr>\n",
       "\t<tr><td>0                                                 </td><td>3                                                 </td><td>Mr. William Henry Allen                           </td><td>male                                              </td><td>35                                                </td><td>0                                                 </td><td>0                                                 </td><td> 8.0500                                           </td></tr>\n",
       "\t<tr><td>0                                                 </td><td>3                                                 </td><td>Mr. James Moran                                   </td><td>male                                              </td><td>27                                                </td><td>0                                                 </td><td>0                                                 </td><td> 8.4583                                           </td></tr>\n",
       "</tbody>\n",
       "</table>\n"
      ],
      "text/latex": [
       "\\begin{tabular}{r|llllllll}\n",
       " Survived & Pclass & Name & Sex & Age & Siblings.Spouses.Aboard & Parents.Children.Aboard & Fare\\\\\n",
       "\\hline\n",
       "\t 0                                                  & 3                                                  & Mr. Owen Harris Braund                             & male                                               & 22                                                 & 1                                                  & 0                                                  &  7.2500                                           \\\\\n",
       "\t 1                                                  & 1                                                  & Mrs. John Bradley (Florence Briggs Thayer) Cumings & female                                             & 38                                                 & 1                                                  & 0                                                  & 71.2833                                           \\\\\n",
       "\t 1                                                  & 3                                                  & Miss. Laina Heikkinen                              & female                                             & 26                                                 & 0                                                  & 0                                                  &  7.9250                                           \\\\\n",
       "\t 1                                                  & 1                                                  & Mrs. Jacques Heath (Lily May Peel) Futrelle        & female                                             & 35                                                 & 1                                                  & 0                                                  & 53.1000                                           \\\\\n",
       "\t 0                                                  & 3                                                  & Mr. William Henry Allen                            & male                                               & 35                                                 & 0                                                  & 0                                                  &  8.0500                                           \\\\\n",
       "\t 0                                                  & 3                                                  & Mr. James Moran                                    & male                                               & 27                                                 & 0                                                  & 0                                                  &  8.4583                                           \\\\\n",
       "\\end{tabular}\n"
      ],
      "text/markdown": [
       "\n",
       "Survived | Pclass | Name | Sex | Age | Siblings.Spouses.Aboard | Parents.Children.Aboard | Fare | \n",
       "|---|---|---|---|---|---|\n",
       "| 0                                                  | 3                                                  | Mr. Owen Harris Braund                             | male                                               | 22                                                 | 1                                                  | 0                                                  |  7.2500                                            | \n",
       "| 1                                                  | 1                                                  | Mrs. John Bradley (Florence Briggs Thayer) Cumings | female                                             | 38                                                 | 1                                                  | 0                                                  | 71.2833                                            | \n",
       "| 1                                                  | 3                                                  | Miss. Laina Heikkinen                              | female                                             | 26                                                 | 0                                                  | 0                                                  |  7.9250                                            | \n",
       "| 1                                                  | 1                                                  | Mrs. Jacques Heath (Lily May Peel) Futrelle        | female                                             | 35                                                 | 1                                                  | 0                                                  | 53.1000                                            | \n",
       "| 0                                                  | 3                                                  | Mr. William Henry Allen                            | male                                               | 35                                                 | 0                                                  | 0                                                  |  8.0500                                            | \n",
       "| 0                                                  | 3                                                  | Mr. James Moran                                    | male                                               | 27                                                 | 0                                                  | 0                                                  |  8.4583                                            | \n",
       "\n",
       "\n"
      ],
      "text/plain": [
       "  Survived Pclass Name                                               Sex    Age\n",
       "1 0        3      Mr. Owen Harris Braund                             male   22 \n",
       "2 1        1      Mrs. John Bradley (Florence Briggs Thayer) Cumings female 38 \n",
       "3 1        3      Miss. Laina Heikkinen                              female 26 \n",
       "4 1        1      Mrs. Jacques Heath (Lily May Peel) Futrelle        female 35 \n",
       "5 0        3      Mr. William Henry Allen                            male   35 \n",
       "6 0        3      Mr. James Moran                                    male   27 \n",
       "  Siblings.Spouses.Aboard Parents.Children.Aboard Fare   \n",
       "1 1                       0                        7.2500\n",
       "2 1                       0                       71.2833\n",
       "3 0                       0                        7.9250\n",
       "4 1                       0                       53.1000\n",
       "5 0                       0                        8.0500\n",
       "6 0                       0                        8.4583"
      ]
     },
     "metadata": {},
     "output_type": "display_data"
    }
   ],
   "source": [
    "data <- read.csv(\"titanic.csv\")\n",
    "head(data)"
   ]
  },
  {
   "cell_type": "code",
   "execution_count": 33,
   "metadata": {},
   "outputs": [],
   "source": [
    "#untuk conversi data\n",
    "data['Survived'] <- as.character(data['Survived'])\n",
    "data['Pclass'] <- as.character(data['Pclass'])"
   ]
  },
  {
   "cell_type": "code",
   "execution_count": 34,
   "metadata": {},
   "outputs": [
    {
     "data": {
      "text/plain": [
       "   Survived            Pclass                                          Name    \n",
       " Length:887         Length:887         Capt. Edward Gifford Crosby       :  1  \n",
       " Class :character   Class :character   Col. John Weir                    :  1  \n",
       " Mode  :character   Mode  :character   Col. Oberst Alfons Simonius-Blumer:  1  \n",
       "                                       Don. Manuel E Uruchurtu           :  1  \n",
       "                                       Dr. Alfred Pain                   :  1  \n",
       "                                       Dr. Alice (Farnham) Leader        :  1  \n",
       "                                       (Other)                           :881  \n",
       "     Sex           Age        Siblings.Spouses.Aboard Parents.Children.Aboard\n",
       " female:314   Min.   : 0.42   Min.   :0.0000          Min.   :0.0000         \n",
       " male  :573   1st Qu.:20.25   1st Qu.:0.0000          1st Qu.:0.0000         \n",
       "              Median :28.00   Median :0.0000          Median :0.0000         \n",
       "              Mean   :29.47   Mean   :0.5254          Mean   :0.3833         \n",
       "              3rd Qu.:38.00   3rd Qu.:1.0000          3rd Qu.:0.0000         \n",
       "              Max.   :80.00   Max.   :8.0000          Max.   :6.0000         \n",
       "                                                                             \n",
       "      Fare        \n",
       " Min.   :  0.000  \n",
       " 1st Qu.:  7.925  \n",
       " Median : 14.454  \n",
       " Mean   : 32.305  \n",
       " 3rd Qu.: 31.137  \n",
       " Max.   :512.329  \n",
       "                  "
      ]
     },
     "metadata": {},
     "output_type": "display_data"
    }
   ],
   "source": [
    "summary(data)"
   ]
  },
  {
   "cell_type": "code",
   "execution_count": 35,
   "metadata": {},
   "outputs": [
    {
     "data": {
      "text/plain": [
       " Siblings.Spouses.Aboard\n",
       " Min.   :0.0000         \n",
       " 1st Qu.:0.0000         \n",
       " Median :0.0000         \n",
       " Mean   :0.5254         \n",
       " 3rd Qu.:1.0000         \n",
       " Max.   :8.0000         "
      ]
     },
     "metadata": {},
     "output_type": "display_data"
    }
   ],
   "source": [
    "summary(data['Siblings.Spouses.Aboard'])"
   ]
  }
 ],
 "metadata": {
  "kernelspec": {
   "display_name": "R",
   "language": "R",
   "name": "ir"
  },
  "language_info": {
   "codemirror_mode": "r",
   "file_extension": ".r",
   "mimetype": "text/x-r-source",
   "name": "R",
   "pygments_lexer": "r",
   "version": "3.4.3"
  }
 },
 "nbformat": 4,
 "nbformat_minor": 2
}
